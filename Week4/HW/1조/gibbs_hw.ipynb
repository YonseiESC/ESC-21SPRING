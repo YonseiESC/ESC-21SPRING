{
 "cells": [
  {
   "cell_type": "markdown",
   "metadata": {
    "id": "z97Su1tiaTJF"
   },
   "source": [
    "### Plotting utils  \n",
    "\\- 그림을 그리기 위한 코드이니 참고만 해주세요!  \n",
    "\\- Bivariate Normal Distribution의 ellipse를 그리고 좌표 찍어주는 Plotting tool입니다."
   ]
  },
  {
   "cell_type": "code",
   "execution_count": 59,
   "metadata": {
    "ExecuteTime": {
     "end_time": "2021-03-20T15:17:10.241465Z",
     "start_time": "2021-03-20T15:17:09.585794Z"
    },
    "id": "vQRytDk0aTJT"
   },
   "outputs": [],
   "source": [
    "import numpy as np\n",
    "import matplotlib.pyplot as plt\n",
    "from matplotlib.patches import Ellipse\n",
    "import matplotlib.transforms as transforms\n",
    "\n",
    "def plot_gaussian_from_points(x, y, ax, n_std=3.0, facecolor='none', **kwargs):\n",
    "    \"\"\"\n",
    "    Create a plot of the covariance confidence ellipse of *x* and *y*.\n",
    "    Parameters\n",
    "    ----------\n",
    "    x, y : array-like, shape (n, )\n",
    "        Input data.\n",
    "    ax : matplotlib.axes.Axes\n",
    "        The axes object to draw the ellipse into.\n",
    "    n_std : float\n",
    "        The number of standard deviations to determine the ellipse's radiuses.\n",
    "    Returns\n",
    "    -------\n",
    "    matplotlib.patches.Ellipse\n",
    "    Other parameters\n",
    "    ----------------\n",
    "    kwargs : `~matplotlib.patches.Patch` properties\n",
    "    \"\"\"\n",
    "    if len(x) != len(y):\n",
    "        raise ValueError(\"x and y must be the same size\")\n",
    "    if len(x) < 2:\n",
    "        raise ValueError(\"Need more data.\")\n",
    "    cov = np.cov(x, y)\n",
    "    pearson = cov[0, 1]/np.sqrt(cov[0, 0] * cov[1, 1])\n",
    "    # Using a special case to obtain the eigenvalues of this\n",
    "    # two-dimensionl dataset.\n",
    "    ell_radius_x = np.sqrt(1 + pearson)\n",
    "    ell_radius_y = np.sqrt(1 - pearson)\n",
    "    ellipse = Ellipse((0, 0),\n",
    "        width=ell_radius_x * 2,\n",
    "        height=ell_radius_y * 2,\n",
    "        facecolor=facecolor,\n",
    "        **kwargs)\n",
    "\n",
    "    # Calculating the stdandard deviation of x from\n",
    "    # the squareroot of the variance and multiplying\n",
    "    # with the given number of standard deviations.\n",
    "    scale_x = np.sqrt(cov[0, 0]) * n_std\n",
    "    mean_x = np.mean(x)\n",
    "\n",
    "    # calculating the stdandard deviation of y ...\n",
    "    scale_y = np.sqrt(cov[1, 1]) * n_std\n",
    "    mean_y = np.mean(y)\n",
    "\n",
    "    transf = transforms.Affine2D() \\\n",
    "        .rotate_deg(45) \\\n",
    "        .scale(scale_x, scale_y) \\\n",
    "        .translate(mean_x, mean_y)\n",
    "\n",
    "    ellipse.set_transform(transf + ax.transData)\n",
    "    return ax.add_patch(ellipse)\n",
    "\n",
    "def plot_gaussian_from_parameters(mean, cov, ax, n_std=3.0, facecolor='none', **kwargs):\n",
    "    \"\"\"\n",
    "    Create a plot of the covariance confidence ellipse of *x* and *y*.\n",
    "    Parameters\n",
    "    ----------\n",
    "\tmean : array-like, shape (2, )\n",
    "    \tMean vector\n",
    "    cov : array-like, shape (2,2)\n",
    "    \tCovariance matrix\n",
    "    ax : matplotlib.axes.Axes\n",
    "        The axes object to draw the ellipse into.\n",
    "    n_std : float\n",
    "        The number of standard deviations to determine the ellipse's radiuses.\n",
    "    Returns\n",
    "    -------\n",
    "    matplotlib.patches.Ellipse\n",
    "    Other parameters\n",
    "    ----------------\n",
    "    kwargs : `~matplotlib.patches.Patch` properties\n",
    "    \"\"\"\n",
    "    if len(mean) != 2:\n",
    "        raise ValueError(\"Mean vector length should be 2.\")\n",
    "    if (cov.shape != (2, 2)):\n",
    "    \traise ValueError(\"Covariance should be a 2x2 matrix.\")\n",
    "    #checking if cov is symmetric pos semidefinite\n",
    "    if(cov[0, 1] != cov[1, 0]):\n",
    "        raise ValueError(\"Covariance should be symmetric.\")\n",
    "    if(cov[0, 0] < 0 or cov[0, 0]*cov[1,1] - cov[0,1]**2 < 0):\n",
    "        raise ValueError(\"Covariance should be positive semidefinite.\")\n",
    "\n",
    "    pearson = cov[0, 1]/np.sqrt(cov[0, 0] * cov[1, 1])\n",
    "    # Using a special case to obtain the eigenvalues of this\n",
    "    # two-dimensionl dataset.\n",
    "    ell_radius_x = np.sqrt(1 + pearson)\n",
    "    ell_radius_y = np.sqrt(1 - pearson)\n",
    "    ellipse = Ellipse((0, 0),\n",
    "        width=ell_radius_x * 2,\n",
    "        height=ell_radius_y * 2,\n",
    "        facecolor=facecolor,\n",
    "        **kwargs)\n",
    "\n",
    "    # Calculating the stdandard deviation of x from\n",
    "    # the squareroot of the variance and multiplying\n",
    "    # with the given number of standard deviations.\n",
    "    scale_x = np.sqrt(cov[0, 0]) * n_std\n",
    "    mean_x = mean[0]\n",
    "\n",
    "    # calculating the stdandard deviation of y ...\n",
    "    scale_y = np.sqrt(cov[1, 1]) * n_std\n",
    "    mean_y = mean[1]\n",
    "\n",
    "    transf = transforms.Affine2D() \\\n",
    "        .rotate_deg(45) \\\n",
    "        .scale(scale_x, scale_y) \\\n",
    "        .translate(mean_x, mean_y)\n",
    "\n",
    "    ellipse.set_transform(transf + ax.transData)\n",
    "    return ax.add_patch(ellipse)\n",
    "\n",
    "\n",
    "# from random import random\n",
    "\n",
    "# x = np.array([random()*5 for i in range(500)])\n",
    "# y = np.array([random()*5 for i in range(500)])\n",
    "# fig = plt.figure()\n",
    "# ax = fig.add_axes([0,0,1,1])\n",
    "# ax.scatter(x, y)\n",
    "# print(plot_gaussian_from_points(x, y, ax, n_std=1, edgecolor='red'))\n",
    "# #print(plot_gaussian_from_parameters(np.array([2.5, 2.5]), np.cov(x, y), ax, n_std=1, edgecolor='red'))\n",
    "# plt.show()"
   ]
  },
  {
   "cell_type": "markdown",
   "metadata": {
    "id": "YTsdH0HdaTJX"
   },
   "source": [
    "### Gibbs Sampling Mechanism (.gif 생성)"
   ]
  },
  {
   "cell_type": "code",
   "execution_count": 64,
   "metadata": {
    "ExecuteTime": {
     "end_time": "2021-03-20T15:17:10.270245Z",
     "start_time": "2021-03-20T15:17:10.244904Z"
    },
    "id": "p-UHzBCgaTJY"
   },
   "outputs": [
    {
     "name": "stdout",
     "output_type": "stream",
     "text": [
      "Requirement already up-to-date: gif in c:\\users\\yujinjeong\\anaconda3\\lib\\site-packages (3.0.0)\n",
      "Requirement already satisfied, skipping upgrade: Pillow>=7.1.2 in c:\\users\\yujinjeong\\anaconda3\\lib\\site-packages (from gif) (8.1.2)\n",
      "Requirement already satisfied: gif[matplotlib] in c:\\users\\yujinjeong\\anaconda3\\lib\\site-packages (3.0.0)\n",
      "Requirement already satisfied: Pillow>=7.1.2 in c:\\users\\yujinjeong\\anaconda3\\lib\\site-packages (from gif[matplotlib]) (8.1.2)\n",
      "Requirement already satisfied: matplotlib>=3.1.0; extra == \"matplotlib\" in c:\\users\\yujinjeong\\anaconda3\\lib\\site-packages (from gif[matplotlib]) (3.1.3)\n",
      "Requirement already satisfied: numpy>=1.11 in c:\\users\\yujinjeong\\anaconda3\\lib\\site-packages (from matplotlib>=3.1.0; extra == \"matplotlib\"->gif[matplotlib]) (1.18.1)\n",
      "Requirement already satisfied: python-dateutil>=2.1 in c:\\users\\yujinjeong\\anaconda3\\lib\\site-packages (from matplotlib>=3.1.0; extra == \"matplotlib\"->gif[matplotlib]) (2.8.1)\n",
      "Requirement already satisfied: cycler>=0.10 in c:\\users\\yujinjeong\\anaconda3\\lib\\site-packages (from matplotlib>=3.1.0; extra == \"matplotlib\"->gif[matplotlib]) (0.10.0)\n",
      "Requirement already satisfied: pyparsing!=2.0.4,!=2.1.2,!=2.1.6,>=2.0.1 in c:\\users\\yujinjeong\\anaconda3\\lib\\site-packages (from matplotlib>=3.1.0; extra == \"matplotlib\"->gif[matplotlib]) (2.4.6)\n",
      "Requirement already satisfied: kiwisolver>=1.0.1 in c:\\users\\yujinjeong\\anaconda3\\lib\\site-packages (from matplotlib>=3.1.0; extra == \"matplotlib\"->gif[matplotlib]) (1.1.0)\n",
      "Requirement already satisfied: six>=1.5 in c:\\users\\yujinjeong\\anaconda3\\lib\\site-packages (from python-dateutil>=2.1->matplotlib>=3.1.0; extra == \"matplotlib\"->gif[matplotlib]) (1.14.0)\n",
      "Requirement already satisfied: setuptools in c:\\users\\yujinjeong\\anaconda3\\lib\\site-packages (from kiwisolver>=1.0.1->matplotlib>=3.1.0; extra == \"matplotlib\"->gif[matplotlib]) (45.2.0.post20200210)\n"
     ]
    }
   ],
   "source": [
    "import numpy as np\n",
    "import matplotlib.pyplot as plt\n",
    "\n",
    "# gif 가 잘 안 읽히신다면 아래 코드로 설치해주세요\n",
    "!pip install -U gif\n",
    "!pip install \"gif[matplotlib]\"\n",
    "from IPython.display import Image\n",
    "from random import random"
   ]
  },
  {
   "cell_type": "markdown",
   "metadata": {
    "id": "xuIAvUihaTJZ"
   },
   "source": [
    "**요기 아래 두 개 블록이 핵심입니다 (conditional_sampler, gibbs_sampler)**  \n",
    "###**HW**\n",
    "conditional_sampler \"#채워주세요!\" 부분 code 작성해주시면 됩니다."
   ]
  },
  {
   "cell_type": "markdown",
   "metadata": {
    "id": "fk8Jxn_GaTJa"
   },
   "source": [
    "$p(x_0|x_1) \\ \\sim \\ N(\\mu_0 + \\Sigma_{01}\\Sigma_{11}^{-1}(x_1-\\mu_1), \\Sigma_{00}-\\dfrac{\\Sigma_{01}^{2}}{\\Sigma_{11}})$ \n",
    "임을 이용하여 conditional sampler를 다음과 같이 구현할 수 있다."
   ]
  },
  {
   "cell_type": "code",
   "execution_count": 66,
   "metadata": {
    "ExecuteTime": {
     "end_time": "2021-03-20T15:17:10.298378Z",
     "start_time": "2021-03-20T15:17:10.283793Z"
    },
    "id": "hnxMH-7GaTJb"
   },
   "outputs": [],
   "source": [
    "def conditional_sampler(sampling_index, current_x, mean, cov):\n",
    "    conditioned_index = 1 - sampling_index # 두 r.v. 중에 뭘 sampling할지 결정\n",
    "    a = cov[sampling_index, sampling_index] # Sigma00\n",
    "    b = cov[sampling_index, conditioned_index]  # Sigma01\n",
    "    c = cov[conditioned_index, conditioned_index]  # Sigma11\n",
    "    \n",
    "    mu = mean[sampling_index]+(b*current_x[conditioned_index]-mean[conditioned_index])/c\n",
    "    sigma = np.sqrt(a-(b**2)/c)\n",
    "    new_x = np.copy(current_x)\n",
    "    new_x[sampling_index] = np.random.randn()*sigma + mu\n",
    "    # [x_0, x_1] 꼴의 1x2 np.array를 return\n",
    "    return new_x"
   ]
  },
  {
   "cell_type": "markdown",
   "metadata": {
    "id": "5km9apHjaTJb"
   },
   "source": [
    "한 차원 단위로 sampling 한다는 것은 $p(x_0|x_1)$로부터 $x_0$을 뽑고, $p(x_1|x_0)$로부터 $x_1$를 뽑는 것을 반복하여 $(x_0, x_1)$의 sample을 generate하는 것으로 이해하면 된다.  \n",
    "  \n",
    "이제 $\\mu, \\Sigma$가 input으로 주어진 상황에서 Gibbs Sampler를 이용해 표본을 추출할 때 원래의 모분포에 점점 수렴하는 방식으로 scatter plot이 찍히고 ellipse가 변화하는 것을 볼 수 있다. (여기서 ellipse는 joint distribution의 대략적인 structure를 나타내는 것)"
   ]
  },
  {
   "cell_type": "markdown",
   "metadata": {
    "id": "I1X8gl0tcapQ"
   },
   "source": [
    "##**HW**\n",
    "여기에서는 첫번째 sample[0] 자리에 initial point로 설정한 변수를 넣으시면 됩니다! 시간이 조금 걸리실 수 있지만 마지막에 함수를 실행하실 때 initial point를 [-0.9,-0.9]가 아닌 다른 값으로 넣어서 관찰해보시면 좋을 것 같아요!"
   ]
  },
  {
   "cell_type": "code",
   "execution_count": 67,
   "metadata": {
    "ExecuteTime": {
     "end_time": "2021-03-20T15:17:10.357076Z",
     "start_time": "2021-03-20T15:17:10.304019Z"
    },
    "id": "i89Kc_HGaTJc"
   },
   "outputs": [],
   "source": [
    "def gibbs_sampler(initial_point, num_samples, mean, cov, create_gif=True):\n",
    "    \"\"\"\n",
    "    [input 형태]\n",
    "    initial_point = [x_0, x_1] = [-9.0, -9.0]\n",
    "    num_samples = 100\n",
    "    mean = np.array([0, 0])\n",
    "    cov = np.array([[10, 3], \n",
    "                    [3, 5]])\n",
    "    \"\"\"\n",
    "    frames = []  # for GIF\n",
    "    point = np.array(initial_point)\n",
    "    samples = np.empty([num_samples+1, 2])  # sampled points\n",
    "    samples[0] = point\n",
    "    tmp_points = np.empty([num_samples, 2]) # inbetween points (중간저장소)\n",
    "\n",
    "    for i in range(num_samples):\n",
    "        # 요 for loop이 gibbs sampler 핵심\n",
    "        # point = [x_0, x_1]\n",
    "        \n",
    "        # Sample from p(x_0|x_1)\n",
    "        point = conditional_sampler(0, point, mean, cov)\n",
    "        tmp_points[i] = point\n",
    "        if(create_gif):\n",
    "            frames.append(plot_samples(samples, i+1, tmp_points, i+1, title=\"Num Samples: \" + str(i)))\n",
    "            \n",
    "        # Sample from p(x_1|x_0)\n",
    "        point = conditional_sampler(1, point, mean, cov)\n",
    "        samples[i+1] = point\n",
    "        if(create_gif):\n",
    "            frames.append(plot_samples(samples, i+2, tmp_points, i+1, title=\"Num Samples: \" + str(i+1)))\n",
    "            \n",
    "    if(create_gif):\n",
    "        return samples, tmp_points, frames\n",
    "    else:\n",
    "        return samples, tmp_points"
   ]
  },
  {
   "cell_type": "code",
   "execution_count": 68,
   "metadata": {
    "ExecuteTime": {
     "end_time": "2021-03-20T15:17:10.396955Z",
     "start_time": "2021-03-20T15:17:10.370128Z"
    },
    "id": "O__pTTrzaTJe"
   },
   "outputs": [
    {
     "ename": "NameError",
     "evalue": "name 'gif' is not defined",
     "output_type": "error",
     "traceback": [
      "\u001b[1;31m---------------------------------------------------------------------------\u001b[0m",
      "\u001b[1;31mNameError\u001b[0m                                 Traceback (most recent call last)",
      "\u001b[1;32m<ipython-input-68-0e7cd6a37d6c>\u001b[0m in \u001b[0;36m<module>\u001b[1;34m\u001b[0m\n\u001b[1;32m----> 1\u001b[1;33m \u001b[1;33m@\u001b[0m\u001b[0mgif\u001b[0m\u001b[1;33m.\u001b[0m\u001b[0mframe\u001b[0m\u001b[1;33m\u001b[0m\u001b[1;33m\u001b[0m\u001b[0m\n\u001b[0m\u001b[0;32m      2\u001b[0m \u001b[1;32mdef\u001b[0m \u001b[0mplot_samples\u001b[0m\u001b[1;33m(\u001b[0m\u001b[0msamples\u001b[0m\u001b[1;33m,\u001b[0m \u001b[0mnum_samples\u001b[0m\u001b[1;33m,\u001b[0m \u001b[0mtmp_points\u001b[0m\u001b[1;33m,\u001b[0m \u001b[0mnum_tmp\u001b[0m\u001b[1;33m,\u001b[0m \u001b[0mtitle\u001b[0m\u001b[1;33m=\u001b[0m\u001b[1;34m\"Gibbs Sampling\"\u001b[0m\u001b[1;33m,\u001b[0m \u001b[0mxlims\u001b[0m\u001b[1;33m=\u001b[0m\u001b[1;33m(\u001b[0m\u001b[1;33m-\u001b[0m\u001b[1;36m11\u001b[0m\u001b[1;33m,\u001b[0m \u001b[1;36m11\u001b[0m\u001b[1;33m)\u001b[0m\u001b[1;33m,\u001b[0m \u001b[0mylims\u001b[0m\u001b[1;33m=\u001b[0m\u001b[1;33m(\u001b[0m\u001b[1;33m-\u001b[0m\u001b[1;36m11\u001b[0m\u001b[1;33m,\u001b[0m \u001b[1;36m11\u001b[0m\u001b[1;33m)\u001b[0m\u001b[1;33m)\u001b[0m\u001b[1;33m:\u001b[0m\u001b[1;33m\u001b[0m\u001b[1;33m\u001b[0m\u001b[0m\n\u001b[0;32m      3\u001b[0m     \u001b[0mfig\u001b[0m \u001b[1;33m=\u001b[0m \u001b[0mplt\u001b[0m\u001b[1;33m.\u001b[0m\u001b[0mfigure\u001b[0m\u001b[1;33m(\u001b[0m\u001b[0mfigsize\u001b[0m\u001b[1;33m=\u001b[0m\u001b[1;33m(\u001b[0m\u001b[1;36m10\u001b[0m\u001b[1;33m,\u001b[0m \u001b[1;36m8\u001b[0m\u001b[1;33m)\u001b[0m\u001b[1;33m)\u001b[0m\u001b[1;33m\u001b[0m\u001b[1;33m\u001b[0m\u001b[0m\n\u001b[0;32m      4\u001b[0m     \u001b[0max\u001b[0m \u001b[1;33m=\u001b[0m \u001b[0mfig\u001b[0m\u001b[1;33m.\u001b[0m\u001b[0mgca\u001b[0m\u001b[1;33m(\u001b[0m\u001b[1;33m)\u001b[0m\u001b[1;33m\u001b[0m\u001b[1;33m\u001b[0m\u001b[0m\n\u001b[0;32m      5\u001b[0m \u001b[1;33m\u001b[0m\u001b[0m\n",
      "\u001b[1;31mNameError\u001b[0m: name 'gif' is not defined"
     ]
    }
   ],
   "source": [
    "@gif.frame\n",
    "def plot_samples(samples, num_samples, tmp_points, num_tmp, title=\"Gibbs Sampling\", xlims=(-11, 11), ylims=(-11, 11)):\n",
    "    fig = plt.figure(figsize=(10, 8))\n",
    "    ax = fig.gca()\n",
    "    \n",
    "    # Plot the true distribution\n",
    "    plot_gaussian_from_parameters(mean, cov, ax, n_std=2, edgecolor='g', alpha=0.5, label=\"True Distribution\")\n",
    "    \n",
    "    # Plot sampled points\n",
    "    ax.scatter(samples[:num_samples, 0], samples[:num_samples, 1], c='b', s=10, label=\"Sampled Points\")\n",
    "    ax.scatter(samples[0, 0], samples[0, 1], marker='*', c='g', s=60, label=\"Initial Point\")\n",
    "    \n",
    "    # Plot samples from conditional distribution\n",
    "    ax.scatter(tmp_points[:num_tmp, 0], tmp_points[:num_tmp, 1], c='r', alpha=0.4, s=5, label=\"Temporary Points\")\n",
    "    \n",
    "    # Keeping the axes scales same for good GIFS\n",
    "    ax.set_xlim(xlims)\n",
    "    ax.set_ylim(ylims)\n",
    "    \n",
    "    # Plot lines\n",
    "    if(num_tmp > 0):\n",
    "        ax.plot([samples[num_samples-1, 0], tmp_points[num_tmp-1, 0]], \n",
    "                [samples[num_samples-1, 1], tmp_points[num_tmp-1, 1]], c='k', alpha=0.25)\n",
    "        # Plot estimated Gaussian, ignoring the starting point\n",
    "        if(num_samples > 2):\n",
    "            plot_gaussian_from_points(samples[1:num_samples, 0], samples[1:num_samples, 1], \n",
    "                                      ax, n_std=2, edgecolor='b', alpha=0.5, label=\"Estimated Distribution\")\n",
    "    \n",
    "    ax.legend(loc='upper left')\n",
    "    ax.set_title(title)"
   ]
  },
  {
   "cell_type": "markdown",
   "metadata": {
    "id": "asYKg9_kaTJf"
   },
   "source": [
    "### Execution"
   ]
  },
  {
   "cell_type": "code",
   "execution_count": null,
   "metadata": {
    "ExecuteTime": {
     "end_time": "2021-03-20T15:17:10.405747Z",
     "start_time": "2021-03-20T15:17:10.400048Z"
    },
    "id": "kVPqCifnaTJg"
   },
   "outputs": [],
   "source": [
    "mean = np.array([0, 0])\n",
    "cov = np.array([[10, 3], \n",
    "                [3, 5]])"
   ]
  },
  {
   "cell_type": "code",
   "execution_count": null,
   "metadata": {
    "ExecuteTime": {
     "end_time": "2021-03-20T15:17:10.820189Z",
     "start_time": "2021-03-20T15:17:10.413622Z"
    },
    "id": "PJqhlZ0WaTJg",
    "outputId": "86d08ead-00d4-473d-f237-de9376ec8297"
   },
   "outputs": [],
   "source": [
    "# Plot true distribution\n",
    "fig = plt.figure(figsize=(10, 8))\n",
    "ax = fig.gca()\n",
    "plot_gaussian_from_parameters(mean, cov, ax, n_std=2, edgecolor='g', label=\"True Distribution\")\n",
    "ax.scatter(mean[0], mean[1], c='g')\n",
    "ax.set_xlim((-11, 11))\n",
    "ax.set_ylim((-11, 11))\n",
    "ax.legend(loc='upper left')\n",
    "plt.show()"
   ]
  },
  {
   "cell_type": "code",
   "execution_count": 58,
   "metadata": {
    "ExecuteTime": {
     "end_time": "2021-03-20T15:20:26.468301Z",
     "start_time": "2021-03-20T15:17:10.828286Z"
    },
    "id": "YB8Eqp81aTJj",
    "outputId": "4c9bf761-a59e-4012-da6e-4ee680102544"
   },
   "outputs": [
    {
     "ename": "NameError",
     "evalue": "name 'plot_samples' is not defined",
     "output_type": "error",
     "traceback": [
      "\u001b[1;31m---------------------------------------------------------------------------\u001b[0m",
      "\u001b[1;31mNameError\u001b[0m                                 Traceback (most recent call last)",
      "\u001b[1;32m<ipython-input-58-3f264431ca58>\u001b[0m in \u001b[0;36m<module>\u001b[1;34m\u001b[0m\n\u001b[0;32m      1\u001b[0m \u001b[0minitial_point\u001b[0m \u001b[1;33m=\u001b[0m \u001b[1;33m[\u001b[0m\u001b[1;33m-\u001b[0m\u001b[1;36m9.0\u001b[0m\u001b[1;33m,\u001b[0m \u001b[1;33m-\u001b[0m\u001b[1;36m9.0\u001b[0m\u001b[1;33m]\u001b[0m\u001b[1;33m\u001b[0m\u001b[1;33m\u001b[0m\u001b[0m\n\u001b[0;32m      2\u001b[0m \u001b[0mnum_samples\u001b[0m \u001b[1;33m=\u001b[0m \u001b[1;36m500\u001b[0m\u001b[1;33m\u001b[0m\u001b[1;33m\u001b[0m\u001b[0m\n\u001b[1;32m----> 3\u001b[1;33m \u001b[0msamples\u001b[0m\u001b[1;33m,\u001b[0m \u001b[0mtmp_points\u001b[0m\u001b[1;33m,\u001b[0m \u001b[0mframes\u001b[0m \u001b[1;33m=\u001b[0m \u001b[0mgibbs_sampler\u001b[0m\u001b[1;33m(\u001b[0m\u001b[0minitial_point\u001b[0m\u001b[1;33m,\u001b[0m \u001b[0mnum_samples\u001b[0m\u001b[1;33m,\u001b[0m \u001b[0mmean\u001b[0m\u001b[1;33m,\u001b[0m \u001b[0mcov\u001b[0m\u001b[1;33m,\u001b[0m \u001b[0mcreate_gif\u001b[0m\u001b[1;33m=\u001b[0m\u001b[1;32mTrue\u001b[0m\u001b[1;33m)\u001b[0m\u001b[1;33m\u001b[0m\u001b[1;33m\u001b[0m\u001b[0m\n\u001b[0m",
      "\u001b[1;32m<ipython-input-55-216d7ba20b3e>\u001b[0m in \u001b[0;36mgibbs_sampler\u001b[1;34m(initial_point, num_samples, mean, cov, create_gif)\u001b[0m\n\u001b[0;32m     22\u001b[0m         \u001b[0mtmp_points\u001b[0m\u001b[1;33m[\u001b[0m\u001b[0mi\u001b[0m\u001b[1;33m]\u001b[0m \u001b[1;33m=\u001b[0m \u001b[0mpoint\u001b[0m\u001b[1;33m\u001b[0m\u001b[1;33m\u001b[0m\u001b[0m\n\u001b[0;32m     23\u001b[0m         \u001b[1;32mif\u001b[0m\u001b[1;33m(\u001b[0m\u001b[0mcreate_gif\u001b[0m\u001b[1;33m)\u001b[0m\u001b[1;33m:\u001b[0m\u001b[1;33m\u001b[0m\u001b[1;33m\u001b[0m\u001b[0m\n\u001b[1;32m---> 24\u001b[1;33m             \u001b[0mframes\u001b[0m\u001b[1;33m.\u001b[0m\u001b[0mappend\u001b[0m\u001b[1;33m(\u001b[0m\u001b[0mplot_samples\u001b[0m\u001b[1;33m(\u001b[0m\u001b[0msamples\u001b[0m\u001b[1;33m,\u001b[0m \u001b[0mi\u001b[0m\u001b[1;33m+\u001b[0m\u001b[1;36m1\u001b[0m\u001b[1;33m,\u001b[0m \u001b[0mtmp_points\u001b[0m\u001b[1;33m,\u001b[0m \u001b[0mi\u001b[0m\u001b[1;33m+\u001b[0m\u001b[1;36m1\u001b[0m\u001b[1;33m,\u001b[0m \u001b[0mtitle\u001b[0m\u001b[1;33m=\u001b[0m\u001b[1;34m\"Num Samples: \"\u001b[0m \u001b[1;33m+\u001b[0m \u001b[0mstr\u001b[0m\u001b[1;33m(\u001b[0m\u001b[0mi\u001b[0m\u001b[1;33m)\u001b[0m\u001b[1;33m)\u001b[0m\u001b[1;33m)\u001b[0m\u001b[1;33m\u001b[0m\u001b[1;33m\u001b[0m\u001b[0m\n\u001b[0m\u001b[0;32m     25\u001b[0m \u001b[1;33m\u001b[0m\u001b[0m\n\u001b[0;32m     26\u001b[0m         \u001b[1;31m# Sample from p(x_1|x_0)\u001b[0m\u001b[1;33m\u001b[0m\u001b[1;33m\u001b[0m\u001b[1;33m\u001b[0m\u001b[0m\n",
      "\u001b[1;31mNameError\u001b[0m: name 'plot_samples' is not defined"
     ]
    }
   ],
   "source": [
    "initial_point = [-9.0, -9.0]\n",
    "num_samples = 500\n",
    "samples, tmp_points, frames = gibbs_sampler(initial_point, num_samples, mean, cov, create_gif=True)"
   ]
  },
  {
   "cell_type": "code",
   "execution_count": 69,
   "metadata": {
    "ExecuteTime": {
     "end_time": "2021-03-20T15:20:54.331184Z",
     "start_time": "2021-03-20T15:20:26.471920Z"
    },
    "id": "qTpP1VAaaTJl",
    "outputId": "53656700-e00b-4d7e-cd7a-7b132d8e301e"
   },
   "outputs": [
    {
     "ename": "NameError",
     "evalue": "name 'gif' is not defined",
     "output_type": "error",
     "traceback": [
      "\u001b[1;31m---------------------------------------------------------------------------\u001b[0m",
      "\u001b[1;31mNameError\u001b[0m                                 Traceback (most recent call last)",
      "\u001b[1;32m<ipython-input-69-d19031105b26>\u001b[0m in \u001b[0;36m<module>\u001b[1;34m\u001b[0m\n\u001b[0;32m      1\u001b[0m \u001b[1;31m# Creating the GIF\u001b[0m\u001b[1;33m\u001b[0m\u001b[1;33m\u001b[0m\u001b[1;33m\u001b[0m\u001b[0m\n\u001b[0;32m      2\u001b[0m \u001b[1;31m# 초당 한 번 update 할 수 있게 느으으으린 움짤임\u001b[0m\u001b[1;33m\u001b[0m\u001b[1;33m\u001b[0m\u001b[1;33m\u001b[0m\u001b[0m\n\u001b[1;32m----> 3\u001b[1;33m \u001b[0mgif\u001b[0m\u001b[1;33m.\u001b[0m\u001b[0msave\u001b[0m\u001b[1;33m(\u001b[0m\u001b[0mframes\u001b[0m\u001b[1;33m,\u001b[0m \u001b[1;34m\"gibbs500.gif\"\u001b[0m\u001b[1;33m,\u001b[0m \u001b[0mduration\u001b[0m\u001b[1;33m=\u001b[0m\u001b[1;36m500\u001b[0m\u001b[1;33m)\u001b[0m\u001b[1;33m\u001b[0m\u001b[1;33m\u001b[0m\u001b[0m\n\u001b[0m\u001b[0;32m      4\u001b[0m \u001b[0mImage\u001b[0m\u001b[1;33m(\u001b[0m\u001b[0mfilename\u001b[0m\u001b[1;33m=\u001b[0m\u001b[1;34m\"gibbs500.gif\"\u001b[0m\u001b[1;33m)\u001b[0m\u001b[1;33m\u001b[0m\u001b[1;33m\u001b[0m\u001b[0m\n",
      "\u001b[1;31mNameError\u001b[0m: name 'gif' is not defined"
     ]
    }
   ],
   "source": [
    "# Creating the GIF\n",
    "# 초당 한 번 update 할 수 있게 느으으으린 움짤임\n",
    "gif.save(frames, \"gibbs500.gif\", duration=500)\n",
    "Image(filename=\"gibbs500.gif\")"
   ]
  },
  {
   "cell_type": "markdown",
   "metadata": {
    "id": "DQBG4wR8aTJm"
   },
   "source": [
    "initial point가 어디냐에 따라서, covariance structure가 어떠냐에 따라서 수렴 속도 차이를 관찰해보는 것도 추천합니다! 나중에 MCMC를 배울 떄 제대로 이런 convergence가 되는지에 대한 diagnosis를 제대로 익힐 것입니다."
   ]
  },
  {
   "cell_type": "code",
   "execution_count": null,
   "metadata": {},
   "outputs": [],
   "source": []
  }
 ],
 "metadata": {
  "colab": {
   "collapsed_sections": [],
   "name": "gibbs_hw.ipynb",
   "provenance": []
  },
  "kernelspec": {
   "display_name": "Python 3",
   "language": "python",
   "name": "python3"
  },
  "language_info": {
   "codemirror_mode": {
    "name": "ipython",
    "version": 3
   },
   "file_extension": ".py",
   "mimetype": "text/x-python",
   "name": "python",
   "nbconvert_exporter": "python",
   "pygments_lexer": "ipython3",
   "version": "3.7.6"
  },
  "latex_envs": {
   "LaTeX_envs_menu_present": true,
   "autoclose": false,
   "autocomplete": true,
   "bibliofile": "biblio.bib",
   "cite_by": "apalike",
   "current_citInitial": 1,
   "eqLabelWithNumbers": true,
   "eqNumInitial": 1,
   "hotkeys": {
    "equation": "Ctrl-E",
    "itemize": "Ctrl-I"
   },
   "labels_anchors": false,
   "latex_user_defs": false,
   "report_style_numbering": false,
   "user_envs_cfg": false
  },
  "toc": {
   "base_numbering": 1,
   "nav_menu": {},
   "number_sections": true,
   "sideBar": true,
   "skip_h1_title": false,
   "title_cell": "Table of Contents",
   "title_sidebar": "Contents",
   "toc_cell": false,
   "toc_position": {},
   "toc_section_display": true,
   "toc_window_display": false
  }
 },
 "nbformat": 4,
 "nbformat_minor": 1
}
