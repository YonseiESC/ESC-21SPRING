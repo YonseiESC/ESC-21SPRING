{
 "cells": [
  {
   "cell_type": "markdown",
   "metadata": {},
   "source": [
    "R Code 첨부하고 코드 밑에 결과 그림 정리."
   ]
  },
  {
   "cell_type": "code",
   "execution_count": null,
   "metadata": {},
   "outputs": [],
   "source": [
    "set.seed(2016147023)\n",
    "### Excercise 7.3\n",
    "# data\n",
    "bluecrab= as.matrix(read.table(url('http://www2.stat.duke.edu/~pdh10/FCBS/Exercises/bluecrab.dat')))\n",
    "orangecrab=as.matrix(read.table(url('http://www2.stat.duke.edu/~pdh10/FCBS/Exercises/orangecrab.dat')))\n",
    "\n",
    "#a\n",
    "#blue crab\n",
    "n=nrow(bluecrab)\n",
    "ybar=colMeans(bluecrab)\n",
    "Mu0=c(ybar)\n",
    "Sigma=cov(bluecrab)\n",
    "S0=Lambda0=Sigma\n",
    "nu0=4\n",
    "\n",
    "#Gibbs Sampler\n",
    "inv=solve\n",
    "S=10000\n",
    "MU=matrix(NA, nrow=S, ncol=2)\n",
    "SIGMA=matrix(NA, nrow=S, ncol=4)\n",
    "\n",
    "for (s in 1:S){\n",
    "  #update MU\n",
    "  Lambdan=inv(inv(Lambda0)+n*inv(Sigma))\n",
    "  Mun=Lambdan%*%(inv(Lambda0)%*%Mu0+n*inv(Sigma)%*%ybar)\n",
    "  Mu=MASS::mvrnorm(n=1, Mun, Lambdan)\n",
    "  \n",
    "  #update Sigma\n",
    "  Sn=S0+(t(bluecrab)-c(Mu))%*%t(t(bluecrab)-c(Mu))\n",
    "  Sigma=inv(rWishart(1, nu0+n, inv(Sn))[,,1])\n",
    "  \n",
    "  MU[s,]=Mu\n",
    "  SIGMA[s,]=c(Sigma)\n",
    "}\n",
    "\n",
    "#orange crab\n",
    "n=nrow(orangecrab)\n",
    "ybar=colMeans(orangecrab)\n",
    "Mu0=c(ybar)\n",
    "Sigma=cov(orangecrab)\n",
    "S0=Lambda0=Sigma\n",
    "nu0=4\n",
    "\n",
    "#Gibbs Sampler\n",
    "inv=solve\n",
    "S=10000\n",
    "MU1=matrix(NA, nrow=S, ncol=2)\n",
    "SIGMA1=matrix(NA, nrow=S, ncol=4)\n",
    "\n",
    "for (s in 1:S){\n",
    "  #update MU\n",
    "  Lambdan=inv(inv(Lambda0)+n*inv(Sigma))\n",
    "  Mun=Lambdan%*%(inv(Lambda0)%*%Mu0+n*inv(Sigma)%*%ybar)\n",
    "  Mu=MASS::mvrnorm(n=1, Mun, Lambdan)\n",
    "  \n",
    "  #update Sigma\n",
    "  Sn=S0+(t(orangecrab)-c(Mu))%*%t(t(orangecrab)-c(Mu))\n",
    "  Sigma=inv(rWishart(1, nu0+n, inv(Sn))[,,1])\n",
    "  \n",
    "  MU1[s,]=Mu\n",
    "  SIGMA1[s,]=c(Sigma)\n",
    "}\n",
    "\n",
    "#b\n",
    "library(ggpubr)\n",
    "\n",
    "disp=tail(1:S, S/2)\n",
    "\n",
    "title1='Posterior draws of bluecrab size'\n",
    "p1=data.frame(btheta1=MU[disp,1], btheta2=MU[disp, 2])%>%\n",
    "  ggplot(aes(x=btheta1, y=btheta2))+geom_point(size=0.5, color='steelblue')+\n",
    "  geom_abline(slope=1, intercept=0)+\n",
    "  coord_fixed(ratio=1)+\n",
    "  labs(title=title1)\n",
    "\n",
    "title2='Posterior draws of orangecrab size'\n",
    "p2=data.frame(otheta1=MU1[disp,1], otheta2=MU1[disp, 2])%>%\n",
    "  ggplot(aes(x=otheta1, y=otheta2))+geom_point(size=0.5, color='steelblue')+\n",
    "  geom_abline(slope=1, intercept=0)+\n",
    "  coord_fixed(ratio=1)+\n",
    "  labs(title=title2)\n",
    "\n",
    "ggarrange(p1, p2)\n",
    "\n",
    "title3=\"Posterior draws of theta1 difference\"\n",
    "theta1_diff=MU[disp,1]-MU1[disp,1]\n",
    "p3=data.frame(theta1_diff=theta1_diff)%>%\n",
    "  ggplot(aes(x=theta1_diff))+\n",
    "  geom_histogram(color='white', fill=\"steelblue\", bins=30)+\n",
    "  geom_vline(xintercept = 0)+\n",
    "  labs(title=title3)\n",
    "\n",
    "title4=\"Posterior draws of theta2 difference\"\n",
    "theta2_diff=MU[disp,2]-MU1[disp,2]\n",
    "p4=data.frame(theta2_diff=theta2_diff)%>%\n",
    "  ggplot(aes(x=theta2_diff))+\n",
    "  geom_histogram(color='white', fill=\"steelblue\", bins=30)+\n",
    "  geom_vline(xintercept = 0)+\n",
    "  labs(title=title4)\n",
    "\n",
    "ggarrange(p3,p4)\n",
    "\n",
    "\n",
    "mean(MU[disp,1]>MU1[disp,1])\n",
    "mean(MU[disp,2]>MU1[disp,2])\n",
    "\n",
    "#c\n",
    "bcorr=apply(SIGMA, MARGIN=1, FUN=function(SIGMA){\n",
    "  SIGMA[2]/sqrt(SIGMA[1]*SIGMA[4])\n",
    "})\n",
    "\n",
    "ocorr=apply(SIGMA1, MARGIN=1, FUN=function(SIGMA1){\n",
    "  SIGMA1[2]/sqrt(SIGMA1[1]*SIGMA1[4])\n",
    "})\n",
    "\n",
    "p5=data.frame(crab=c(rep('blue', length(bcorr)/2), rep('orange', length(ocorr)/2)),\n",
    "              corr=c(bcorr[disp], ocorr[disp]))%>%\n",
    "  ggplot(aes(x=corr, fill=crab))+\n",
    "  geom_density(alpha=0.5)+\n",
    "  scale_fill_manual(values=c('blue', 'orange'))\n",
    "\n",
    "ggarrange(p5)\n",
    "\n",
    "mean(bcorr<ocorr)\n"
   ]
  },
  {
   "cell_type": "markdown",
   "metadata": {},
   "source": [
    "![1-1](1-1.jpg)"
   ]
  },
  {
   "cell_type": "markdown",
   "metadata": {
    "ExecuteTime": {
     "end_time": "2021-03-30T04:48:44.901076Z",
     "start_time": "2021-03-30T04:48:44.847221Z"
    }
   },
   "source": [
    "![1-2](1-2.jpg)"
   ]
  },
  {
   "cell_type": "markdown",
   "metadata": {},
   "source": [
    "![1-3](1-3.jpg)"
   ]
  },
  {
   "cell_type": "markdown",
   "metadata": {},
   "source": [
    "전체적으로 그림이 다른 것을 확인하였지만, 코드상 어느 부분을 틀린 건지 확인하지 못하였습니다."
   ]
  },
  {
   "cell_type": "markdown",
   "metadata": {},
   "source": [
    "# Gibbs Sampling"
   ]
  },
  {
   "cell_type": "markdown",
   "metadata": {},
   "source": [
    "용량 제한 상 채워주세요 부분 코드만 첨부를 하고 결과 gif를 첨부하겠습니다"
   ]
  },
  {
   "cell_type": "code",
   "execution_count": null,
   "metadata": {},
   "outputs": [],
   "source": [
    "def conditional_sampler(sampling_index, current_x, mean, cov):\n",
    "    conditioned_index = 1 - sampling_index # 두 r.v. 중에 뭘 sampling할지 결정\n",
    "    a = cov[sampling_index, sampling_index] # Sigma00\n",
    "    b = cov[sampling_index, conditioned_index]  # Sigma01\n",
    "    c = cov[conditioned_index, conditioned_index]  # Sigma11\n",
    "    \n",
    "    mu = mean[sampling_index]+(b*(current_x[conditioned_index]-mean[conditioned_index]))/c\n",
    "    sigma = np.sqrt(a-(b**2)/c)\n",
    "    new_x = np.copy(current_x)\n",
    "    new_x[sampling_index] = np.random.randn()*sigma + mu\n",
    "    # [x_0, x_1] 꼴의 1x2 np.array를 return\n",
    "    return new_x"
   ]
  },
  {
   "cell_type": "markdown",
   "metadata": {},
   "source": [
    "![2](gibbs500.gif)"
   ]
  },
  {
   "cell_type": "markdown",
   "metadata": {},
   "source": [
    "# NA Imputation"
   ]
  },
  {
   "cell_type": "markdown",
   "metadata": {},
   "source": [
    "Homework 부분\n",
    "\n",
    "Homework가 포함된 셀\n",
    "\n",
    "순서로 코드를 첨부하였고 결과 그림을 첨부하였습니다"
   ]
  },
  {
   "cell_type": "code",
   "execution_count": null,
   "metadata": {},
   "outputs": [],
   "source": [
    "S0 = (n-p-1)*L0 #Homework"
   ]
  },
  {
   "cell_type": "code",
   "execution_count": null,
   "metadata": {},
   "outputs": [],
   "source": [
    "#Honework\n",
    "for s in range(S):\n",
    "    # update mu\n",
    "    ybar = fill_data.mean().to_numpy()\n",
    "    Ln = inv(inv(L0)+n*(inv(Sigma)))        # Lambda_n\n",
    "    mun = np.matmul(Ln,(np.matmul(inv(L0),mu0)+n*np.matmul(inv(Sigma),ybar)))       # mu_n\n",
    "    ## sample mu from full conditional probability given Sigma & y ##\n",
    "    Mu = stats.multivariate_normal.rvs(mun, Ln, 1)      \n",
    "\n",
    "    # update Sigma\n",
    "    S_mu = (np.asmatrix(fill_data-Mu).T*np.asmatrix(fill_data-Mu)).A\n",
    "    Sn = S0+S_mu\n",
    "    ## sample Sigma from full conditional probability given mu & y ##\n",
    "    Sigma = stats.invwishart.rvs(nu0+n, inv(Sn),1)"
   ]
  },
  {
   "cell_type": "code",
   "execution_count": null,
   "metadata": {},
   "outputs": [],
   "source": [
    "n = data.shape[0]       # data 수\n",
    "p = data.shape[1]       # column 수\n",
    "\n",
    "S = 100                 # number of iteration (몇 번 update 할건지)\n",
    "\n",
    "# 자주 쓰는 함수\n",
    "inv = np.linalg.inv     # 역행렬 구하기\n",
    "t = np.transpose        # transpose\n",
    "\n",
    "# priors\n",
    "## prior for mu ~ N(  ,   )\n",
    "# mean vector mu_0\n",
    "mu0 = data.mean().to_numpy()    # column mean\n",
    "\n",
    "# covariance matrix Lambda_0 : 공분산 행렬 만들기\n",
    "sd0 = mu0 / 2                   # 왜 이렇게 initialize하는지 모르겠지만 암튼 prior란 원래 나름의 믿음에 따라 주는거니까..\n",
    "# 아마 actual dataset의 dispersion을 고려하거나 해서 그런게 아닐까..?\n",
    "L0 = np.ones((p,p))*0.1         # Lambda0 in prior    \n",
    "di = np.diag_indices(p)         # diagonal index indicator\n",
    "L0[di] = 1                      # 일단 분산을 1로 init\n",
    "L0 = L0 * np.outer(sd0, sd0)    # off-diagonal terms\n",
    "\n",
    "## prior for Sigma ~ Ing-Wishart(   ,   )\n",
    "nu0 = p + 2                     # first param\n",
    "S0 = (n-p-1)*L0 #Homework\n",
    "\n",
    "# misc\n",
    "Sigma = S0                      # mu의 full conditional posterior를 초기화하는데 필요함\n",
    "fill_data = data.copy()         # imputate할 dataset copy 만들기\n",
    "\n",
    "O = data.isna().to_numpy()*1    # indicator variable (결측치 있으면 1, 결측치 없으면 0)\n",
    "\n",
    "# Naive Imputation\n",
    "for col in fill_data.columns:\n",
    "    # 일단 mean imputation\n",
    "    # 아마 계산 시 nan 있어서 생기는 error를 방지하기 위해서 나이브하게 뭐라도 채워놓고 simulation을 돌린것같음.\n",
    "    fill_data[col].fillna(fill_data[col].mean(), inplace=True)"
   ]
  },
  {
   "cell_type": "code",
   "execution_count": null,
   "metadata": {},
   "outputs": [],
   "source": [
    "#Homework\n",
    "for s in range(S):\n",
    "    # update mu\n",
    "    ybar = fill_data.mean().to_numpy()\n",
    "    Ln = inv(inv(L0)+n*(inv(Sigma)))        # Lambda_n\n",
    "    mun = np.matmul(Ln,(np.matmul(inv(L0),mu0)+n*np.matmul(inv(Sigma),ybar)))       # mu_n\n",
    "    ## sample mu from full conditional probability given Sigma & y ##\n",
    "    Mu = stats.multivariate_normal.rvs(mun, Ln, 1)      \n",
    "\n",
    "    # update Sigma\n",
    "    S_mu = (np.asmatrix(fill_data-Mu).T*np.asmatrix(fill_data-Mu)).A\n",
    "    Sn = S0+S_mu\n",
    "    ## sample Sigma from full conditional probability given mu & y ##\n",
    "    Sigma = stats.invwishart.rvs(nu0+n, inv(Sn),1)\n",
    "\n",
    "    # update missing data\n",
    "    for i in range(n):\n",
    "\n",
    "        # row별로 돌아가면서 1x4 array에 대해서 imputation\n",
    "        # [T, F, F, T] 등의 형태로 indexing\n",
    "        a = O[i,]==0        # i번째 row에 결측치 없는 위치\n",
    "        b = O[i,]==1        # i번째 row에 결측치 있는 위치\n",
    "\n",
    "        if sum(b)!=0:       # 결측치가 하나라도 있으면 imputation 진행! (결측치 하나도 없으면 sum(b)==0 loop 벗어남)\n",
    "            # iSa, beta_j에 관한 설명은 좀 어려워서 스킵\n",
    "            # 궁금하면 FCB p118 (7.10), (7.11) equation 설명 참고\n",
    "            iSa = inv(Sigma[np.outer(a,a)].reshape(sum(a),sum(a)))\n",
    "            beta_j = np.matmul(Sigma[np.outer(b,a)].reshape(sum(b),sum(a)), iSa)\n",
    "\n",
    "            # Covariance Matrix for MVN distribution\n",
    "            Sigma_j = Sigma[np.outer(b,b)].reshape(sum(b),sum(b)) - np.linalg.multi_dot([Sigma[np.outer(b,a)].reshape(sum(b),sum(a)), iSa, Sigma[np.outer(a,b)].reshape(sum(a),sum(b))])\n",
    "            # Mean Vector for MVN distribution\n",
    "            mu_j = Mu[b] + np.matmul(beta_j, t(fill_data.iloc[i, a])-Mu[a])\n",
    "\n",
    "            # MVN 에서 결측치 있는 위치 (b)만 sampling한 값으로 채우기!\n",
    "            fill_data.iloc[i,b] = stats.multivariate_normal.rvs(mu_j, Sigma_j, 1)\n",
    "\n",
    "    if s%10==0:\n",
    "        print(s,\"/\",S)"
   ]
  },
  {
   "cell_type": "markdown",
   "metadata": {},
   "source": [
    "![3-1](3-1.jpg)"
   ]
  },
  {
   "cell_type": "markdown",
   "metadata": {},
   "source": [
    "![3-2](3-2.jpg)"
   ]
  },
  {
   "cell_type": "code",
   "execution_count": null,
   "metadata": {},
   "outputs": [],
   "source": []
  }
 ],
 "metadata": {
  "hide_input": false,
  "kernelspec": {
   "display_name": "Python 3",
   "language": "python",
   "name": "python3"
  },
  "language_info": {
   "codemirror_mode": {
    "name": "ipython",
    "version": 3
   },
   "file_extension": ".py",
   "mimetype": "text/x-python",
   "name": "python",
   "nbconvert_exporter": "python",
   "pygments_lexer": "ipython3",
   "version": "3.8.3"
  },
  "toc": {
   "base_numbering": 1,
   "nav_menu": {},
   "number_sections": false,
   "sideBar": true,
   "skip_h1_title": false,
   "title_cell": "Table of Contents",
   "title_sidebar": "Contents",
   "toc_cell": false,
   "toc_position": {},
   "toc_section_display": true,
   "toc_window_display": false
  },
  "varInspector": {
   "cols": {
    "lenName": 16,
    "lenType": 16,
    "lenVar": 40
   },
   "kernels_config": {
    "python": {
     "delete_cmd_postfix": "",
     "delete_cmd_prefix": "del ",
     "library": "var_list.py",
     "varRefreshCmd": "print(var_dic_list())"
    },
    "r": {
     "delete_cmd_postfix": ") ",
     "delete_cmd_prefix": "rm(",
     "library": "var_list.r",
     "varRefreshCmd": "cat(var_dic_list()) "
    }
   },
   "types_to_exclude": [
    "module",
    "function",
    "builtin_function_or_method",
    "instance",
    "_Feature"
   ],
   "window_display": false
  }
 },
 "nbformat": 4,
 "nbformat_minor": 4
}
