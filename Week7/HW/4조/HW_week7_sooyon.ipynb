{
 "cells": [
  {
   "cell_type": "markdown",
   "metadata": {},
   "source": [
    "## Calculation of $\\pi$   \n",
    "1. Generate two random numbers from a uniform distribution on (0, 1).  \n",
    "2. Use these numbers as a coordinate (x, y) of the trial shot.  \n",
    "3. If the distance to the shot is within the unit circle, then it is hit and otherwise it is miss.  \n",
    "4. $\\pi \\approx \\frac{\\displaystyle 4 \\times \\text{(the number of hit)} }{\\displaystyle \\text{(the number of shots)} }$"
   ]
  },
  {
   "cell_type": "code",
   "execution_count": 1,
   "metadata": {
    "ExecuteTime": {
     "end_time": "2021-05-10T10:35:59.722512Z",
     "start_time": "2021-05-10T10:35:57.182770Z"
    }
   },
   "outputs": [],
   "source": [
    "import numpy as np\n",
    "import random\n",
    "from random import random\n",
    "import scipy.stats as st\n",
    "\n",
    "import matplotlib.pyplot as plt\n",
    "import seaborn as sns"
   ]
  },
  {
   "cell_type": "code",
   "execution_count": 2,
   "metadata": {
    "ExecuteTime": {
     "end_time": "2021-05-10T10:35:59.853728Z",
     "start_time": "2021-05-10T10:35:59.726192Z"
    }
   },
   "outputs": [],
   "source": [
    "S = 100001 # total number of trials\n",
    "freq = 1000 # interval at which pi is calculated\n",
    "pi_approx = []\n",
    "hit = 0\n",
    "\n",
    "for i in range(S):\n",
    "    coord = (random(), random())\n",
    "    x = coord[0]\n",
    "    y = coord[1]\n",
    "    r2 = x**2 + y**2\n",
    "    if r2 <= 1.0:\n",
    "        hit = hit + 1\n",
    "    if i%freq==1:\n",
    "        pi_approx.append(4*(hit/i))"
   ]
  },
  {
   "cell_type": "code",
   "execution_count": 3,
   "metadata": {
    "ExecuteTime": {
     "end_time": "2021-05-10T10:36:00.157481Z",
     "start_time": "2021-05-10T10:35:59.857566Z"
    }
   },
   "outputs": [
    {
     "data": {
      "text/plain": [
       "<matplotlib.collections.PathCollection at 0x7fdddf966650>"
      ]
     },
     "execution_count": 3,
     "metadata": {},
     "output_type": "execute_result"
    },
    {
     "data": {
      "image/png": "[encoded data removed]",
      "text/plain": [
       "<Figure size 432x288 with 1 Axes>"
      ]
     },
     "metadata": {
      "needs_background": "light"
     },
     "output_type": "display_data"
    }
   ],
   "source": [
    "plt.xlabel('the number of trial shots (x10^4)')\n",
    "plt.ylabel('Estimated pi')\n",
    "plt.title('Calculation of pi')\n",
    "plt.ylim(3.10, 3.20)\n",
    "plt.axhline(3.1415926545, color='red')\n",
    "plt.scatter(list(range(len(pi_approx))), pi_approx)"
   ]
  },
  {
   "cell_type": "code",
   "execution_count": 4,
   "metadata": {
    "ExecuteTime": {
     "end_time": "2021-05-10T10:36:00.169043Z",
     "start_time": "2021-05-10T10:36:00.162782Z"
    }
   },
   "outputs": [
    {
     "name": "stdout",
     "output_type": "stream",
     "text": [
      "3.140735952162099\n",
      "3.141592653589793\n"
     ]
    }
   ],
   "source": [
    "print(pi_approx[-1])\n",
    "print(np.pi)"
   ]
  },
  {
   "cell_type": "markdown",
   "metadata": {},
   "source": [
    "## Simulate and Draw Histrogram of $X_1$ and $\\Pi X_i$  \n",
    "Explain how to use a Markov Chain Monte Carlo method to generate the value of a random vector $X_1, ..., X_{10}$ whose distribution is approximately the conditional distribution of 10 independent exponential random variables with common mena 1 given that $\\Pi_{i=1}^{10} X_i > 20$  \n",
    "\\- Gibbs Sampler  \n",
    "\\- Memoryless property of exponential distribution  \n",
    "  \n",
    "**probability distribution of $X_1, ... X_{10}$**  \n",
    "$f(X_1, ..., x_{10}) = \\frac{\\displaystyle \\Pi_{i=1}^{10} e^{-X_i}}{\\displaystyle Pr(\\Pi_{i=1}^{10} X_i > 20)}$  "
   ]
  },
  {
   "cell_type": "code",
   "execution_count": 5,
   "metadata": {
    "ExecuteTime": {
     "end_time": "2021-05-10T10:36:00.179147Z",
     "start_time": "2021-05-10T10:36:00.172005Z"
    }
   },
   "outputs": [],
   "source": [
    "def pi(arr):\n",
    "    \"\"\"arr 안의 모든 원소를 곱하는 함수\"\"\"\n",
    "    if len(arr)==1:\n",
    "        return arr[0]\n",
    "    else:\n",
    "        a = arr[-1]\n",
    "        result = a*pi(arr[:-1]) # recursion\n",
    "        return result"
   ]
  },
  {
   "cell_type": "markdown",
   "metadata": {},
   "source": [
    "Gibbs sampling 에서 x1.....x10 까지 다 full conditional 아래에서 새로 추출해야함. xj를 추출할 차례라면?\n",
    "\n",
    "=> xj를 새로 뽑는데 x1....x10 까지의 곱이 20보다 크다는 조건 아래에서 뽑아야함.\n",
    "\n",
    "=> xj을 제외한 x1...x10 의 곱이 만약 10이라면, xj 은 2보다 커야함\n",
    "\n",
    "기본 논리: xseq 에서 x1 업데이트, x2 업데이트....x10 까지 업데이트 하고 xseq 을 sampling 으로 accept\n",
    "\n",
    "첫번째 방법: 그냥 시뮬레이션.. xj 를 exp(1) 에서 2가 넘을때까지 뽑기\n",
    "\n",
    "두 번째 방법: xj는 지수분포이므로 memoryless property 를 이용해서 해당 conditional distribution 을 구할 수 있음.\n",
    "  \n",
    "Goal : 위의 pdf를 만족하는 길이 10인 X 벡터를 MCMC를 통해 sampling하기!  \n",
    "-> 우리는 각각의 $X_i$가 평균이 1인 지수분포를 따른다는 사실을 알고 있으므로 임의로 초기값을 지정한 뒤 full conditional distribution을 간주하고 (초기값은 문제의 조건을 만족하여 full conditional distribution이 되도록 지정) 하나의 X를 sampling한다. 조금 더 일반화하여 생각하면 Xj를 제외한 곱이 m이라면 Xj는 20/m보다 커야 업데이트할 수 있다. 그렇게 10개 원소에 대해 한 바퀴를 돌고 나면 10번 업뎃된 xseq를 하나의 sample로 accept."
   ]
  },
  {
   "cell_type": "code",
   "execution_count": 6,
   "metadata": {
    "ExecuteTime": {
     "end_time": "2021-05-10T10:36:00.190298Z",
     "start_time": "2021-05-10T10:36:00.182239Z"
    }
   },
   "outputs": [],
   "source": [
    "x1history1 = []; # x1 sampling history of method 1\n",
    "x1history2 = []; # x1 sampling history of method 2\n",
    "pixhistory1 = []; # pix sampling history of method 1\n",
    "pixhistory2 = []; # pix sampling history of method 2"
   ]
  },
  {
   "cell_type": "code",
   "execution_count": 7,
   "metadata": {
    "ExecuteTime": {
     "end_time": "2021-05-10T10:36:33.049155Z",
     "start_time": "2021-05-10T10:36:00.194119Z"
    }
   },
   "outputs": [
    {
     "name": "stdout",
     "output_type": "stream",
     "text": [
      "20.605939199999995\n"
     ]
    }
   ],
   "source": [
    "# method 1 : Using Gibbs Sampler\n",
    "\n",
    "xseq1 = [1, 2, 2.5, 1.1, 1.15, 4.8, 0.7, 0.8, 1.2, 1.01];\n",
    "# pi(xseq)=20 에서 너무 벗어나지 않도록 임의로 설정\n",
    "\n",
    "# sanity check\n",
    "print(pi(xseq1))\n",
    "\n",
    "for i in range(10000):\n",
    "    for j in range(10):\n",
    "        xjcandidate = st.expon.rvs(); # xj 를 exp 에서 후보 뽑기\n",
    "        xseqcandidate = xseq1; # x(j-1) 까지 업데이트 되었던 xseq 가져오기\n",
    "        xseqcandidate[j] = xjcandidate; # [x1,x2,,,,xj,,,,x10] 후보 새롭게 구성\n",
    "        if pi(xseqcandidate)>20: # 새롭게 구성한 [x1,x2,,,,xj,,,,x10] pi 값 확인\n",
    "            xseq1 = xseqcandidate; # 20이 넘는다면 후보를 accept\n",
    "        else:\n",
    "            while pi(xseqcandidate)<=20: # pi 가 20이 안 넘으면 넘을때까지...\n",
    "                xjcandidate = st.expon.rvs();\n",
    "                xseqcandidate[j] = xjcandidate;\n",
    "            xseq1 = xseqcandidate; # 넘었으니 accept\n",
    "    x1history1.append(xseq1[0]); # x1~x10 까지 전부 업데이트한 xseq 을 sampling 으로 accept, 그중 x1 sampling 모으기\n",
    "    pixhistory1.append(pi(xseq1)); # pi x sampling 모으기"
   ]
  },
  {
   "cell_type": "code",
   "execution_count": 8,
   "metadata": {
    "ExecuteTime": {
     "end_time": "2021-05-10T10:36:37.783718Z",
     "start_time": "2021-05-10T10:36:33.056265Z"
    }
   },
   "outputs": [
    {
     "name": "stdout",
     "output_type": "stream",
     "text": [
      "20.1425404052565\n"
     ]
    }
   ],
   "source": [
    "# method 2 : Memoryless Property\n",
    "\n",
    "xseq2 = [.9, 2.1, 2.45, 1.15, 1.1, 4.9, 0.75, 0.77, 1.24, 0.98]; \n",
    "# pi(xseq)=20 에서 너무 벗어나지 않도록 임의로 설정\n",
    "\n",
    "# sanity check\n",
    "print(pi(xseq2))\n",
    "\n",
    "for k in range(10000):\n",
    "    for l in range(10):\n",
    "        xother = xseq2[:l]+xseq2[l+1:];\n",
    "        piother = pi(xother); # xl 빼고 나머지 값들의 곱\n",
    "        minimum = 20/piother; # xl 이 가져야 하는 최솟값\n",
    "        xseq2[l] = st.expon.rvs(minimum)\n",
    "        # st.expon.rvs(a) = random sampling of f(x)=exp(-(x-a)), x>=a\n",
    "    x1history2.append(xseq2[0]); # x1~x10 까지 전부 업데이트한 xseq 을 sampling 으로 accept, 그중 x1 sampling 모으기\n",
    "    pixhistory2.append(pi(xseq2)); # pi x sampling 모으기"
   ]
  },
  {
   "cell_type": "markdown",
   "metadata": {
    "ExecuteTime": {
     "end_time": "2021-05-09T15:01:57.986892Z",
     "start_time": "2021-05-09T15:01:57.973203Z"
    }
   },
   "source": [
    "Burn-in : after red vline"
   ]
  },
  {
   "cell_type": "code",
   "execution_count": 9,
   "metadata": {
    "ExecuteTime": {
     "end_time": "2021-05-10T10:36:38.089847Z",
     "start_time": "2021-05-10T10:36:37.788446Z"
    }
   },
   "outputs": [
    {
     "data": {
      "image/png": "[encoded data removed]",
      "text/plain": [
       "<Figure size 432x288 with 1 Axes>"
      ]
     },
     "metadata": {
      "needs_background": "light"
     },
     "output_type": "display_data"
    }
   ],
   "source": [
    "xaxis=list(range(1, len(x1history1)+1))\n",
    "plt.axvline(500, color='red')\n",
    "plt.plot(xaxis, x1history1);"
   ]
  },
  {
   "cell_type": "code",
   "execution_count": 10,
   "metadata": {
    "ExecuteTime": {
     "end_time": "2021-05-10T10:36:38.377713Z",
     "start_time": "2021-05-10T10:36:38.092792Z"
    }
   },
   "outputs": [
    {
     "data": {
      "image/png": "[encoded data removed]",
      "text/plain": [
       "<Figure size 432x288 with 1 Axes>"
      ]
     },
     "metadata": {
      "needs_background": "light"
     },
     "output_type": "display_data"
    }
   ],
   "source": [
    "plt.axvline(500, color='red')\n",
    "plt.plot(xaxis, x1history2);"
   ]
  },
  {
   "cell_type": "code",
   "execution_count": 11,
   "metadata": {
    "ExecuteTime": {
     "end_time": "2021-05-10T10:36:38.388422Z",
     "start_time": "2021-05-10T10:36:38.380767Z"
    }
   },
   "outputs": [],
   "source": [
    "# 잘라내고 500번째 이후만 고려하기\n",
    "x1history1 = x1history1[500:];\n",
    "pixhistory1 = pixhistory1[500:];\n",
    "x1history2 = x1history2[500:];\n",
    "pixhistory2 = pixhistory2[500:];\n",
    "xaxis=list(range(1, len(x1history1)+1))"
   ]
  },
  {
   "cell_type": "markdown",
   "metadata": {},
   "source": [
    "method 1로 Xj의 분포를 보나 method 2로 보나 모두 결과가 유사하다."
   ]
  },
  {
   "cell_type": "code",
   "execution_count": 12,
   "metadata": {
    "ExecuteTime": {
     "end_time": "2021-05-10T10:36:38.794951Z",
     "start_time": "2021-05-10T10:36:38.391776Z"
    }
   },
   "outputs": [
    {
     "name": "stdout",
     "output_type": "stream",
     "text": [
      "1.9108191846790705\n"
     ]
    },
    {
     "data": {
      "image/png": "[encoded data removed]",
      "text/plain": [
       "<Figure size 432x288 with 1 Axes>"
      ]
     },
     "metadata": {
      "needs_background": "light"
     },
     "output_type": "display_data"
    }
   ],
   "source": [
    "mean1 = sum(x1history1)/len(x1history1)\n",
    "print(mean1)\n",
    "xaxis = np.linspace(0,12,100)\n",
    "plt.hist(x1history1, bins=xaxis);"
   ]
  },
  {
   "cell_type": "code",
   "execution_count": 13,
   "metadata": {
    "ExecuteTime": {
     "end_time": "2021-05-10T10:36:39.254114Z",
     "start_time": "2021-05-10T10:36:38.799420Z"
    }
   },
   "outputs": [
    {
     "name": "stdout",
     "output_type": "stream",
     "text": [
      "1.921586259347604\n"
     ]
    },
    {
     "data": {
      "image/png": "[encoded data removed]",
      "text/plain": [
       "<Figure size 432x288 with 1 Axes>"
      ]
     },
     "metadata": {
      "needs_background": "light"
     },
     "output_type": "display_data"
    }
   ],
   "source": [
    "mean2 = sum(x1history2)/len(x1history2)\n",
    "print(mean2)\n",
    "plt.hist(x1history2, bins=xaxis);"
   ]
  },
  {
   "cell_type": "code",
   "execution_count": 14,
   "metadata": {
    "ExecuteTime": {
     "end_time": "2021-05-10T10:36:39.969510Z",
     "start_time": "2021-05-10T10:36:39.256597Z"
    }
   },
   "outputs": [
    {
     "data": {
      "image/png": "[encoded data removed]",
      "text/plain": [
       "<Figure size 432x288 with 1 Axes>"
      ]
     },
     "metadata": {
      "needs_background": "light"
     },
     "output_type": "display_data"
    }
   ],
   "source": [
    "plt.hist(x1history1, bins=xaxis);\n",
    "plt.hist(x1history2, bins=xaxis);"
   ]
  },
  {
   "cell_type": "code",
   "execution_count": 15,
   "metadata": {
    "ExecuteTime": {
     "end_time": "2021-05-10T10:36:40.295293Z",
     "start_time": "2021-05-10T10:36:39.975432Z"
    }
   },
   "outputs": [
    {
     "data": {
      "image/png": "[encoded data removed]",
      "text/plain": [
       "<Figure size 432x288 with 1 Axes>"
      ]
     },
     "metadata": {
      "needs_background": "light"
     },
     "output_type": "display_data"
    }
   ],
   "source": [
    "plt.plot(pixhistory1);"
   ]
  },
  {
   "cell_type": "code",
   "execution_count": 16,
   "metadata": {
    "ExecuteTime": {
     "end_time": "2021-05-10T10:36:40.517805Z",
     "start_time": "2021-05-10T10:36:40.302359Z"
    }
   },
   "outputs": [
    {
     "data": {
      "image/png": "[encoded data removed]",
      "text/plain": [
       "<Figure size 432x288 with 1 Axes>"
      ]
     },
     "metadata": {
      "needs_background": "light"
     },
     "output_type": "display_data"
    }
   ],
   "source": [
    "plt.plot(pixhistory2);"
   ]
  },
  {
   "cell_type": "code",
   "execution_count": 17,
   "metadata": {
    "ExecuteTime": {
     "end_time": "2021-05-10T10:36:41.060213Z",
     "start_time": "2021-05-10T10:36:40.521114Z"
    }
   },
   "outputs": [
    {
     "data": {
      "text/plain": [
       "(array([7.267e+03, 1.104e+03, 3.940e+02, 2.220e+02, 1.110e+02, 8.800e+01,\n",
       "        6.600e+01, 4.800e+01, 3.600e+01, 1.800e+01, 1.900e+01, 1.700e+01,\n",
       "        1.600e+01, 1.400e+01, 7.000e+00, 5.000e+00, 5.000e+00, 3.000e+00,\n",
       "        5.000e+00, 1.000e+01, 4.000e+00, 3.000e+00, 0.000e+00, 1.000e+00,\n",
       "        2.000e+00, 3.000e+00, 2.000e+00, 1.000e+00, 5.000e+00, 1.000e+00,\n",
       "        1.000e+00, 0.000e+00, 1.000e+00, 3.000e+00, 0.000e+00, 2.000e+00,\n",
       "        1.000e+00, 1.000e+00, 1.000e+00, 1.000e+00, 1.000e+00, 0.000e+00,\n",
       "        0.000e+00, 0.000e+00, 1.000e+00, 0.000e+00, 0.000e+00, 1.000e+00,\n",
       "        0.000e+00, 0.000e+00, 1.000e+00, 0.000e+00, 0.000e+00, 0.000e+00,\n",
       "        0.000e+00, 1.000e+00, 3.000e+00, 0.000e+00, 0.000e+00, 0.000e+00,\n",
       "        0.000e+00, 0.000e+00, 0.000e+00, 0.000e+00, 0.000e+00, 0.000e+00,\n",
       "        0.000e+00, 0.000e+00, 0.000e+00, 0.000e+00, 0.000e+00, 0.000e+00,\n",
       "        1.000e+00, 0.000e+00, 0.000e+00, 0.000e+00, 1.000e+00, 1.000e+00,\n",
       "        0.000e+00, 0.000e+00, 0.000e+00, 0.000e+00, 0.000e+00, 0.000e+00,\n",
       "        0.000e+00, 0.000e+00, 0.000e+00, 0.000e+00, 0.000e+00, 0.000e+00,\n",
       "        0.000e+00, 0.000e+00, 0.000e+00, 0.000e+00, 0.000e+00, 0.000e+00,\n",
       "        0.000e+00, 0.000e+00, 0.000e+00, 1.000e+00]),\n",
       " array([  20.0002756 ,   84.02498926,  148.04970293,  212.07441659,\n",
       "         276.09913026,  340.12384392,  404.14855759,  468.17327125,\n",
       "         532.19798492,  596.22269858,  660.24741225,  724.27212591,\n",
       "         788.29683958,  852.32155324,  916.34626691,  980.37098057,\n",
       "        1044.39569424, 1108.4204079 , 1172.44512156, 1236.46983523,\n",
       "        1300.49454889, 1364.51926256, 1428.54397622, 1492.56868989,\n",
       "        1556.59340355, 1620.61811722, 1684.64283088, 1748.66754455,\n",
       "        1812.69225821, 1876.71697188, 1940.74168554, 2004.76639921,\n",
       "        2068.79111287, 2132.81582654, 2196.8405402 , 2260.86525387,\n",
       "        2324.88996753, 2388.9146812 , 2452.93939486, 2516.96410853,\n",
       "        2580.98882219, 2645.01353586, 2709.03824952, 2773.06296319,\n",
       "        2837.08767685, 2901.11239052, 2965.13710418, 3029.16181784,\n",
       "        3093.18653151, 3157.21124517, 3221.23595884, 3285.2606725 ,\n",
       "        3349.28538617, 3413.31009983, 3477.3348135 , 3541.35952716,\n",
       "        3605.38424083, 3669.40895449, 3733.43366816, 3797.45838182,\n",
       "        3861.48309549, 3925.50780915, 3989.53252282, 4053.55723648,\n",
       "        4117.58195015, 4181.60666381, 4245.63137748, 4309.65609114,\n",
       "        4373.68080481, 4437.70551847, 4501.73023214, 4565.7549458 ,\n",
       "        4629.77965947, 4693.80437313, 4757.8290868 , 4821.85380046,\n",
       "        4885.87851413, 4949.90322779, 5013.92794145, 5077.95265512,\n",
       "        5141.97736878, 5206.00208245, 5270.02679611, 5334.05150978,\n",
       "        5398.07622344, 5462.10093711, 5526.12565077, 5590.15036444,\n",
       "        5654.1750781 , 5718.19979177, 5782.22450543, 5846.2492191 ,\n",
       "        5910.27393276, 5974.29864643, 6038.32336009, 6102.34807376,\n",
       "        6166.37278742, 6230.39750109, 6294.42221475, 6358.44692842,\n",
       "        6422.47164208]),\n",
       " <a list of 100 Patch objects>)"
      ]
     },
     "execution_count": 17,
     "metadata": {},
     "output_type": "execute_result"
    },
    {
     "data": {
      "image/png": "[encoded data removed]",
      "text/plain": [
       "<Figure size 432x288 with 1 Axes>"
      ]
     },
     "metadata": {
      "needs_background": "light"
     },
     "output_type": "display_data"
    }
   ],
   "source": [
    "plt.hist(pixhistory2, bins=100)"
   ]
  },
  {
   "cell_type": "code",
   "execution_count": 21,
   "metadata": {
    "ExecuteTime": {
     "end_time": "2021-05-10T10:37:17.032201Z",
     "start_time": "2021-05-10T10:37:15.057198Z"
    }
   },
   "outputs": [
    {
     "data": {
      "image/png": "[encoded data removed]",
      "text/plain": [
       "<Figure size 432x288 with 1 Axes>"
      ]
     },
     "metadata": {
      "needs_background": "light"
     },
     "output_type": "display_data"
    }
   ],
   "source": [
    "# zoom in\n",
    "plt.xlim(0, 100)\n",
    "plt.hist(pixhistory1, bins=1000);"
   ]
  },
  {
   "cell_type": "code",
   "execution_count": 19,
   "metadata": {
    "ExecuteTime": {
     "end_time": "2021-05-10T10:36:42.709574Z",
     "start_time": "2021-05-10T10:36:42.183284Z"
    }
   },
   "outputs": [
    {
     "data": {
      "image/png": "[encoded data removed]",
      "text/plain": [
       "<Figure size 432x288 with 1 Axes>"
      ]
     },
     "metadata": {
      "needs_background": "light"
     },
     "output_type": "display_data"
    }
   ],
   "source": [
    "plt.hist(pixhistory2, bins=100);"
   ]
  },
  {
   "cell_type": "code",
   "execution_count": 20,
   "metadata": {
    "ExecuteTime": {
     "end_time": "2021-05-10T10:36:44.725928Z",
     "start_time": "2021-05-10T10:36:42.713194Z"
    }
   },
   "outputs": [
    {
     "data": {
      "text/plain": [
       "(array([2.188e+03, 1.360e+03, 9.450e+02, 6.780e+02, 5.770e+02, 4.450e+02,\n",
       "        3.400e+02, 2.900e+02, 2.320e+02, 2.120e+02, 1.950e+02, 1.510e+02,\n",
       "        1.440e+02, 1.130e+02, 1.130e+02, 8.100e+01, 8.200e+01, 8.900e+01,\n",
       "        7.100e+01, 6.500e+01, 6.500e+01, 4.700e+01, 5.000e+01, 3.600e+01,\n",
       "        3.500e+01, 3.800e+01, 3.000e+01, 3.600e+01, 3.300e+01, 2.400e+01,\n",
       "        2.500e+01, 2.500e+01, 2.300e+01, 2.600e+01, 2.500e+01, 1.500e+01,\n",
       "        1.900e+01, 2.500e+01, 2.000e+01, 1.900e+01, 1.100e+01, 1.700e+01,\n",
       "        7.000e+00, 1.500e+01, 1.200e+01, 1.100e+01, 1.100e+01, 6.000e+00,\n",
       "        1.300e+01, 8.000e+00, 7.000e+00, 7.000e+00, 7.000e+00, 1.100e+01,\n",
       "        9.000e+00, 1.000e+01, 1.600e+01, 6.000e+00, 9.000e+00, 6.000e+00,\n",
       "        9.000e+00, 6.000e+00, 1.000e+01, 5.000e+00, 1.000e+01, 4.000e+00,\n",
       "        8.000e+00, 7.000e+00, 3.000e+00, 4.000e+00, 7.000e+00, 6.000e+00,\n",
       "        5.000e+00, 1.000e+00, 6.000e+00, 6.000e+00, 5.000e+00, 5.000e+00,\n",
       "        3.000e+00, 4.000e+00, 3.000e+00, 5.000e+00, 3.000e+00, 4.000e+00,\n",
       "        3.000e+00, 4.000e+00, 7.000e+00, 2.000e+00, 2.000e+00, 3.000e+00,\n",
       "        1.000e+00, 2.000e+00, 0.000e+00, 3.000e+00, 0.000e+00, 0.000e+00,\n",
       "        3.000e+00, 4.000e+00, 2.000e+00, 3.000e+00, 3.000e+00, 1.000e+00,\n",
       "        1.000e+00, 2.000e+00, 3.000e+00, 2.000e+00, 2.000e+00, 2.000e+00,\n",
       "        1.000e+00, 2.000e+00, 1.000e+00, 3.000e+00, 2.000e+00, 1.000e+00,\n",
       "        0.000e+00, 2.000e+00, 2.000e+00, 2.000e+00, 1.000e+00, 3.000e+00,\n",
       "        3.000e+00, 6.000e+00, 0.000e+00, 2.000e+00, 0.000e+00, 1.000e+00,\n",
       "        1.000e+00, 0.000e+00, 2.000e+00, 1.000e+00, 2.000e+00, 1.000e+00,\n",
       "        0.000e+00, 0.000e+00, 2.000e+00, 0.000e+00, 1.000e+00, 2.000e+00,\n",
       "        3.000e+00, 3.000e+00, 1.000e+00, 0.000e+00, 1.000e+00, 2.000e+00,\n",
       "        1.000e+00, 0.000e+00, 1.000e+00, 0.000e+00, 0.000e+00, 1.000e+00,\n",
       "        1.000e+00, 0.000e+00, 0.000e+00, 1.000e+00, 0.000e+00, 0.000e+00,\n",
       "        2.000e+00, 1.000e+00, 0.000e+00, 0.000e+00, 1.000e+00, 0.000e+00,\n",
       "        3.000e+00, 0.000e+00, 0.000e+00, 0.000e+00, 0.000e+00, 1.000e+00,\n",
       "        0.000e+00, 0.000e+00, 0.000e+00, 1.000e+00, 1.000e+00, 0.000e+00,\n",
       "        0.000e+00, 1.000e+00, 0.000e+00, 0.000e+00, 0.000e+00, 0.000e+00,\n",
       "        1.000e+00, 1.000e+00, 1.000e+00, 0.000e+00, 0.000e+00, 0.000e+00,\n",
       "        1.000e+00, 1.000e+00, 0.000e+00, 0.000e+00, 3.000e+00, 1.000e+00,\n",
       "        0.000e+00, 1.000e+00, 0.000e+00, 2.000e+00, 1.000e+00, 1.000e+00,\n",
       "        0.000e+00, 1.000e+00, 0.000e+00, 0.000e+00, 0.000e+00, 0.000e+00,\n",
       "        1.000e+00, 0.000e+00, 1.000e+00, 0.000e+00, 1.000e+00, 1.000e+00,\n",
       "        0.000e+00, 0.000e+00, 0.000e+00, 0.000e+00, 2.000e+00, 0.000e+00,\n",
       "        0.000e+00, 0.000e+00, 0.000e+00, 1.000e+00, 0.000e+00, 0.000e+00,\n",
       "        0.000e+00, 0.000e+00, 0.000e+00, 0.000e+00, 0.000e+00, 0.000e+00,\n",
       "        0.000e+00, 0.000e+00, 0.000e+00, 0.000e+00, 0.000e+00, 0.000e+00,\n",
       "        0.000e+00, 0.000e+00, 1.000e+00, 0.000e+00, 0.000e+00, 0.000e+00,\n",
       "        0.000e+00, 1.000e+00, 0.000e+00, 0.000e+00, 0.000e+00, 0.000e+00,\n",
       "        0.000e+00, 0.000e+00, 1.000e+00, 0.000e+00, 0.000e+00, 0.000e+00,\n",
       "        0.000e+00, 0.000e+00, 1.000e+00, 0.000e+00, 0.000e+00, 1.000e+00,\n",
       "        0.000e+00, 1.000e+00, 1.000e+00, 1.000e+00, 0.000e+00, 0.000e+00,\n",
       "        0.000e+00, 0.000e+00, 0.000e+00, 0.000e+00, 0.000e+00, 0.000e+00,\n",
       "        0.000e+00, 0.000e+00, 1.000e+00, 0.000e+00, 0.000e+00, 0.000e+00,\n",
       "        0.000e+00, 0.000e+00, 0.000e+00, 0.000e+00, 0.000e+00, 1.000e+00,\n",
       "        1.000e+00, 1.000e+00, 1.000e+00, 0.000e+00, 1.000e+00, 0.000e+00,\n",
       "        0.000e+00, 0.000e+00, 0.000e+00, 0.000e+00, 0.000e+00, 0.000e+00,\n",
       "        0.000e+00, 0.000e+00, 0.000e+00, 0.000e+00, 1.000e+00, 0.000e+00,\n",
       "        0.000e+00, 0.000e+00, 0.000e+00, 1.000e+00, 0.000e+00, 0.000e+00,\n",
       "        0.000e+00, 0.000e+00, 0.000e+00, 0.000e+00, 0.000e+00, 0.000e+00,\n",
       "        0.000e+00, 0.000e+00, 0.000e+00, 0.000e+00, 0.000e+00, 0.000e+00,\n",
       "        0.000e+00, 0.000e+00, 0.000e+00, 0.000e+00, 0.000e+00, 1.000e+00,\n",
       "        0.000e+00, 0.000e+00, 0.000e+00, 0.000e+00, 0.000e+00, 0.000e+00,\n",
       "        0.000e+00, 0.000e+00, 0.000e+00, 0.000e+00, 1.000e+00, 0.000e+00,\n",
       "        1.000e+00, 0.000e+00, 0.000e+00, 1.000e+00, 0.000e+00, 0.000e+00,\n",
       "        0.000e+00, 0.000e+00, 0.000e+00, 0.000e+00, 0.000e+00, 0.000e+00,\n",
       "        0.000e+00, 0.000e+00, 0.000e+00, 0.000e+00, 0.000e+00, 0.000e+00,\n",
       "        0.000e+00, 0.000e+00, 1.000e+00, 0.000e+00, 1.000e+00, 0.000e+00,\n",
       "        0.000e+00, 0.000e+00, 0.000e+00, 0.000e+00, 0.000e+00, 1.000e+00,\n",
       "        0.000e+00, 0.000e+00, 0.000e+00, 0.000e+00, 0.000e+00, 0.000e+00,\n",
       "        0.000e+00, 0.000e+00, 0.000e+00, 1.000e+00, 0.000e+00, 0.000e+00,\n",
       "        0.000e+00, 0.000e+00, 0.000e+00, 0.000e+00, 0.000e+00, 0.000e+00,\n",
       "        1.000e+00, 0.000e+00, 0.000e+00, 0.000e+00, 0.000e+00, 0.000e+00,\n",
       "        0.000e+00, 0.000e+00, 1.000e+00, 0.000e+00, 0.000e+00, 0.000e+00,\n",
       "        0.000e+00, 0.000e+00, 0.000e+00, 0.000e+00, 0.000e+00, 1.000e+00,\n",
       "        0.000e+00, 0.000e+00, 0.000e+00, 0.000e+00, 0.000e+00, 0.000e+00,\n",
       "        0.000e+00, 0.000e+00, 0.000e+00, 0.000e+00, 0.000e+00, 0.000e+00,\n",
       "        0.000e+00, 0.000e+00, 0.000e+00, 0.000e+00, 0.000e+00, 0.000e+00,\n",
       "        0.000e+00, 0.000e+00, 0.000e+00, 0.000e+00, 0.000e+00, 0.000e+00,\n",
       "        0.000e+00, 0.000e+00, 0.000e+00, 0.000e+00, 0.000e+00, 0.000e+00,\n",
       "        0.000e+00, 0.000e+00, 0.000e+00, 0.000e+00, 0.000e+00, 0.000e+00,\n",
       "        0.000e+00, 0.000e+00, 0.000e+00, 0.000e+00, 1.000e+00, 0.000e+00,\n",
       "        0.000e+00, 0.000e+00, 0.000e+00, 0.000e+00, 0.000e+00, 0.000e+00,\n",
       "        0.000e+00, 0.000e+00, 0.000e+00, 0.000e+00, 0.000e+00, 0.000e+00,\n",
       "        0.000e+00, 0.000e+00, 0.000e+00, 0.000e+00, 0.000e+00, 0.000e+00,\n",
       "        0.000e+00, 0.000e+00, 0.000e+00, 0.000e+00, 0.000e+00, 0.000e+00,\n",
       "        0.000e+00, 0.000e+00, 0.000e+00, 0.000e+00, 0.000e+00, 0.000e+00,\n",
       "        0.000e+00, 0.000e+00, 1.000e+00, 0.000e+00, 0.000e+00, 0.000e+00,\n",
       "        0.000e+00, 0.000e+00, 0.000e+00, 0.000e+00, 0.000e+00, 0.000e+00,\n",
       "        0.000e+00, 0.000e+00, 0.000e+00, 0.000e+00, 0.000e+00, 0.000e+00,\n",
       "        0.000e+00, 0.000e+00, 0.000e+00, 0.000e+00, 0.000e+00, 0.000e+00,\n",
       "        0.000e+00, 0.000e+00, 0.000e+00, 0.000e+00, 1.000e+00, 0.000e+00,\n",
       "        0.000e+00, 0.000e+00, 0.000e+00, 0.000e+00, 0.000e+00, 0.000e+00,\n",
       "        0.000e+00, 0.000e+00, 0.000e+00, 0.000e+00, 0.000e+00, 0.000e+00,\n",
       "        0.000e+00, 0.000e+00, 0.000e+00, 0.000e+00, 0.000e+00, 0.000e+00,\n",
       "        0.000e+00, 0.000e+00, 0.000e+00, 0.000e+00, 0.000e+00, 0.000e+00,\n",
       "        0.000e+00, 0.000e+00, 0.000e+00, 0.000e+00, 0.000e+00, 0.000e+00,\n",
       "        0.000e+00, 0.000e+00, 0.000e+00, 0.000e+00, 0.000e+00, 0.000e+00,\n",
       "        0.000e+00, 0.000e+00, 0.000e+00, 0.000e+00, 0.000e+00, 0.000e+00,\n",
       "        0.000e+00, 0.000e+00, 0.000e+00, 0.000e+00, 0.000e+00, 0.000e+00,\n",
       "        0.000e+00, 1.000e+00, 0.000e+00, 0.000e+00, 0.000e+00, 0.000e+00,\n",
       "        0.000e+00, 0.000e+00, 1.000e+00, 0.000e+00, 0.000e+00, 1.000e+00,\n",
       "        0.000e+00, 0.000e+00, 0.000e+00, 1.000e+00, 0.000e+00, 0.000e+00,\n",
       "        0.000e+00, 0.000e+00, 0.000e+00, 0.000e+00, 0.000e+00, 0.000e+00,\n",
       "        0.000e+00, 0.000e+00, 0.000e+00, 0.000e+00, 0.000e+00, 0.000e+00,\n",
       "        0.000e+00, 0.000e+00, 0.000e+00, 0.000e+00, 0.000e+00, 0.000e+00,\n",
       "        0.000e+00, 0.000e+00, 0.000e+00, 0.000e+00, 0.000e+00, 0.000e+00,\n",
       "        0.000e+00, 0.000e+00, 0.000e+00, 0.000e+00, 0.000e+00, 0.000e+00,\n",
       "        0.000e+00, 0.000e+00, 0.000e+00, 0.000e+00, 0.000e+00, 0.000e+00,\n",
       "        0.000e+00, 0.000e+00, 0.000e+00, 0.000e+00, 0.000e+00, 0.000e+00,\n",
       "        0.000e+00, 0.000e+00, 0.000e+00, 0.000e+00, 0.000e+00, 0.000e+00,\n",
       "        0.000e+00, 0.000e+00, 0.000e+00, 0.000e+00, 0.000e+00, 0.000e+00,\n",
       "        0.000e+00, 0.000e+00, 0.000e+00, 0.000e+00, 0.000e+00, 0.000e+00,\n",
       "        0.000e+00, 0.000e+00, 0.000e+00, 0.000e+00, 0.000e+00, 0.000e+00,\n",
       "        0.000e+00, 0.000e+00, 0.000e+00, 0.000e+00, 0.000e+00, 0.000e+00,\n",
       "        0.000e+00, 0.000e+00, 0.000e+00, 0.000e+00, 0.000e+00, 0.000e+00,\n",
       "        0.000e+00, 0.000e+00, 0.000e+00, 0.000e+00, 0.000e+00, 0.000e+00,\n",
       "        0.000e+00, 0.000e+00, 0.000e+00, 0.000e+00, 0.000e+00, 0.000e+00,\n",
       "        0.000e+00, 0.000e+00, 0.000e+00, 0.000e+00, 0.000e+00, 0.000e+00,\n",
       "        0.000e+00, 0.000e+00, 0.000e+00, 0.000e+00, 0.000e+00, 0.000e+00,\n",
       "        0.000e+00, 0.000e+00, 0.000e+00, 0.000e+00, 0.000e+00, 0.000e+00,\n",
       "        0.000e+00, 0.000e+00, 0.000e+00, 0.000e+00, 0.000e+00, 0.000e+00,\n",
       "        0.000e+00, 0.000e+00, 0.000e+00, 0.000e+00, 0.000e+00, 0.000e+00,\n",
       "        0.000e+00, 0.000e+00, 0.000e+00, 0.000e+00, 0.000e+00, 0.000e+00,\n",
       "        0.000e+00, 0.000e+00, 0.000e+00, 0.000e+00, 0.000e+00, 0.000e+00,\n",
       "        0.000e+00, 0.000e+00, 0.000e+00, 0.000e+00, 0.000e+00, 0.000e+00,\n",
       "        0.000e+00, 0.000e+00, 0.000e+00, 0.000e+00, 0.000e+00, 0.000e+00,\n",
       "        0.000e+00, 0.000e+00, 0.000e+00, 0.000e+00, 0.000e+00, 0.000e+00,\n",
       "        0.000e+00, 0.000e+00, 0.000e+00, 0.000e+00, 0.000e+00, 0.000e+00,\n",
       "        1.000e+00, 0.000e+00, 0.000e+00, 0.000e+00, 0.000e+00, 0.000e+00,\n",
       "        0.000e+00, 0.000e+00, 0.000e+00, 0.000e+00, 0.000e+00, 0.000e+00,\n",
       "        0.000e+00, 0.000e+00, 0.000e+00, 0.000e+00, 0.000e+00, 0.000e+00,\n",
       "        0.000e+00, 0.000e+00, 0.000e+00, 0.000e+00, 0.000e+00, 0.000e+00,\n",
       "        0.000e+00, 0.000e+00, 0.000e+00, 0.000e+00, 0.000e+00, 0.000e+00,\n",
       "        0.000e+00, 0.000e+00, 0.000e+00, 0.000e+00, 0.000e+00, 0.000e+00,\n",
       "        0.000e+00, 0.000e+00, 0.000e+00, 0.000e+00, 0.000e+00, 0.000e+00,\n",
       "        0.000e+00, 1.000e+00, 0.000e+00, 0.000e+00, 0.000e+00, 1.000e+00,\n",
       "        0.000e+00, 0.000e+00, 0.000e+00, 0.000e+00, 0.000e+00, 0.000e+00,\n",
       "        0.000e+00, 0.000e+00, 0.000e+00, 0.000e+00, 0.000e+00, 0.000e+00,\n",
       "        0.000e+00, 0.000e+00, 0.000e+00, 0.000e+00, 0.000e+00, 0.000e+00,\n",
       "        0.000e+00, 0.000e+00, 0.000e+00, 0.000e+00, 0.000e+00, 0.000e+00,\n",
       "        0.000e+00, 0.000e+00, 0.000e+00, 0.000e+00, 0.000e+00, 0.000e+00,\n",
       "        0.000e+00, 0.000e+00, 0.000e+00, 0.000e+00, 0.000e+00, 0.000e+00,\n",
       "        0.000e+00, 0.000e+00, 0.000e+00, 0.000e+00, 0.000e+00, 0.000e+00,\n",
       "        0.000e+00, 0.000e+00, 0.000e+00, 0.000e+00, 0.000e+00, 0.000e+00,\n",
       "        0.000e+00, 0.000e+00, 0.000e+00, 0.000e+00, 0.000e+00, 0.000e+00,\n",
       "        0.000e+00, 0.000e+00, 0.000e+00, 0.000e+00, 0.000e+00, 0.000e+00,\n",
       "        0.000e+00, 0.000e+00, 0.000e+00, 0.000e+00, 0.000e+00, 0.000e+00,\n",
       "        0.000e+00, 0.000e+00, 0.000e+00, 0.000e+00, 0.000e+00, 0.000e+00,\n",
       "        0.000e+00, 0.000e+00, 0.000e+00, 0.000e+00, 0.000e+00, 0.000e+00,\n",
       "        0.000e+00, 0.000e+00, 0.000e+00, 0.000e+00, 0.000e+00, 0.000e+00,\n",
       "        0.000e+00, 0.000e+00, 0.000e+00, 0.000e+00, 0.000e+00, 0.000e+00,\n",
       "        0.000e+00, 0.000e+00, 0.000e+00, 0.000e+00, 0.000e+00, 0.000e+00,\n",
       "        0.000e+00, 0.000e+00, 0.000e+00, 0.000e+00, 0.000e+00, 0.000e+00,\n",
       "        0.000e+00, 0.000e+00, 0.000e+00, 0.000e+00, 0.000e+00, 0.000e+00,\n",
       "        0.000e+00, 0.000e+00, 0.000e+00, 0.000e+00, 0.000e+00, 0.000e+00,\n",
       "        0.000e+00, 0.000e+00, 0.000e+00, 0.000e+00, 0.000e+00, 0.000e+00,\n",
       "        0.000e+00, 0.000e+00, 0.000e+00, 0.000e+00, 0.000e+00, 0.000e+00,\n",
       "        0.000e+00, 0.000e+00, 0.000e+00, 0.000e+00, 0.000e+00, 0.000e+00,\n",
       "        0.000e+00, 0.000e+00, 0.000e+00, 0.000e+00, 0.000e+00, 0.000e+00,\n",
       "        0.000e+00, 0.000e+00, 0.000e+00, 0.000e+00, 0.000e+00, 0.000e+00,\n",
       "        0.000e+00, 0.000e+00, 0.000e+00, 0.000e+00, 0.000e+00, 0.000e+00,\n",
       "        0.000e+00, 0.000e+00, 0.000e+00, 0.000e+00, 0.000e+00, 0.000e+00,\n",
       "        0.000e+00, 0.000e+00, 0.000e+00, 0.000e+00, 0.000e+00, 0.000e+00,\n",
       "        0.000e+00, 0.000e+00, 0.000e+00, 0.000e+00, 0.000e+00, 0.000e+00,\n",
       "        0.000e+00, 0.000e+00, 0.000e+00, 0.000e+00, 0.000e+00, 0.000e+00,\n",
       "        0.000e+00, 0.000e+00, 0.000e+00, 0.000e+00, 0.000e+00, 0.000e+00,\n",
       "        0.000e+00, 0.000e+00, 0.000e+00, 0.000e+00, 0.000e+00, 0.000e+00,\n",
       "        0.000e+00, 0.000e+00, 0.000e+00, 0.000e+00, 0.000e+00, 0.000e+00,\n",
       "        0.000e+00, 0.000e+00, 0.000e+00, 0.000e+00, 0.000e+00, 0.000e+00,\n",
       "        0.000e+00, 0.000e+00, 0.000e+00, 0.000e+00, 0.000e+00, 0.000e+00,\n",
       "        0.000e+00, 0.000e+00, 0.000e+00, 0.000e+00, 0.000e+00, 0.000e+00,\n",
       "        0.000e+00, 0.000e+00, 0.000e+00, 0.000e+00, 0.000e+00, 0.000e+00,\n",
       "        0.000e+00, 0.000e+00, 0.000e+00, 0.000e+00, 0.000e+00, 0.000e+00,\n",
       "        0.000e+00, 0.000e+00, 0.000e+00, 1.000e+00]),\n",
       " array([  20.0002756 ,   26.40274696,   32.80521833, ..., 6409.66669935,\n",
       "        6416.06917071, 6422.47164208]),\n",
       " <a list of 1000 Patch objects>)"
      ]
     },
     "execution_count": 20,
     "metadata": {},
     "output_type": "execute_result"
    },
    {
     "data": {
      "image/png": "[encoded data removed]",
      "text/plain": [
       "<Figure size 432x288 with 1 Axes>"
      ]
     },
     "metadata": {
      "needs_background": "light"
     },
     "output_type": "display_data"
    }
   ],
   "source": [
    "# zoom in\n",
    "plt.xlim(0, 100)\n",
    "plt.hist(pixhistory2, bins=1000)"
   ]
  },
  {
   "cell_type": "markdown",
   "metadata": {},
   "source": [
    "## Play with Example\n",
    "link : https://chi-feng.github.io/mcmc-demo/  \n",
    "Compare each method and describe the expected pros and cons"
   ]
  },
  {
   "cell_type": "markdown",
   "metadata": {},
   "source": [
    "( more to come... :\\ )"
   ]
  },
  {
   "cell_type": "code",
   "execution_count": null,
   "metadata": {},
   "outputs": [],
   "source": []
  }
 ],
 "metadata": {
  "kernelspec": {
   "display_name": "Python 3",
   "language": "python",
   "name": "python3"
  },
  "language_info": {
   "codemirror_mode": {
    "name": "ipython",
    "version": 3
   },
   "file_extension": ".py",
   "mimetype": "text/x-python",
   "name": "python",
   "nbconvert_exporter": "python",
   "pygments_lexer": "ipython3",
   "version": "3.9.2+"
  },
  "latex_envs": {
   "LaTeX_envs_menu_present": true,
   "autoclose": false,
   "autocomplete": true,
   "bibliofile": "biblio.bib",
   "cite_by": "apalike",
   "current_citInitial": 1,
   "eqLabelWithNumbers": true,
   "eqNumInitial": 1,
   "hotkeys": {
    "equation": "Ctrl-E",
    "itemize": "Ctrl-I"
   },
   "labels_anchors": false,
   "latex_user_defs": false,
   "report_style_numbering": false,
   "user_envs_cfg": false
  },
  "toc": {
   "base_numbering": 1,
   "nav_menu": {},
   "number_sections": true,
   "sideBar": true,
   "skip_h1_title": false,
   "title_cell": "Table of Contents",
   "title_sidebar": "Contents",
   "toc_cell": false,
   "toc_position": {},
   "toc_section_display": true,
   "toc_window_display": false
  }
 },
 "nbformat": 4,
 "nbformat_minor": 2
}
