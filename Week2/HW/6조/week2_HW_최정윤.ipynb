{
 "cells": [
  {
   "cell_type": "markdown",
   "metadata": {},
   "source": [
    "## Week 2 HW 최정윤"
   ]
  },
  {
   "cell_type": "markdown",
   "metadata": {},
   "source": [
    "### 1. FCB Exercises 3.3 : Tumor counts"
   ]
  },
  {
   "cell_type": "markdown",
   "metadata": {},
   "source": [
    "**3.3**\n",
    "Tumor counts: A cancer laboratory is estimating the rate of tumorigenesis in two strains of mice, A and B. They have tumor count data for 10 mice in strain A and 13 mice in strain B. Type A mice have been well studied, and information from other laboratories suggests that type A mice have tumor counts that are approximately Poisson-distributed with a mean of 12. Tumor count rates for type B mice are unknown, but type B mice are related to type A mice. The observed tumor counts for the two populations are\n",
    "\n",
    "$yA = (12,9,12,14,13,13,15,8,15,6)$\n",
    "\n",
    "\n",
    "$yB = (11,11,10,9,9,8,7,10,6,8,8,9,7).$"
   ]
  },
  {
   "cell_type": "code",
   "execution_count": 1,
   "metadata": {},
   "outputs": [],
   "source": [
    "import scipy\n",
    "import scipy.stats as st\n",
    "import numpy as np\n",
    "import matplotlib.pyplot as plt\n",
    "from scipy.stats import nbinom\n",
    "from scipy.stats import gamma\n",
    "\n",
    "# Likelihood\n",
    "def likelihood(theta, n, sy):\n",
    "    return (theta**sy)*np.exp(-n*theta)"
   ]
  },
  {
   "cell_type": "code",
   "execution_count": 2,
   "metadata": {},
   "outputs": [],
   "source": [
    "y_A = [12, 9, 12, 14, 13, 13, 15, 8, 15, 6]\n",
    "y_B = [11, 11, 10, 9, 9, 8, 7, 10, 6, 8, 8, 9, 7]"
   ]
  },
  {
   "cell_type": "markdown",
   "metadata": {},
   "source": [
    "------\n",
    "**a)** Find the posterior distributions, means, variances and 95% quantile- based confidence intervals for $θ_A$ and $θ_B$ , assuming a Poisson sampling distribution for each group and the following prior distribution:\n",
    "\n",
    "\n",
    "$θ_A ∼ gamma(120,10), θ_B ∼ gamma(12,1), p(θ_A,θ_B) = p(θ_A)×p(θ_B).$"
   ]
  },
  {
   "cell_type": "code",
   "execution_count": 3,
   "metadata": {},
   "outputs": [],
   "source": [
    "nA, syA = len(y_A), sum(y_A)\n",
    "nB, syB = len(y_B), sum(y_B)"
   ]
  },
  {
   "cell_type": "markdown",
   "metadata": {},
   "source": [
    "posterior distributions, means, variances and 95% quantile- based confidence intervals for $θ_A$"
   ]
  },
  {
   "cell_type": "code",
   "execution_count": 4,
   "metadata": {},
   "outputs": [
    {
     "name": "stdout",
     "output_type": "stream",
     "text": [
      "posterior distributions: <scipy.stats._distn_infrastructure.rv_frozen object at 0x7f9d86c18d00>\n",
      "posterior means: 11.85\n",
      "posterior variances: 0.5925\n",
      "posterior 95% CI: (10.389238190941795, 13.405448325642006)\n"
     ]
    }
   ],
   "source": [
    "# prior parameters for theta ~ gamma(a,b) \n",
    "a = 120\n",
    "b = 10\n",
    "\n",
    "# posterior distribution\n",
    "post_distribution = gamma(a+syA, scale=1/(b+nA))\n",
    "\n",
    "# posterior mean\n",
    "post_mean = (a+syA)/(b+nA)\n",
    "\n",
    "# posterior variance\n",
    "post_var = (a+syA)/(b+nA)**2\n",
    "\n",
    "# posterior 95% CI\n",
    "lbA=gamma.ppf(0.025, a+syA, scale=1/(b+nA))\n",
    "ubA=gamma.ppf(0.975, a+syA, scale=1/(b+nA))\n",
    "\n",
    "print(\"posterior distributions:\", post_distribution)\n",
    "print(\"posterior means:\", post_mean)\n",
    "print(\"posterior variances:\", post_var)\n",
    "print(\"posterior 95% CI:\", (lbA, ubA))"
   ]
  },
  {
   "cell_type": "markdown",
   "metadata": {},
   "source": [
    "posterior distributions, means, variances and 95% quantile- based confidence intervals for $θ_B$"
   ]
  },
  {
   "cell_type": "code",
   "execution_count": 5,
   "metadata": {},
   "outputs": [
    {
     "name": "stdout",
     "output_type": "stream",
     "text": [
      "posterior distributions: <scipy.stats._distn_infrastructure.rv_frozen object at 0x7f9d86c18a30>\n",
      "posterior means: 8.928571428571429\n",
      "posterior variances: 0.6377551020408163\n",
      "posterior 95% CI: (7.432064219464302, 10.560308149242363)\n"
     ]
    }
   ],
   "source": [
    "# prior parameters for theta ~ gamma(a,b) \n",
    "a = 12\n",
    "b = 1\n",
    "\n",
    "# posterior distribution\n",
    "post_distribution = gamma(a+syB, scale=1/(b+nB))\n",
    "\n",
    "# posterior mean\n",
    "post_mean = (a+syB)/(b+nB)\n",
    "\n",
    "# posterior variance\n",
    "post_var = (a+syB)/(b+nB)**2\n",
    "\n",
    "# posterior 95% CI\n",
    "lbB=gamma.ppf(0.025, a+syB, scale=1/(b+nB))\n",
    "ubB=gamma.ppf(0.975, a+syB, scale=1/(b+nB))\n",
    "\n",
    "print(\"posterior distributions:\", post_distribution)\n",
    "print(\"posterior means:\", post_mean)\n",
    "print(\"posterior variances:\", post_var)\n",
    "print(\"posterior 95% CI:\", (lbB, ubB))"
   ]
  },
  {
   "cell_type": "markdown",
   "metadata": {},
   "source": [
    "--------\n",
    "**b)** Compute and plot the posterior expectation of $θ_B$ under the prior distribution $θ_B ∼gamma(12×n0,n0)foreachvalueofn0 ∈{1,2,...,50}.$ Describe what sort of prior beliefs about $θ_B$ would be necessary in or- der for the posterior expectation of $θ_B$ to be close to that of $θ_A$."
   ]
  },
  {
   "cell_type": "code",
   "execution_count": 6,
   "metadata": {
    "scrolled": true
   },
   "outputs": [
    {
     "data": {
      "image/png": "[encoded data removed]",
      "text/plain": [
       "<Figure size 432x288 with 1 Axes>"
      ]
     },
     "metadata": {
      "needs_background": "light"
     },
     "output_type": "display_data"
    }
   ],
   "source": [
    "n_0 = np.linspace(1,50)\n",
    "post_exp_B = (12*n_0+syB)/(n_0+nB)\n",
    "plt.plot(n_0, post_exp_B)\n",
    "plt.show()"
   ]
  },
  {
   "cell_type": "markdown",
   "metadata": {},
   "source": [
    "-------\n",
    "**c)** Should knowledge about population $A$ tell us anything about population $B$? Discuss whether or not it makes sense to have $p(θA,θB) = p(θA) × p(θB)$."
   ]
  },
  {
   "cell_type": "markdown",
   "metadata": {},
   "source": [
    "type B mice가 type A mice가 관련이 있다고 했으나, A와 비교했을 때 B에는 약한 prior가 주어졌다. 때문에 이 둘은 독립적이라고 볼 수 있다."
   ]
  }
 ],
 "metadata": {
  "kernelspec": {
   "display_name": "Python 3",
   "language": "python",
   "name": "python3"
  },
  "language_info": {
   "codemirror_mode": {
    "name": "ipython",
    "version": 3
   },
   "file_extension": ".py",
   "mimetype": "text/x-python",
   "name": "python",
   "nbconvert_exporter": "python",
   "pygments_lexer": "ipython3",
   "version": "3.8.5"
  },
  "toc": {
   "base_numbering": 1,
   "nav_menu": {},
   "number_sections": true,
   "sideBar": true,
   "skip_h1_title": false,
   "title_cell": "Table of Contents",
   "title_sidebar": "Contents",
   "toc_cell": false,
   "toc_position": {},
   "toc_section_display": true,
   "toc_window_display": false
  }
 },
 "nbformat": 4,
 "nbformat_minor": 4
}
