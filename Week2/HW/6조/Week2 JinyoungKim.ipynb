{
 "cells": [
  {
   "cell_type": "markdown",
   "metadata": {},
   "source": [
    "# 1\n",
    "Tumor counts: A cancer laboratory is estimating the rate of tumorigenesis in two strains of mice, A and B. They have tumor count data for 10 mice in strain A and 13 mice in strain B. Type A mice have been well studied, and information from other laboratories suggests that type A mice have tumor counts that are approximately Poisson-distributed with a mean of 12. Tumor count rates for type B mice are unknown, but type B mice are related to type A mice. The observed tumor counts for the two populations are\n",
    "\n",
    "$yA = (12,9,12,14,13,13,15,8,15,6)$\n",
    "\n",
    "$yB = (11,11,10,9,9,8,7,10,6,8,8,9,7).$\n",
    "\n",
    "a) Find the posterior distributions, means, variances and 95% quantilebased confidence intervals for A and B, assuming a Poisson sampling distribution for each group and the following prior distribution: A gamma(120,10), B gamma(12,1), p(A, B) = p(A)×p(B)."
   ]
  },
  {
   "cell_type": "code",
   "execution_count": 1,
   "metadata": {},
   "outputs": [],
   "source": [
    "import scipy\n",
    "import scipy.stats as st\n",
    "import numpy as np\n",
    "import matplotlib.pyplot as plt\n",
    "from scipy.stats import nbinom\n",
    "from scipy.stats import gamma"
   ]
  },
  {
   "cell_type": "code",
   "execution_count": 2,
   "metadata": {},
   "outputs": [],
   "source": [
    "# Likelihood\n",
    "def likelihood(theta, n, sy):\n",
    "    return (theta**sy)*np.exp(-n*theta)"
   ]
  },
  {
   "cell_type": "code",
   "execution_count": 3,
   "metadata": {},
   "outputs": [],
   "source": [
    "y_A = [12, 9, 12, 14, 13, 13, 15, 8, 15, 6]\n",
    "y_B = [11, 11, 10, 9, 9, 8, 7, 10, 6, 8, 8, 9, 7]"
   ]
  },
  {
   "cell_type": "code",
   "execution_count": 4,
   "metadata": {},
   "outputs": [
    {
     "name": "stdout",
     "output_type": "stream",
     "text": [
      "Posterior distribution of A: gammma(237, 20)\n",
      "posterior means of A: 11.85\n",
      "posterior variances of A: 0.5925\n",
      "posterior 95% CI of A: (10.389238190941795, 13.405448325642006)\n",
      "Posterior distribution of B: gammma(125, 14)\n",
      "posterior means of B: 8.928571428571429\n",
      "posterior variances of B: 0.6377551020408163\n",
      "posterior 95% CI of B: (7.432064219464302, 10.560308149242363)\n"
     ]
    }
   ],
   "source": [
    "# prior parameters for theta ~ gamma(a,b) \n",
    "a_A = 120\n",
    "b_A = 10\n",
    "priorA=st.gamma(a_A,scale=1/b_A)\n",
    "\n",
    "# data in group A(no bachelor's) and posterior distribution\n",
    "# n=number of observed women, sy=sum of their numbers of chldren\n",
    "nA =  len(y_A)\n",
    "syA = sum(y_A)\n",
    "postA = st.gamma(a_A+syA, scale=1/(b_A+nA))\n",
    "# posterior mean (Group A)\n",
    "postA_mean = (a_A+syA)/(b_A+nA)\n",
    "# posterior variance (Group A)\n",
    "postA_var = (a_A+syA)/(b_A+nA)**2\n",
    "# posterior 95% CI (Group A)\n",
    "# upper and lower bounds\n",
    "lbA=gamma.ppf(0.025, a_A+syA, scale=1/(b_A+nA))\n",
    "ubA=gamma.ppf(0.975, a_A+syA, scale=1/(b_A+nA))\n",
    "\n",
    "# prior parameters for theta ~ gamma(a,b) \n",
    "a_B = 12\n",
    "b_B = 1\n",
    "priorB=st.gamma(a_B,scale=1/b_B)\n",
    "# data in group B(bachelor's) and posterior distribution\n",
    "nB = len(y_B)\n",
    "syB = sum(y_B)\n",
    "postB = st.gamma(a_B+syB, scale=1/(b_B+nB))\n",
    "# posterior mean (Group B)\n",
    "postB_mean = (a_B+syB)/(b_B+nB)\n",
    "# posterior variance (Group B)\n",
    "postB_var = (a_B+syB)/(b_B+nB)**2\n",
    "# posterior 95% CI (Group B)\n",
    "# upper and lower bounds\n",
    "lbB=gamma.ppf(0.025, a_B+syB, scale=1/(b_B+nB))\n",
    "ubB=gamma.ppf(0.975, a_B+syB, scale=1/(b_B+nB))\n",
    "\n",
    "print(\"Posterior distribution of A: gammma(%d, %d)\" %(a_A+syA,b_A+nA))\n",
    "print(\"posterior means of A:\", postA_mean)\n",
    "print(\"posterior variances of A:\", postA_var)\n",
    "print(\"posterior 95% CI of A:\", (lbA, ubA))\n",
    "\n",
    "print(\"Posterior distribution of B: gammma(%d, %d)\" %(a_B+syB,b_B+nB))\n",
    "print(\"posterior means of B:\", postB_mean)\n",
    "print(\"posterior variances of B:\", postB_var)\n",
    "print(\"posterior 95% CI of B:\", (lbB, ubB))"
   ]
  },
  {
   "cell_type": "markdown",
   "metadata": {},
   "source": [
    "b) Compute and plot the posterior expectation of B under the prior distribution B gamma(12×n0, n0) for each value of n0 2 {1, 2, . . . , 50}. Describe what sort of prior beliefs about B would be necessary in order for the posterior expectation of B to be close to that of A."
   ]
  },
  {
   "cell_type": "code",
   "execution_count": 5,
   "metadata": {},
   "outputs": [
    {
     "data": {
      "image/png": "[encoded data removed]",
      "text/plain": [
       "<Figure size 432x288 with 1 Axes>"
      ]
     },
     "metadata": {
      "needs_background": "light"
     },
     "output_type": "display_data"
    }
   ],
   "source": [
    "n_0 = np.linspace(1,50)\n",
    "post_exp_B = (12*n_0+syB)/(n_0+nB)\n",
    "plt.plot(n_0, post_exp_B)\n",
    "plt.show()"
   ]
  },
  {
   "cell_type": "markdown",
   "metadata": {},
   "source": [
    "# 2"
   ]
  },
  {
   "cell_type": "markdown",
   "metadata": {},
   "source": [
    "![KakaoTalk_20210318_183928109.jpg](KakaoTalk_20210318_183928109.jpg)"
   ]
  },
  {
   "cell_type": "markdown",
   "metadata": {},
   "source": [
    "# 3"
   ]
  },
  {
   "cell_type": "markdown",
   "metadata": {},
   "source": [
    "![KakaoTalk_20210318_183928109_01.jpg](KakaoTalk_20210318_183928109_01.jpg)"
   ]
  }
 ],
 "metadata": {
  "kernelspec": {
   "display_name": "Python 3",
   "language": "python",
   "name": "python3"
  },
  "language_info": {
   "codemirror_mode": {
    "name": "ipython",
    "version": 3
   },
   "file_extension": ".py",
   "mimetype": "text/x-python",
   "name": "python",
   "nbconvert_exporter": "python",
   "pygments_lexer": "ipython3",
   "version": "3.6.10"
  }
 },
 "nbformat": 4,
 "nbformat_minor": 4
}
