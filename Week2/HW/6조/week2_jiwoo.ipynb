{
 "cells": [
  {
   "cell_type": "markdown",
   "metadata": {},
   "source": [
    "손지우"
   ]
  },
  {
   "cell_type": "markdown",
   "metadata": {},
   "source": [
    "# 1번 문제. FCB Exercise 3.3"
   ]
  },
  {
   "cell_type": "markdown",
   "metadata": {},
   "source": [
    "## Import Library"
   ]
  },
  {
   "cell_type": "code",
   "execution_count": 48,
   "metadata": {},
   "outputs": [],
   "source": [
    "import numpy as np\n",
    "import scipy.stats as st\n",
    "from scipy.stats import nbinom\n",
    "from scipy.stats import gamma\n",
    "import matplotlib.pyplot as plt\n",
    "import warnings\n",
    "warnings.filterwarnings(action='ignore')"
   ]
  },
  {
   "cell_type": "markdown",
   "metadata": {},
   "source": [
    "## Input Data"
   ]
  },
  {
   "cell_type": "code",
   "execution_count": 2,
   "metadata": {},
   "outputs": [],
   "source": [
    "ya = [12, 9, 12, 14, 13, 13, 15, 8, 15, 6]\n",
    "yb = [11, 11, 10, 9, 9, 8, 7, 10, 6, 8, 8, 9, 7]"
   ]
  },
  {
   "cell_type": "code",
   "execution_count": 12,
   "metadata": {},
   "outputs": [],
   "source": [
    "num_a = len(ya)\n",
    "num_b = len(yb)\n",
    "\n",
    "sum_a = sum(ya)\n",
    "sum_b = sum(yb)"
   ]
  },
  {
   "cell_type": "markdown",
   "metadata": {},
   "source": [
    "## a) posterior distributions, mean, variances, 95% CI for $\\theta_A, \\theta_B$"
   ]
  },
  {
   "cell_type": "code",
   "execution_count": 45,
   "metadata": {},
   "outputs": [
    {
     "name": "stdout",
     "output_type": "stream",
     "text": [
      "posterior distribution of thetaA with parameter 237 and 20\n",
      "posterior mean is of thetaA 11.85\n",
      "posterior variance is of thetaA 0.5925\n",
      "posterior 95% CI is of thetaA [10.38923819 13.40544833]\n"
     ]
    }
   ],
   "source": [
    "# prior \n",
    "alpha_a = 120\n",
    "beta_a = 10\n",
    "\n",
    "# posterior distribution\n",
    "postA = gamma(alpha_a+sum_a, scale=1/(beta_a+num_a))\n",
    "print('posterior distribution of thetaA with parameter', alpha_a+sum_a, 'and', (beta_a+num_a))\n",
    "\n",
    "# posterior mean\n",
    "postMean_a = (alpha_a+sum_a)/(beta_a+num_a)\n",
    "print('posterior mean is of thetaA', postMean_a)\n",
    "\n",
    "# posterior variance\n",
    "postVar_a = (alpha_a+sum_a)/(beta_a+num_a)**2\n",
    "print('posterior variance is of thetaA', postVar_a)\n",
    "\n",
    "# posterior 95% CI\n",
    "postCI_a = gamma.ppf([0.025,0.975], alpha_a+sum_a, scale=1/(beta_a+num_a))\n",
    "print('posterior 95% CI is of thetaA', postCI_a)"
   ]
  },
  {
   "cell_type": "code",
   "execution_count": 44,
   "metadata": {},
   "outputs": [
    {
     "name": "stdout",
     "output_type": "stream",
     "text": [
      "posterior distribution of thetaB with parameter 233 and 23\n",
      "posterior mean of thetaB is 10.130434782608695\n",
      "posterior variance of thetaB is 0.44045368620037806\n",
      "posterior 95% CI of thetaB is [ 8.87132888 11.47187635]\n"
     ]
    }
   ],
   "source": [
    "# prior  \n",
    "alpha_b = 120\n",
    "beta_b = 10\n",
    "\n",
    "# posterior distribution\n",
    "postB = gamma(alpha_b+sum_b, scale=1/(beta_b+num_b))\n",
    "print('posterior distribution of thetaB with parameter', alpha_b+sum_b, 'and', (beta_b+num_b))\n",
    "\n",
    "# posterior mean\n",
    "postMean_b = (alpha_a+sum_b)/(beta_a+num_b)\n",
    "print('posterior mean of thetaB is', postMean_b)\n",
    "\n",
    "# posterior variance\n",
    "postVar_b = (alpha_a+sum_b)/(beta_b+num_b)**2\n",
    "print('posterior variance of thetaB is', postVar_b)\n",
    "\n",
    "# posterior 95% CI\n",
    "postCI_b = gamma.ppf([0.025,0.975], alpha_b+sum_b, scale=1/(beta_b+num_b))\n",
    "print('posterior 95% CI of thetaB is', postCI_b)"
   ]
  },
  {
   "cell_type": "code",
   "execution_count": 50,
   "metadata": {},
   "outputs": [
    {
     "data": {
      "image/png": "[encoded data removed]",
      "text/plain": [
       "<Figure size 576x432 with 1 Axes>"
      ]
     },
     "metadata": {
      "needs_background": "light"
     },
     "output_type": "display_data"
    }
   ],
   "source": [
    "thetas = np.linspace(0, 15, 300)\n",
    "plt.figure(figsize=(8, 6))\n",
    "plt.plot(thetas, st.gamma(alpha_a+sum_a, scale=1/(beta_a+num_a)).pdf(thetas), label='A Posterior', color='orange')\n",
    "plt.plot(thetas, st.gamma(alpha_b+sum_b, scale=1/(beta_b+num_b)).pdf(thetas), label='B Posterior', color='green')\n",
    "plt.legend()\n",
    "plt.show()"
   ]
  },
  {
   "cell_type": "markdown",
   "metadata": {},
   "source": [
    "## b) posterior expectation of $\\theta_B \\text{ ~ } gamma(12\\times n_0, n_0) \\text{ where } n_0 \\in \\{1,2,...,50\\}$"
   ]
  },
  {
   "cell_type": "code",
   "execution_count": 56,
   "metadata": {},
   "outputs": [
    {
     "data": {
      "image/png": "[encoded data removed]",
      "text/plain": [
       "<Figure size 432x288 with 1 Axes>"
      ]
     },
     "metadata": {
      "needs_background": "light"
     },
     "output_type": "display_data"
    }
   ],
   "source": [
    "n0 = np.linspace(1,50)\n",
    "postExp_b = (12*n0+sum_b)/(n0+num_b)\n",
    "plt.plot(n0, postExp_b, marker='o', c='green')\n",
    "plt.show()"
   ]
  },
  {
   "cell_type": "markdown",
   "metadata": {},
   "source": [
    "## c) Should knowledge about population A tell us anything about population B? Discuss whether or not it makes sense to have $p(\\theta_A, \\theta_B) = p(\\theta_A) \\times p(\\theta_B)$"
   ]
  },
  {
   "cell_type": "markdown",
   "metadata": {},
   "source": [
    "A와 B의 사전 평균이 같다는 점 외에는 특별한 영향을 준 것은 없어보인다. 그래서그런지 약한 prior가 주어져있다. 결론적으로, 독립이라고 보아도 무방할 것이다."
   ]
  }
 ],
 "metadata": {
  "kernelspec": {
   "display_name": "Python 3",
   "language": "python",
   "name": "python3"
  },
  "language_info": {
   "codemirror_mode": {
    "name": "ipython",
    "version": 3
   },
   "file_extension": ".py",
   "mimetype": "text/x-python",
   "name": "python",
   "nbconvert_exporter": "python",
   "pygments_lexer": "ipython3",
   "version": "3.8.3"
  }
 },
 "nbformat": 4,
 "nbformat_minor": 4
}
