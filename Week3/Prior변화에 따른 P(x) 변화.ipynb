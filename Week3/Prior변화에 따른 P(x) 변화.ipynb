{
 "cells": [
  {
   "cell_type": "markdown",
   "metadata": {},
   "source": [
    "## ESC Week3\n",
    "____\n",
    "### Unknown sigma의 prior param 조정에 따른 p(x) 변화"
   ]
  },
  {
   "cell_type": "code",
   "execution_count": 198,
   "metadata": {},
   "outputs": [],
   "source": [
    "%matplotlib inline\n",
    "import numpy as np\n",
    "import matplotlib.pyplot as plt\n",
    "from matplotlib import cm"
   ]
  },
  {
   "cell_type": "code",
   "execution_count": 2,
   "metadata": {},
   "outputs": [],
   "source": [
    "from scipy.stats import norm\n",
    "from scipy.stats import invgamma\n",
    "from scipy import integrate\n",
    "\n",
    "# !pip install ipywidgets\n",
    "from ipywidgets import interact\n",
    "import ipywidgets as widgets"
   ]
  },
  {
   "cell_type": "markdown",
   "metadata": {},
   "source": [
    "$$ p(data,var)=p(data|var)*p(var)$$\n",
    "$$ data|var \\sim N(0,var) $$\n",
    "$$ var \\sim \\Gamma^{-1}(\\alpha, \\beta) $$\n",
    "\n",
    "$$ \\int p(data,var)d(var) = \\int p(data|var)p(var)d(var) = p(data)$$"
   ]
  },
  {
   "cell_type": "markdown",
   "metadata": {},
   "source": [
    "![dist](dist.png)"
   ]
  },
  {
   "cell_type": "code",
   "execution_count": 212,
   "metadata": {},
   "outputs": [
    {
     "data": {
      "application/vnd.jupyter.widget-view+json": {
       "model_id": "fa7dd0219f4847a7b2f43ad3d95c14e3",
       "version_major": 2,
       "version_minor": 0
      },
      "text/plain": [
       "interactive(children=(Dropdown(description='alpha', options=(1, 3, 5, 7, 9), value=1), Dropdown(description='b…"
      ]
     },
     "metadata": {},
     "output_type": "display_data"
    },
    {
     "data": {
      "text/plain": [
       "<function __main__.inter(alpha, beta)>"
      ]
     },
     "execution_count": 212,
     "metadata": {},
     "output_type": "execute_result"
    }
   ],
   "source": [
    "def inter(alpha, beta):\n",
    "    shape = alpha\n",
    "    scale = beta\n",
    "    def f(data, sigma):\n",
    "        #sigma = standard deviation\n",
    "        var = sigma**2\n",
    "        return norm(0,var).pdf(data) * invgamma.pdf(var, a=shape, scale=scale)\n",
    "    \n",
    "    data = np.linspace(-2, 2, 50)\n",
    "    sigma = np.linspace(1, 2, 50)\n",
    "    X, Y = np.meshgrid(data, sigma)\n",
    "    Z = f(X,Y)\n",
    "\n",
    "    fig = plt.figure(figsize=(8,14))\n",
    "    ax = fig.add_subplot(2,1,1,projection='3d')\n",
    "    ax.view_init(70,40) #방향돌리기\n",
    "    # ax.contour3D(X, Y, Z, 50, cmap='plasma')\n",
    "    ax.plot_surface(X,Y,Z,cmap=cm.coolwarm, linewidth=1, antialiased=False)\n",
    "    ax.set_xlabel('data')\n",
    "    ax.set_ylabel('sigma')\n",
    "    ax.set_zlabel('density');\n",
    "    \n",
    "    \n",
    "    marginal=[]\n",
    "    for i in range(0,50): \n",
    "        def g(sigma): #되게 비효율적인 코드지만 quad 활용을 잘 못해서,,,\n",
    "            return f(data[i],sigma)\n",
    "        marginal.append(abs(np.diff(integrate.quad(g,0.01,3))[0]))\n",
    "    ax = fig.add_subplot(2,1,2)\n",
    "    ax.plot(data,marginal)\n",
    "    \n",
    "interact(inter, alpha=[1,3,5,7,9], beta=[1,3,5,7,9])\n",
    "\n",
    "# alpha=9, beta=1인 경우 cauchy에 근접.\n",
    "# beta가 커질수록 평평해진다."
   ]
  }
 ],
 "metadata": {
  "kernelspec": {
   "display_name": "Python 3",
   "language": "python",
   "name": "python3"
  },
  "language_info": {
   "codemirror_mode": {
    "name": "ipython",
    "version": 3
   },
   "file_extension": ".py",
   "mimetype": "text/x-python",
   "name": "python",
   "nbconvert_exporter": "python",
   "pygments_lexer": "ipython3",
   "version": "3.8.5"
  }
 },
 "nbformat": 4,
 "nbformat_minor": 4
}
