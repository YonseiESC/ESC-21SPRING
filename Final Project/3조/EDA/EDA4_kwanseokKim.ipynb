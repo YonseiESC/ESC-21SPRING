{
 "cells": [
  {
   "cell_type": "code",
   "execution_count": 88,
   "id": "sudden-washer",
   "metadata": {},
   "outputs": [],
   "source": [
    "import pandas as pd\n",
    "import numpy as np\n",
    "import csv\n",
    "import seaborn as sns\n",
    "from scipy import stats\n",
    "\n",
    "BCG = pd.read_csv(\"/Users/kwanseok/Downloads/ml_case_training_data.csv\")"
   ]
  },
  {
   "cell_type": "code",
   "execution_count": 48,
   "id": "israeli-handbook",
   "metadata": {},
   "outputs": [
    {
     "data": {
      "text/html": [
       "<div>\n",
       "<style scoped>\n",
       "    .dataframe tbody tr th:only-of-type {\n",
       "        vertical-align: middle;\n",
       "    }\n",
       "\n",
       "    .dataframe tbody tr th {\n",
       "        vertical-align: top;\n",
       "    }\n",
       "\n",
       "    .dataframe thead th {\n",
       "        text-align: right;\n",
       "    }\n",
       "</style>\n",
       "<table border=\"1\" class=\"dataframe\">\n",
       "  <thead>\n",
       "    <tr style=\"text-align: right;\">\n",
       "      <th></th>\n",
       "      <th>churn</th>\n",
       "      <th>forecast_discount_energy</th>\n",
       "      <th>forecast_meter_rent_12m</th>\n",
       "      <th>forecast_price_energy_p1</th>\n",
       "      <th>forecast_price_energy_p2</th>\n",
       "      <th>forecast_price_pow_p1</th>\n",
       "    </tr>\n",
       "  </thead>\n",
       "  <tbody>\n",
       "    <tr>\n",
       "      <th>0</th>\n",
       "      <td>0</td>\n",
       "      <td>0</td>\n",
       "      <td>138.95</td>\n",
       "      <td>0.116900</td>\n",
       "      <td>0.100015</td>\n",
       "      <td>40.606701</td>\n",
       "    </tr>\n",
       "    <tr>\n",
       "      <th>1</th>\n",
       "      <td>0</td>\n",
       "      <td>0</td>\n",
       "      <td>6.84</td>\n",
       "      <td>0.142065</td>\n",
       "      <td>0.000000</td>\n",
       "      <td>44.311378</td>\n",
       "    </tr>\n",
       "    <tr>\n",
       "      <th>2</th>\n",
       "      <td>0</td>\n",
       "      <td>30</td>\n",
       "      <td>18.37</td>\n",
       "      <td>0.199230</td>\n",
       "      <td>0.000000</td>\n",
       "      <td>45.806878</td>\n",
       "    </tr>\n",
       "    <tr>\n",
       "      <th>3</th>\n",
       "      <td>0</td>\n",
       "      <td>0</td>\n",
       "      <td>132.11</td>\n",
       "      <td>0.110083</td>\n",
       "      <td>0.093746</td>\n",
       "      <td>40.606701</td>\n",
       "    </tr>\n",
       "    <tr>\n",
       "      <th>4</th>\n",
       "      <td>0</td>\n",
       "      <td>0</td>\n",
       "      <td>18.27</td>\n",
       "      <td>0.144149</td>\n",
       "      <td>0.000000</td>\n",
       "      <td>44.311378</td>\n",
       "    </tr>\n",
       "  </tbody>\n",
       "</table>\n",
       "</div>"
      ],
      "text/plain": [
       "   churn  forecast_discount_energy  forecast_meter_rent_12m  \\\n",
       "0      0                         0                   138.95   \n",
       "1      0                         0                     6.84   \n",
       "2      0                        30                    18.37   \n",
       "3      0                         0                   132.11   \n",
       "4      0                         0                    18.27   \n",
       "\n",
       "   forecast_price_energy_p1  forecast_price_energy_p2  forecast_price_pow_p1  \n",
       "0                  0.116900                  0.100015              40.606701  \n",
       "1                  0.142065                  0.000000              44.311378  \n",
       "2                  0.199230                  0.000000              45.806878  \n",
       "3                  0.110083                  0.093746              40.606701  \n",
       "4                  0.144149                  0.000000              44.311378  "
      ]
     },
     "execution_count": 48,
     "metadata": {},
     "output_type": "execute_result"
    }
   ],
   "source": [
    "BCG4 = BCG[[\"churn\", \"forecast_discount_energy\", \"forecast_meter_rent_12m\", \"forecast_price_energy_p1\",\"forecast_price_energy_p2\", \"forecast_price_pow_p1\"]]\n",
    "BCG4.head()"
   ]
  },
  {
   "cell_type": "code",
   "execution_count": 59,
   "id": "hollow-maine",
   "metadata": {},
   "outputs": [
    {
     "data": {
      "text/plain": [
       "churn                       125\n",
       "forecast_discount_energy    125\n",
       "forecast_meter_rent_12m     125\n",
       "forecast_price_energy_p1      0\n",
       "forecast_price_energy_p2      0\n",
       "forecast_price_pow_p1         0\n",
       "dtype: int64"
      ]
     },
     "execution_count": 59,
     "metadata": {},
     "output_type": "execute_result"
    }
   ],
   "source": [
    "(BCG4[BCG4[\"forecast_price_energy_p1\"].isna()]== BCG4[BCG4[\"forecast_price_pow_p1\"].isna()]).sum()"
   ]
  },
  {
   "cell_type": "code",
   "execution_count": 30,
   "id": "healthy-tourist",
   "metadata": {},
   "outputs": [
    {
     "data": {
      "text/plain": [
       "id                                  0\n",
       "activity_new                     9542\n",
       "channel_sales                    4216\n",
       "cons_12m                            0\n",
       "cons_gas_12m                        0\n",
       "cons_last_month                     0\n",
       "no_consumption                      0\n",
       "churn                               0\n",
       "days_active                         0\n",
       "days_since_last_modification        0\n",
       "forecast_base_bill_ele          12585\n",
       "forecast_base_bill_year         12585\n",
       "forecast_bill_12m               12585\n",
       "forecast_cons                   12585\n",
       "forecast_cons_12m                   0\n",
       "forecast_cons_year                  0\n",
       "forecast_discount_energy            0\n",
       "forecast_meter_rent_12m             0\n",
       "forecast_price_energy_p1          125\n",
       "forecast_price_energy_p2          125\n",
       "forecast_price_pow_p1             125\n",
       "has_gas                             0\n",
       "imp_cons                            0\n",
       "margin_gross_pow_ele                9\n",
       "margin_net_pow_ele                  9\n",
       "nb_prod_act                         0\n",
       "net_margin                         11\n",
       "num_years_antig                     0\n",
       "origin_up                          87\n",
       "pow_max                             0\n",
       "dtype: int64"
      ]
     },
     "execution_count": 30,
     "metadata": {},
     "output_type": "execute_result"
    }
   ],
   "source": [
    "BCG.isna().sum()"
   ]
  },
  {
   "cell_type": "code",
   "execution_count": 17,
   "id": "surprising-working",
   "metadata": {},
   "outputs": [
    {
     "data": {
      "text/html": [
       "<div>\n",
       "<style scoped>\n",
       "    .dataframe tbody tr th:only-of-type {\n",
       "        vertical-align: middle;\n",
       "    }\n",
       "\n",
       "    .dataframe tbody tr th {\n",
       "        vertical-align: top;\n",
       "    }\n",
       "\n",
       "    .dataframe thead th {\n",
       "        text-align: right;\n",
       "    }\n",
       "</style>\n",
       "<table border=\"1\" class=\"dataframe\">\n",
       "  <thead>\n",
       "    <tr style=\"text-align: right;\">\n",
       "      <th></th>\n",
       "      <th>cons_12m</th>\n",
       "      <th>cons_gas_12m</th>\n",
       "      <th>cons_last_month</th>\n",
       "      <th>no_consumption</th>\n",
       "      <th>churn</th>\n",
       "      <th>days_active</th>\n",
       "      <th>days_since_last_modification</th>\n",
       "      <th>forecast_base_bill_ele</th>\n",
       "      <th>forecast_base_bill_year</th>\n",
       "      <th>forecast_bill_12m</th>\n",
       "      <th>...</th>\n",
       "      <th>forecast_price_energy_p2</th>\n",
       "      <th>forecast_price_pow_p1</th>\n",
       "      <th>has_gas</th>\n",
       "      <th>imp_cons</th>\n",
       "      <th>margin_gross_pow_ele</th>\n",
       "      <th>margin_net_pow_ele</th>\n",
       "      <th>nb_prod_act</th>\n",
       "      <th>net_margin</th>\n",
       "      <th>num_years_antig</th>\n",
       "      <th>pow_max</th>\n",
       "    </tr>\n",
       "  </thead>\n",
       "  <tbody>\n",
       "    <tr>\n",
       "      <th>count</th>\n",
       "      <td>1.609200e+04</td>\n",
       "      <td>1.609200e+04</td>\n",
       "      <td>1.609200e+04</td>\n",
       "      <td>16092.000000</td>\n",
       "      <td>16092.000000</td>\n",
       "      <td>16092.000000</td>\n",
       "      <td>16092.000000</td>\n",
       "      <td>3507.000000</td>\n",
       "      <td>3507.000000</td>\n",
       "      <td>3507.000000</td>\n",
       "      <td>...</td>\n",
       "      <td>15967.000000</td>\n",
       "      <td>15967.000000</td>\n",
       "      <td>16092.000000</td>\n",
       "      <td>16092.000000</td>\n",
       "      <td>16083.000000</td>\n",
       "      <td>16083.000000</td>\n",
       "      <td>16092.000000</td>\n",
       "      <td>16081.000000</td>\n",
       "      <td>16092.000000</td>\n",
       "      <td>16092.000000</td>\n",
       "    </tr>\n",
       "    <tr>\n",
       "      <th>mean</th>\n",
       "      <td>1.948460e+05</td>\n",
       "      <td>3.191957e+04</td>\n",
       "      <td>1.946575e+04</td>\n",
       "      <td>0.324571</td>\n",
       "      <td>0.099118</td>\n",
       "      <td>2012.764976</td>\n",
       "      <td>1245.587870</td>\n",
       "      <td>335.939621</td>\n",
       "      <td>335.939621</td>\n",
       "      <td>3838.536089</td>\n",
       "      <td>...</td>\n",
       "      <td>0.052955</td>\n",
       "      <td>43.533582</td>\n",
       "      <td>0.184129</td>\n",
       "      <td>196.121604</td>\n",
       "      <td>22.462276</td>\n",
       "      <td>21.460318</td>\n",
       "      <td>1.347813</td>\n",
       "      <td>217.987028</td>\n",
       "      <td>5.030512</td>\n",
       "      <td>20.577385</td>\n",
       "    </tr>\n",
       "    <tr>\n",
       "      <th>std</th>\n",
       "      <td>6.795943e+05</td>\n",
       "      <td>1.776098e+05</td>\n",
       "      <td>8.236655e+04</td>\n",
       "      <td>0.468229</td>\n",
       "      <td>0.298829</td>\n",
       "      <td>789.137305</td>\n",
       "      <td>4665.324937</td>\n",
       "      <td>649.473833</td>\n",
       "      <td>649.473833</td>\n",
       "      <td>5426.130920</td>\n",
       "      <td>...</td>\n",
       "      <td>0.048617</td>\n",
       "      <td>5.212683</td>\n",
       "      <td>0.387601</td>\n",
       "      <td>494.416950</td>\n",
       "      <td>23.700883</td>\n",
       "      <td>27.917349</td>\n",
       "      <td>1.459973</td>\n",
       "      <td>366.742030</td>\n",
       "      <td>1.676200</td>\n",
       "      <td>21.507092</td>\n",
       "    </tr>\n",
       "    <tr>\n",
       "      <th>min</th>\n",
       "      <td>-1.252760e+05</td>\n",
       "      <td>-3.037000e+03</td>\n",
       "      <td>-9.138600e+04</td>\n",
       "      <td>0.000000</td>\n",
       "      <td>0.000000</td>\n",
       "      <td>-41444.000000</td>\n",
       "      <td>-42398.000000</td>\n",
       "      <td>-364.940000</td>\n",
       "      <td>-364.940000</td>\n",
       "      <td>-2503.480000</td>\n",
       "      <td>...</td>\n",
       "      <td>0.000000</td>\n",
       "      <td>-0.122184</td>\n",
       "      <td>0.000000</td>\n",
       "      <td>-9038.210000</td>\n",
       "      <td>-525.540000</td>\n",
       "      <td>-615.660000</td>\n",
       "      <td>1.000000</td>\n",
       "      <td>-4148.990000</td>\n",
       "      <td>1.000000</td>\n",
       "      <td>1.000000</td>\n",
       "    </tr>\n",
       "    <tr>\n",
       "      <th>25%</th>\n",
       "      <td>5.906250e+03</td>\n",
       "      <td>0.000000e+00</td>\n",
       "      <td>0.000000e+00</td>\n",
       "      <td>0.000000</td>\n",
       "      <td>0.000000</td>\n",
       "      <td>1461.000000</td>\n",
       "      <td>55.000000</td>\n",
       "      <td>0.000000</td>\n",
       "      <td>0.000000</td>\n",
       "      <td>1158.190000</td>\n",
       "      <td>...</td>\n",
       "      <td>0.000000</td>\n",
       "      <td>40.606701</td>\n",
       "      <td>0.000000</td>\n",
       "      <td>0.000000</td>\n",
       "      <td>11.960000</td>\n",
       "      <td>11.950000</td>\n",
       "      <td>1.000000</td>\n",
       "      <td>51.970000</td>\n",
       "      <td>4.000000</td>\n",
       "      <td>12.500000</td>\n",
       "    </tr>\n",
       "    <tr>\n",
       "      <th>50%</th>\n",
       "      <td>1.533250e+04</td>\n",
       "      <td>0.000000e+00</td>\n",
       "      <td>9.005000e+02</td>\n",
       "      <td>0.000000</td>\n",
       "      <td>0.000000</td>\n",
       "      <td>1833.000000</td>\n",
       "      <td>732.000000</td>\n",
       "      <td>163.020000</td>\n",
       "      <td>163.020000</td>\n",
       "      <td>2187.850000</td>\n",
       "      <td>...</td>\n",
       "      <td>0.086163</td>\n",
       "      <td>44.311378</td>\n",
       "      <td>0.000000</td>\n",
       "      <td>44.395000</td>\n",
       "      <td>21.090000</td>\n",
       "      <td>20.970000</td>\n",
       "      <td>1.000000</td>\n",
       "      <td>119.680000</td>\n",
       "      <td>5.000000</td>\n",
       "      <td>13.856000</td>\n",
       "    </tr>\n",
       "    <tr>\n",
       "      <th>75%</th>\n",
       "      <td>5.022150e+04</td>\n",
       "      <td>0.000000e+00</td>\n",
       "      <td>4.127000e+03</td>\n",
       "      <td>1.000000</td>\n",
       "      <td>0.000000</td>\n",
       "      <td>2401.250000</td>\n",
       "      <td>1827.000000</td>\n",
       "      <td>396.190000</td>\n",
       "      <td>396.190000</td>\n",
       "      <td>4246.860000</td>\n",
       "      <td>...</td>\n",
       "      <td>0.098837</td>\n",
       "      <td>44.311378</td>\n",
       "      <td>0.000000</td>\n",
       "      <td>217.995000</td>\n",
       "      <td>29.640000</td>\n",
       "      <td>29.640000</td>\n",
       "      <td>1.000000</td>\n",
       "      <td>275.810000</td>\n",
       "      <td>6.000000</td>\n",
       "      <td>19.800000</td>\n",
       "    </tr>\n",
       "    <tr>\n",
       "      <th>max</th>\n",
       "      <td>1.609711e+07</td>\n",
       "      <td>4.188440e+06</td>\n",
       "      <td>4.538720e+06</td>\n",
       "      <td>1.000000</td>\n",
       "      <td>1.000000</td>\n",
       "      <td>5925.000000</td>\n",
       "      <td>42373.000000</td>\n",
       "      <td>12566.080000</td>\n",
       "      <td>12566.080000</td>\n",
       "      <td>81122.630000</td>\n",
       "      <td>...</td>\n",
       "      <td>0.195975</td>\n",
       "      <td>59.444710</td>\n",
       "      <td>1.000000</td>\n",
       "      <td>15042.790000</td>\n",
       "      <td>374.640000</td>\n",
       "      <td>374.640000</td>\n",
       "      <td>32.000000</td>\n",
       "      <td>24570.650000</td>\n",
       "      <td>16.000000</td>\n",
       "      <td>500.000000</td>\n",
       "    </tr>\n",
       "  </tbody>\n",
       "</table>\n",
       "<p>8 rows × 26 columns</p>\n",
       "</div>"
      ],
      "text/plain": [
       "           cons_12m  cons_gas_12m  cons_last_month  no_consumption  \\\n",
       "count  1.609200e+04  1.609200e+04     1.609200e+04    16092.000000   \n",
       "mean   1.948460e+05  3.191957e+04     1.946575e+04        0.324571   \n",
       "std    6.795943e+05  1.776098e+05     8.236655e+04        0.468229   \n",
       "min   -1.252760e+05 -3.037000e+03    -9.138600e+04        0.000000   \n",
       "25%    5.906250e+03  0.000000e+00     0.000000e+00        0.000000   \n",
       "50%    1.533250e+04  0.000000e+00     9.005000e+02        0.000000   \n",
       "75%    5.022150e+04  0.000000e+00     4.127000e+03        1.000000   \n",
       "max    1.609711e+07  4.188440e+06     4.538720e+06        1.000000   \n",
       "\n",
       "              churn   days_active  days_since_last_modification  \\\n",
       "count  16092.000000  16092.000000                  16092.000000   \n",
       "mean       0.099118   2012.764976                   1245.587870   \n",
       "std        0.298829    789.137305                   4665.324937   \n",
       "min        0.000000 -41444.000000                 -42398.000000   \n",
       "25%        0.000000   1461.000000                     55.000000   \n",
       "50%        0.000000   1833.000000                    732.000000   \n",
       "75%        0.000000   2401.250000                   1827.000000   \n",
       "max        1.000000   5925.000000                  42373.000000   \n",
       "\n",
       "       forecast_base_bill_ele  forecast_base_bill_year  forecast_bill_12m  \\\n",
       "count             3507.000000              3507.000000        3507.000000   \n",
       "mean               335.939621               335.939621        3838.536089   \n",
       "std                649.473833               649.473833        5426.130920   \n",
       "min               -364.940000              -364.940000       -2503.480000   \n",
       "25%                  0.000000                 0.000000        1158.190000   \n",
       "50%                163.020000               163.020000        2187.850000   \n",
       "75%                396.190000               396.190000        4246.860000   \n",
       "max              12566.080000             12566.080000       81122.630000   \n",
       "\n",
       "       ...  forecast_price_energy_p2  forecast_price_pow_p1       has_gas  \\\n",
       "count  ...              15967.000000           15967.000000  16092.000000   \n",
       "mean   ...                  0.052955              43.533582      0.184129   \n",
       "std    ...                  0.048617               5.212683      0.387601   \n",
       "min    ...                  0.000000              -0.122184      0.000000   \n",
       "25%    ...                  0.000000              40.606701      0.000000   \n",
       "50%    ...                  0.086163              44.311378      0.000000   \n",
       "75%    ...                  0.098837              44.311378      0.000000   \n",
       "max    ...                  0.195975              59.444710      1.000000   \n",
       "\n",
       "           imp_cons  margin_gross_pow_ele  margin_net_pow_ele   nb_prod_act  \\\n",
       "count  16092.000000          16083.000000        16083.000000  16092.000000   \n",
       "mean     196.121604             22.462276           21.460318      1.347813   \n",
       "std      494.416950             23.700883           27.917349      1.459973   \n",
       "min    -9038.210000           -525.540000         -615.660000      1.000000   \n",
       "25%        0.000000             11.960000           11.950000      1.000000   \n",
       "50%       44.395000             21.090000           20.970000      1.000000   \n",
       "75%      217.995000             29.640000           29.640000      1.000000   \n",
       "max    15042.790000            374.640000          374.640000     32.000000   \n",
       "\n",
       "         net_margin  num_years_antig       pow_max  \n",
       "count  16081.000000     16092.000000  16092.000000  \n",
       "mean     217.987028         5.030512     20.577385  \n",
       "std      366.742030         1.676200     21.507092  \n",
       "min    -4148.990000         1.000000      1.000000  \n",
       "25%       51.970000         4.000000     12.500000  \n",
       "50%      119.680000         5.000000     13.856000  \n",
       "75%      275.810000         6.000000     19.800000  \n",
       "max    24570.650000        16.000000    500.000000  \n",
       "\n",
       "[8 rows x 26 columns]"
      ]
     },
     "execution_count": 17,
     "metadata": {},
     "output_type": "execute_result"
    }
   ],
   "source": [
    "BCG.describe()"
   ]
  },
  {
   "cell_type": "code",
   "execution_count": 31,
   "id": "divided-crime",
   "metadata": {},
   "outputs": [
    {
     "data": {
      "text/html": [
       "<div>\n",
       "<style scoped>\n",
       "    .dataframe tbody tr th:only-of-type {\n",
       "        vertical-align: middle;\n",
       "    }\n",
       "\n",
       "    .dataframe tbody tr th {\n",
       "        vertical-align: top;\n",
       "    }\n",
       "\n",
       "    .dataframe thead th {\n",
       "        text-align: right;\n",
       "    }\n",
       "</style>\n",
       "<table border=\"1\" class=\"dataframe\">\n",
       "  <thead>\n",
       "    <tr style=\"text-align: right;\">\n",
       "      <th></th>\n",
       "      <th>churn</th>\n",
       "      <th>forecast_discount_energy</th>\n",
       "      <th>forecast_meter_rent_12m</th>\n",
       "      <th>forecast_price_energy_p1</th>\n",
       "      <th>forecast_price_energy_p2</th>\n",
       "      <th>forecast_price_pow_p1</th>\n",
       "    </tr>\n",
       "  </thead>\n",
       "  <tbody>\n",
       "    <tr>\n",
       "      <th>count</th>\n",
       "      <td>16092.000000</td>\n",
       "      <td>16092.000000</td>\n",
       "      <td>16092.000000</td>\n",
       "      <td>15967.000000</td>\n",
       "      <td>15967.000000</td>\n",
       "      <td>15967.000000</td>\n",
       "    </tr>\n",
       "    <tr>\n",
       "      <th>mean</th>\n",
       "      <td>0.099118</td>\n",
       "      <td>0.984029</td>\n",
       "      <td>70.317043</td>\n",
       "      <td>0.135901</td>\n",
       "      <td>0.052955</td>\n",
       "      <td>43.533582</td>\n",
       "    </tr>\n",
       "    <tr>\n",
       "      <th>std</th>\n",
       "      <td>0.298829</td>\n",
       "      <td>5.142086</td>\n",
       "      <td>79.027395</td>\n",
       "      <td>0.026254</td>\n",
       "      <td>0.048617</td>\n",
       "      <td>5.212683</td>\n",
       "    </tr>\n",
       "    <tr>\n",
       "      <th>min</th>\n",
       "      <td>0.000000</td>\n",
       "      <td>0.000000</td>\n",
       "      <td>-242.960000</td>\n",
       "      <td>0.000000</td>\n",
       "      <td>0.000000</td>\n",
       "      <td>-0.122184</td>\n",
       "    </tr>\n",
       "    <tr>\n",
       "      <th>25%</th>\n",
       "      <td>0.000000</td>\n",
       "      <td>0.000000</td>\n",
       "      <td>16.230000</td>\n",
       "      <td>0.115237</td>\n",
       "      <td>0.000000</td>\n",
       "      <td>40.606701</td>\n",
       "    </tr>\n",
       "    <tr>\n",
       "      <th>50%</th>\n",
       "      <td>0.000000</td>\n",
       "      <td>0.000000</td>\n",
       "      <td>19.440000</td>\n",
       "      <td>0.142881</td>\n",
       "      <td>0.086163</td>\n",
       "      <td>44.311378</td>\n",
       "    </tr>\n",
       "    <tr>\n",
       "      <th>75%</th>\n",
       "      <td>0.000000</td>\n",
       "      <td>0.000000</td>\n",
       "      <td>131.470000</td>\n",
       "      <td>0.146348</td>\n",
       "      <td>0.098837</td>\n",
       "      <td>44.311378</td>\n",
       "    </tr>\n",
       "    <tr>\n",
       "      <th>max</th>\n",
       "      <td>1.000000</td>\n",
       "      <td>50.000000</td>\n",
       "      <td>2411.690000</td>\n",
       "      <td>0.273963</td>\n",
       "      <td>0.195975</td>\n",
       "      <td>59.444710</td>\n",
       "    </tr>\n",
       "  </tbody>\n",
       "</table>\n",
       "</div>"
      ],
      "text/plain": [
       "              churn  forecast_discount_energy  forecast_meter_rent_12m  \\\n",
       "count  16092.000000              16092.000000             16092.000000   \n",
       "mean       0.099118                  0.984029                70.317043   \n",
       "std        0.298829                  5.142086                79.027395   \n",
       "min        0.000000                  0.000000              -242.960000   \n",
       "25%        0.000000                  0.000000                16.230000   \n",
       "50%        0.000000                  0.000000                19.440000   \n",
       "75%        0.000000                  0.000000               131.470000   \n",
       "max        1.000000                 50.000000              2411.690000   \n",
       "\n",
       "       forecast_price_energy_p1  forecast_price_energy_p2  \\\n",
       "count              15967.000000              15967.000000   \n",
       "mean                   0.135901                  0.052955   \n",
       "std                    0.026254                  0.048617   \n",
       "min                    0.000000                  0.000000   \n",
       "25%                    0.115237                  0.000000   \n",
       "50%                    0.142881                  0.086163   \n",
       "75%                    0.146348                  0.098837   \n",
       "max                    0.273963                  0.195975   \n",
       "\n",
       "       forecast_price_pow_p1  \n",
       "count           15967.000000  \n",
       "mean               43.533582  \n",
       "std                 5.212683  \n",
       "min                -0.122184  \n",
       "25%                40.606701  \n",
       "50%                44.311378  \n",
       "75%                44.311378  \n",
       "max                59.444710  "
      ]
     },
     "execution_count": 31,
     "metadata": {},
     "output_type": "execute_result"
    }
   ],
   "source": [
    "BCG4.describe()"
   ]
  },
  {
   "cell_type": "code",
   "execution_count": 35,
   "id": "former-jordan",
   "metadata": {},
   "outputs": [
    {
     "data": {
      "text/html": [
       "<div>\n",
       "<style scoped>\n",
       "    .dataframe tbody tr th:only-of-type {\n",
       "        vertical-align: middle;\n",
       "    }\n",
       "\n",
       "    .dataframe tbody tr th {\n",
       "        vertical-align: top;\n",
       "    }\n",
       "\n",
       "    .dataframe thead th {\n",
       "        text-align: right;\n",
       "    }\n",
       "</style>\n",
       "<table border=\"1\" class=\"dataframe\">\n",
       "  <thead>\n",
       "    <tr style=\"text-align: right;\">\n",
       "      <th></th>\n",
       "      <th>name</th>\n",
       "      <th>num_of_unique</th>\n",
       "      <th>num_of_nan</th>\n",
       "      <th>type</th>\n",
       "      <th>front5_values</th>\n",
       "    </tr>\n",
       "  </thead>\n",
       "  <tbody>\n",
       "    <tr>\n",
       "      <th>0</th>\n",
       "      <td>churn</td>\n",
       "      <td>2</td>\n",
       "      <td>0</td>\n",
       "      <td>int64</td>\n",
       "      <td>[0, 1]</td>\n",
       "    </tr>\n",
       "    <tr>\n",
       "      <th>1</th>\n",
       "      <td>forecast_discount_energy</td>\n",
       "      <td>14</td>\n",
       "      <td>0</td>\n",
       "      <td>int64</td>\n",
       "      <td>[0, 30, 24, 28, 19]</td>\n",
       "    </tr>\n",
       "    <tr>\n",
       "      <th>2</th>\n",
       "      <td>forecast_meter_rent_12m</td>\n",
       "      <td>3938</td>\n",
       "      <td>0</td>\n",
       "      <td>float64</td>\n",
       "      <td>[138.95, 6.84, 18.37, 132.11, 18.27]</td>\n",
       "    </tr>\n",
       "    <tr>\n",
       "      <th>3</th>\n",
       "      <td>forecast_price_energy_p1</td>\n",
       "      <td>618</td>\n",
       "      <td>125</td>\n",
       "      <td>float64</td>\n",
       "      <td>[0.1169, 0.142065, 0.19923, 0.110083, 0.144149]</td>\n",
       "    </tr>\n",
       "    <tr>\n",
       "      <th>4</th>\n",
       "      <td>forecast_price_energy_p2</td>\n",
       "      <td>413</td>\n",
       "      <td>125</td>\n",
       "      <td>float64</td>\n",
       "      <td>[0.100015, 0.0, 0.093746, 0.10175, 0.098837]</td>\n",
       "    </tr>\n",
       "    <tr>\n",
       "      <th>5</th>\n",
       "      <td>forecast_price_pow_p1</td>\n",
       "      <td>47</td>\n",
       "      <td>125</td>\n",
       "      <td>float64</td>\n",
       "      <td>[40.606701, 44.31137796, 45.80687796, 59.26637...</td>\n",
       "    </tr>\n",
       "  </tbody>\n",
       "</table>\n",
       "</div>"
      ],
      "text/plain": [
       "                       name  num_of_unique  num_of_nan     type  \\\n",
       "0                     churn              2           0    int64   \n",
       "1  forecast_discount_energy             14           0    int64   \n",
       "2   forecast_meter_rent_12m           3938           0  float64   \n",
       "3  forecast_price_energy_p1            618         125  float64   \n",
       "4  forecast_price_energy_p2            413         125  float64   \n",
       "5     forecast_price_pow_p1             47         125  float64   \n",
       "\n",
       "                                       front5_values  \n",
       "0                                             [0, 1]  \n",
       "1                                [0, 30, 24, 28, 19]  \n",
       "2               [138.95, 6.84, 18.37, 132.11, 18.27]  \n",
       "3    [0.1169, 0.142065, 0.19923, 0.110083, 0.144149]  \n",
       "4       [0.100015, 0.0, 0.093746, 0.10175, 0.098837]  \n",
       "5  [40.606701, 44.31137796, 45.80687796, 59.26637...  "
      ]
     },
     "execution_count": 35,
     "metadata": {},
     "output_type": "execute_result"
    }
   ],
   "source": [
    "info = [(col, \n",
    "       len(BCG4[col].unique()), # Unique 한 값이 얼마나 있을까?\n",
    "       BCG4[col].isnull().sum(), # null 이 얼마나 있을까?\n",
    "       BCG4[col].dtype,  # 각 col 별 dtype 은 어떻게 될까? \n",
    "       BCG4[col].unique()[:5]) for col in BCG4.columns] # top 5 값들에 대해서 분석\n",
    "df_info = pd.DataFrame(info , columns=['name', 'num_of_unique', 'num_of_nan', 'type', 'front5_values'])\n",
    "df_info"
   ]
  },
  {
   "cell_type": "code",
   "execution_count": 161,
   "id": "strategic-month",
   "metadata": {
    "scrolled": true
   },
   "outputs": [],
   "source": [
    "# import pandas_profiling\n",
    "# profile = BCG.profile_report()\n",
    "# profile"
   ]
  },
  {
   "cell_type": "code",
   "execution_count": 162,
   "id": "agreed-translator",
   "metadata": {},
   "outputs": [],
   "source": [
    "# profile.to_file(output_file=\"BCG_profiling.html\")"
   ]
  },
  {
   "cell_type": "code",
   "execution_count": 160,
   "id": "cutting-billion",
   "metadata": {},
   "outputs": [
    {
     "data": {
      "image/png": "[encoded data removed]",
      "text/plain": [
       "<Figure size 1080x1080 with 6 Axes>"
      ]
     },
     "metadata": {
      "needs_background": "light"
     },
     "output_type": "display_data"
    }
   ],
   "source": [
    "import matplotlib.pyplot as plt\n",
    "num_df = BCG4.select_dtypes(include=[np.number]) # dataframe 의 numeric value 만 보려고 한다.\n",
    "fig = int(np.ceil(np.sqrt(num_df.columns.size))) # 사이즈는 root 에 ceil function 을 넣어서 최대한 정사각 모양으로 만들었다.\n",
    "\n",
    "plt.figure(figsize=(15,15))\n",
    "for idx,col in enumerate(num_df.columns):\n",
    "    plt.subplot(fig,fig,idx+1)\n",
    "    plt.title(col)\n",
    "    plt.hist(num_df[col], bins = 50) # 넣고싶은 plot 을 넣으면 된다."
   ]
  },
  {
   "cell_type": "code",
   "execution_count": 72,
   "id": "important-swaziland",
   "metadata": {},
   "outputs": [
    {
     "data": {
      "image/png": "[encoded data removed]",
      "text/plain": [
       "<Figure size 1800x720 with 2 Axes>"
      ]
     },
     "metadata": {
      "needs_background": "light"
     },
     "output_type": "display_data"
    }
   ],
   "source": [
    "import missingno as msno\n",
    "\n",
    "msno.matrix(BCG)\n",
    "plt.show()"
   ]
  },
  {
   "cell_type": "code",
   "execution_count": 83,
   "id": "appreciated-midnight",
   "metadata": {},
   "outputs": [
    {
     "name": "stderr",
     "output_type": "stream",
     "text": [
      "/Library/Frameworks/Python.framework/Versions/3.9/lib/python3.9/site-packages/seaborn/_decorators.py:36: FutureWarning: Pass the following variable as a keyword arg: x. From version 0.12, the only valid positional argument will be `data`, and passing other arguments without an explicit keyword will result in an error or misinterpretation.\n",
      "  warnings.warn(\n"
     ]
    },
    {
     "data": {
      "text/plain": [
       "<AxesSubplot:xlabel='forecast_meter_rent_12m'>"
      ]
     },
     "execution_count": 83,
     "metadata": {},
     "output_type": "execute_result"
    },
    {
     "data": {
      "image/png": "[encoded data removed]",
      "text/plain": [
       "<Figure size 432x288 with 1 Axes>"
      ]
     },
     "metadata": {
      "needs_background": "light"
     },
     "output_type": "display_data"
    }
   ],
   "source": [
    "sns.boxplot(BCG4[\"forecast_meter_rent_12m\"])"
   ]
  },
  {
   "cell_type": "code",
   "execution_count": 135,
   "id": "sixth-turtle",
   "metadata": {},
   "outputs": [
    {
     "data": {
      "text/plain": [
       "array([  351,  1845,  3465,  7020,  8647, 10081, 10552, 10868, 11747,\n",
       "       12708, 14531])"
      ]
     },
     "execution_count": 135,
     "metadata": {},
     "output_type": "execute_result"
    }
   ],
   "source": [
    "z = np.abs(stats.zscore(BCG4[\"forecast_meter_rent_12m\"]))\n",
    "np.where(z > 4) # 첫번쨰는 row, 두번쨰는 col 에 대한 outlier 를 포함하고있다.\n",
    "np.where(z > 7)[0]"
   ]
  },
  {
   "cell_type": "code",
   "execution_count": 111,
   "id": "still-cooperation",
   "metadata": {},
   "outputs": [
    {
     "data": {
      "text/html": [
       "<div>\n",
       "<style scoped>\n",
       "    .dataframe tbody tr th:only-of-type {\n",
       "        vertical-align: middle;\n",
       "    }\n",
       "\n",
       "    .dataframe tbody tr th {\n",
       "        vertical-align: top;\n",
       "    }\n",
       "\n",
       "    .dataframe thead th {\n",
       "        text-align: right;\n",
       "    }\n",
       "</style>\n",
       "<table border=\"1\" class=\"dataframe\">\n",
       "  <thead>\n",
       "    <tr style=\"text-align: right;\">\n",
       "      <th></th>\n",
       "      <th>churn</th>\n",
       "      <th>forecast_discount_energy</th>\n",
       "      <th>forecast_meter_rent_12m</th>\n",
       "      <th>forecast_price_energy_p1</th>\n",
       "      <th>forecast_price_energy_p2</th>\n",
       "      <th>forecast_price_pow_p1</th>\n",
       "    </tr>\n",
       "  </thead>\n",
       "  <tbody>\n",
       "    <tr>\n",
       "      <th>351</th>\n",
       "      <td>0</td>\n",
       "      <td>0</td>\n",
       "      <td>894.38</td>\n",
       "      <td>0.112529</td>\n",
       "      <td>0.096730</td>\n",
       "      <td>39.022007</td>\n",
       "    </tr>\n",
       "    <tr>\n",
       "      <th>1845</th>\n",
       "      <td>0</td>\n",
       "      <td>0</td>\n",
       "      <td>662.87</td>\n",
       "      <td>0.095022</td>\n",
       "      <td>0.086748</td>\n",
       "      <td>58.995952</td>\n",
       "    </tr>\n",
       "    <tr>\n",
       "      <th>3465</th>\n",
       "      <td>0</td>\n",
       "      <td>0</td>\n",
       "      <td>641.60</td>\n",
       "      <td>0.097701</td>\n",
       "      <td>0.089427</td>\n",
       "      <td>58.995952</td>\n",
       "    </tr>\n",
       "    <tr>\n",
       "      <th>7020</th>\n",
       "      <td>0</td>\n",
       "      <td>0</td>\n",
       "      <td>1052.39</td>\n",
       "      <td>0.095919</td>\n",
       "      <td>0.088347</td>\n",
       "      <td>58.995952</td>\n",
       "    </tr>\n",
       "    <tr>\n",
       "      <th>8647</th>\n",
       "      <td>0</td>\n",
       "      <td>0</td>\n",
       "      <td>641.60</td>\n",
       "      <td>0.094954</td>\n",
       "      <td>0.087382</td>\n",
       "      <td>58.995952</td>\n",
       "    </tr>\n",
       "    <tr>\n",
       "      <th>10081</th>\n",
       "      <td>0</td>\n",
       "      <td>0</td>\n",
       "      <td>641.60</td>\n",
       "      <td>NaN</td>\n",
       "      <td>NaN</td>\n",
       "      <td>NaN</td>\n",
       "    </tr>\n",
       "    <tr>\n",
       "      <th>10552</th>\n",
       "      <td>0</td>\n",
       "      <td>0</td>\n",
       "      <td>884.87</td>\n",
       "      <td>0.112529</td>\n",
       "      <td>0.096730</td>\n",
       "      <td>39.022007</td>\n",
       "    </tr>\n",
       "    <tr>\n",
       "      <th>10868</th>\n",
       "      <td>1</td>\n",
       "      <td>0</td>\n",
       "      <td>2411.69</td>\n",
       "      <td>0.097701</td>\n",
       "      <td>0.089427</td>\n",
       "      <td>58.995952</td>\n",
       "    </tr>\n",
       "    <tr>\n",
       "      <th>11747</th>\n",
       "      <td>0</td>\n",
       "      <td>0</td>\n",
       "      <td>641.60</td>\n",
       "      <td>0.095022</td>\n",
       "      <td>0.086748</td>\n",
       "      <td>58.995952</td>\n",
       "    </tr>\n",
       "    <tr>\n",
       "      <th>12708</th>\n",
       "      <td>0</td>\n",
       "      <td>0</td>\n",
       "      <td>725.17</td>\n",
       "      <td>0.095919</td>\n",
       "      <td>0.088347</td>\n",
       "      <td>58.995952</td>\n",
       "    </tr>\n",
       "    <tr>\n",
       "      <th>14531</th>\n",
       "      <td>0</td>\n",
       "      <td>0</td>\n",
       "      <td>641.60</td>\n",
       "      <td>0.096095</td>\n",
       "      <td>0.087820</td>\n",
       "      <td>58.995952</td>\n",
       "    </tr>\n",
       "  </tbody>\n",
       "</table>\n",
       "</div>"
      ],
      "text/plain": [
       "       churn  forecast_discount_energy  forecast_meter_rent_12m  \\\n",
       "351        0                         0                   894.38   \n",
       "1845       0                         0                   662.87   \n",
       "3465       0                         0                   641.60   \n",
       "7020       0                         0                  1052.39   \n",
       "8647       0                         0                   641.60   \n",
       "10081      0                         0                   641.60   \n",
       "10552      0                         0                   884.87   \n",
       "10868      1                         0                  2411.69   \n",
       "11747      0                         0                   641.60   \n",
       "12708      0                         0                   725.17   \n",
       "14531      0                         0                   641.60   \n",
       "\n",
       "       forecast_price_energy_p1  forecast_price_energy_p2  \\\n",
       "351                    0.112529                  0.096730   \n",
       "1845                   0.095022                  0.086748   \n",
       "3465                   0.097701                  0.089427   \n",
       "7020                   0.095919                  0.088347   \n",
       "8647                   0.094954                  0.087382   \n",
       "10081                       NaN                       NaN   \n",
       "10552                  0.112529                  0.096730   \n",
       "10868                  0.097701                  0.089427   \n",
       "11747                  0.095022                  0.086748   \n",
       "12708                  0.095919                  0.088347   \n",
       "14531                  0.096095                  0.087820   \n",
       "\n",
       "       forecast_price_pow_p1  \n",
       "351                39.022007  \n",
       "1845               58.995952  \n",
       "3465               58.995952  \n",
       "7020               58.995952  \n",
       "8647               58.995952  \n",
       "10081                    NaN  \n",
       "10552              39.022007  \n",
       "10868              58.995952  \n",
       "11747              58.995952  \n",
       "12708              58.995952  \n",
       "14531              58.995952  "
      ]
     },
     "execution_count": 111,
     "metadata": {},
     "output_type": "execute_result"
    }
   ],
   "source": [
    "BCG4.loc[np.where(z > 7)[0]]"
   ]
  },
  {
   "cell_type": "code",
   "execution_count": 113,
   "id": "comfortable-funeral",
   "metadata": {},
   "outputs": [
    {
     "name": "stderr",
     "output_type": "stream",
     "text": [
      "/Library/Frameworks/Python.framework/Versions/3.9/lib/python3.9/site-packages/seaborn/_decorators.py:36: FutureWarning: Pass the following variable as a keyword arg: x. From version 0.12, the only valid positional argument will be `data`, and passing other arguments without an explicit keyword will result in an error or misinterpretation.\n",
      "  warnings.warn(\n"
     ]
    },
    {
     "data": {
      "text/plain": [
       "<AxesSubplot:xlabel='forecast_price_energy_p1'>"
      ]
     },
     "execution_count": 113,
     "metadata": {},
     "output_type": "execute_result"
    },
    {
     "data": {
      "image/png": "[encoded data removed]",
      "text/plain": [
       "<Figure size 432x288 with 1 Axes>"
      ]
     },
     "metadata": {
      "needs_background": "light"
     },
     "output_type": "display_data"
    }
   ],
   "source": [
    "sns.boxplot(BCG4[\"forecast_price_energy_p1\"])"
   ]
  },
  {
   "cell_type": "code",
   "execution_count": 134,
   "id": "middle-collins",
   "metadata": {},
   "outputs": [
    {
     "data": {
      "text/plain": [
       "array([], dtype=int64)"
      ]
     },
     "execution_count": 134,
     "metadata": {},
     "output_type": "execute_result"
    }
   ],
   "source": [
    "z = np.abs(stats.zscore(BCG4[\"forecast_price_energy_p1\"]))\n",
    "np.where(z > 0.00001) # 첫번쨰는 row, 두번쨰는 col 에 대한 outlier 를 포함하고있다.\n",
    "np.where(z > 0.1)[0]"
   ]
  },
  {
   "cell_type": "code",
   "execution_count": 118,
   "id": "unauthorized-warrant",
   "metadata": {},
   "outputs": [
    {
     "name": "stderr",
     "output_type": "stream",
     "text": [
      "/Library/Frameworks/Python.framework/Versions/3.9/lib/python3.9/site-packages/seaborn/_decorators.py:36: FutureWarning: Pass the following variable as a keyword arg: x. From version 0.12, the only valid positional argument will be `data`, and passing other arguments without an explicit keyword will result in an error or misinterpretation.\n",
      "  warnings.warn(\n"
     ]
    },
    {
     "data": {
      "text/plain": [
       "<AxesSubplot:xlabel='forecast_price_energy_p2'>"
      ]
     },
     "execution_count": 118,
     "metadata": {},
     "output_type": "execute_result"
    },
    {
     "data": {
      "image/png": "[encoded data removed]",
      "text/plain": [
       "<Figure size 432x288 with 1 Axes>"
      ]
     },
     "metadata": {
      "needs_background": "light"
     },
     "output_type": "display_data"
    }
   ],
   "source": [
    "sns.boxplot(BCG4[\"forecast_price_energy_p2\"])"
   ]
  },
  {
   "cell_type": "code",
   "execution_count": 120,
   "id": "worthy-casting",
   "metadata": {},
   "outputs": [
    {
     "name": "stderr",
     "output_type": "stream",
     "text": [
      "/Library/Frameworks/Python.framework/Versions/3.9/lib/python3.9/site-packages/seaborn/_decorators.py:36: FutureWarning: Pass the following variable as a keyword arg: x. From version 0.12, the only valid positional argument will be `data`, and passing other arguments without an explicit keyword will result in an error or misinterpretation.\n",
      "  warnings.warn(\n"
     ]
    },
    {
     "data": {
      "text/plain": [
       "<AxesSubplot:xlabel='forecast_price_pow_p1'>"
      ]
     },
     "execution_count": 120,
     "metadata": {},
     "output_type": "execute_result"
    },
    {
     "data": {
      "image/png": "[encoded data removed]",
      "text/plain": [
       "<Figure size 432x288 with 1 Axes>"
      ]
     },
     "metadata": {
      "needs_background": "light"
     },
     "output_type": "display_data"
    }
   ],
   "source": [
    "sns.boxplot(BCG4[\"forecast_price_pow_p1\"])"
   ]
  },
  {
   "cell_type": "code",
   "execution_count": 139,
   "id": "familiar-greenhouse",
   "metadata": {},
   "outputs": [
    {
     "data": {
      "text/plain": [
       "array([], dtype=int64)"
      ]
     },
     "execution_count": 139,
     "metadata": {},
     "output_type": "execute_result"
    }
   ],
   "source": [
    "z = np.abs(stats.zscore(BCG4[\"forecast_price_pow_p1\"]))\n",
    "np.where(z > 2) # 첫번쨰는 row, 두번쨰는 col 에 대한 outlier 를 포함하고있다.\n",
    "np.where(z > 0.0000001)[0]"
   ]
  },
  {
   "cell_type": "code",
   "execution_count": 142,
   "id": "defensive-prior",
   "metadata": {},
   "outputs": [
    {
     "name": "stdout",
     "output_type": "stream",
     "text": [
      "3.7046769600000005\n"
     ]
    }
   ],
   "source": [
    "Q1 = BCG4[\"forecast_price_pow_p1\"].quantile(0.25)\n",
    "Q3 = BCG4[\"forecast_price_pow_p1\"].quantile(0.75)\n",
    "IQR = Q3 - Q1\n",
    "print(IQR)\n",
    "\n",
    "x = BCG4[\"forecast_price_pow_p1\"]"
   ]
  },
  {
   "cell_type": "code",
   "execution_count": 158,
   "id": "coral-directive",
   "metadata": {},
   "outputs": [
    {
     "data": {
      "text/plain": [
       "(array([], dtype=int64),)"
      ]
     },
     "execution_count": 158,
     "metadata": {},
     "output_type": "execute_result"
    }
   ],
   "source": [
    "new = BCG4.loc[np.where(BCG[\"forecast_price_pow_p1\"]==0)]\n",
    "np.where(new[\"churn\"]==1)"
   ]
  }
 ],
 "metadata": {
  "kernelspec": {
   "display_name": "Python 3",
   "language": "python",
   "name": "python3"
  },
  "language_info": {
   "codemirror_mode": {
    "name": "ipython",
    "version": 3
   },
   "file_extension": ".py",
   "mimetype": "text/x-python",
   "name": "python",
   "nbconvert_exporter": "python",
   "pygments_lexer": "ipython3",
   "version": "3.9.2"
  }
 },
 "nbformat": 4,
 "nbformat_minor": 5
}
