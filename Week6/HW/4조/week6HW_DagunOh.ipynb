{
 "cells": [
  {
   "cell_type": "markdown",
   "metadata": {},
   "source": [
    "# 2019122064 오다건"
   ]
  },
  {
   "cell_type": "code",
   "execution_count": 4,
   "metadata": {},
   "outputs": [],
   "source": [
    "import numpy as np\n",
    "import pandas as pd\n",
    "from scipy.stats import norm, gamma, gaussian_kde\n",
    "import matplotlib.pyplot as plt\n",
    "from random import random, seed"
   ]
  },
  {
   "cell_type": "markdown",
   "metadata": {},
   "source": [
    "# 4.7.(a)\n",
    "\n",
    "Sample at least 5000 y values from the posterior distribution."
   ]
  },
  {
   "cell_type": "code",
   "execution_count": 39,
   "metadata": {},
   "outputs": [],
   "source": [
    "#sigma : inverse gamma \n",
    "sigma = gamma.rvs(a=10,scale =1/2.5, size=50)\n"
   ]
  },
  {
   "cell_type": "code",
   "execution_count": 48,
   "metadata": {},
   "outputs": [],
   "source": [
    "theta_mc = []\n",
    "for i in range(len(sigma)):\n",
    "    theta_mc.append(norm.rvs(loc=4.1, scale = np.sqrt((1/sigma[i])/20), size=20))\n",
    "\n",
    "y_mc = []\n",
    "for i in range(len(sigma)):\n",
    "    sigma_matrix = sigma[i]\n",
    "    for j in range(len(theta_mc[i])):\n",
    "        theta = theta_mc[i][j]\n",
    "        y_mc.append(0.31 * norm.rvs(loc = theta, scale = np.sqrt(1/sigma[i]), size = 20) + \n",
    "                    0.46 * norm.rvs(loc = 2 * theta, scale = 2 * np.sqrt(1/sigma[i]), size = 20) +\n",
    "                    0.23 * norm.rvs(loc = 3 * theta, scale = 3 * np.sqrt(1/sigma[i]), size = 20))\n",
    "        \n",
    "y_mc = np.array(y_mc).flatten()"
   ]
  },
  {
   "cell_type": "code",
   "execution_count": 49,
   "metadata": {},
   "outputs": [
    {
     "data": {
      "text/plain": [
       "20000"
      ]
     },
     "execution_count": 49,
     "metadata": {},
     "output_type": "execute_result"
    }
   ],
   "source": [
    "len(y_mc) #5000개 이상"
   ]
  },
  {
   "cell_type": "code",
   "execution_count": 50,
   "metadata": {},
   "outputs": [
    {
     "data": {
      "text/plain": [
       "array([8.60670946, 6.93014229, 7.71154122, ..., 8.01156988, 7.76660115,\n",
       "       8.45225133])"
      ]
     },
     "execution_count": 50,
     "metadata": {},
     "output_type": "execute_result"
    }
   ],
   "source": [
    "y_mc"
   ]
  },
  {
   "cell_type": "markdown",
   "metadata": {},
   "source": [
    "# (b)\n",
    "\n",
    "75% quantile based confidence interval for a new value of Y"
   ]
  },
  {
   "cell_type": "code",
   "execution_count": 51,
   "metadata": {},
   "outputs": [],
   "source": [
    "CI_lower, CI_upper = np.quantile(y_mc, 0.125), np.quantile(y_mc, 0.875)"
   ]
  },
  {
   "cell_type": "code",
   "execution_count": 52,
   "metadata": {},
   "outputs": [
    {
     "data": {
      "text/plain": [
       "(7.121478813462581, 8.615257939597724)"
      ]
     },
     "execution_count": 52,
     "metadata": {},
     "output_type": "execute_result"
    }
   ],
   "source": [
    "CI_lower, CI_upper"
   ]
  },
  {
   "cell_type": "markdown",
   "metadata": {},
   "source": [
    "# (C)"
   ]
  },
  {
   "cell_type": "code",
   "execution_count": 55,
   "metadata": {},
   "outputs": [
    {
     "data": {
      "text/plain": [
       "(array([8.18193361e-04, 4.09096680e-04, 8.18193361e-04, 1.22729004e-03,\n",
       "        2.86367676e-03, 2.86367676e-03, 6.54554689e-03, 1.14547071e-02,\n",
       "        1.14547071e-02, 2.57730909e-02, 4.29551514e-02, 4.82734083e-02,\n",
       "        7.85465626e-02, 1.04319654e-01, 1.49320288e-01, 1.97184600e-01,\n",
       "        2.73685679e-01, 3.24413668e-01, 3.75959849e-01, 4.77006729e-01,\n",
       "        5.13007237e-01, 5.94826573e-01, 6.31645275e-01, 6.07099474e-01,\n",
       "        6.23054244e-01, 5.82962770e-01, 5.00325240e-01, 4.49597252e-01,\n",
       "        3.84959976e-01, 2.87185870e-01, 2.44639815e-01, 1.99230083e-01,\n",
       "        1.26001778e-01, 8.79557863e-02, 6.91373390e-02, 4.54097315e-02,\n",
       "        3.15004444e-02, 2.08639307e-02, 1.96366407e-02, 9.40922365e-03,\n",
       "        6.95464357e-03, 2.86367676e-03, 5.72735353e-03, 8.18193361e-04,\n",
       "        0.00000000e+00, 0.00000000e+00, 4.09096680e-04, 0.00000000e+00,\n",
       "        4.09096680e-04, 4.09096680e-04]),\n",
       " array([ 5.01597725,  5.13819775,  5.26041825,  5.38263875,  5.50485924,\n",
       "         5.62707974,  5.74930024,  5.87152074,  5.99374124,  6.11596173,\n",
       "         6.23818223,  6.36040273,  6.48262323,  6.60484373,  6.72706422,\n",
       "         6.84928472,  6.97150522,  7.09372572,  7.21594622,  7.33816671,\n",
       "         7.46038721,  7.58260771,  7.70482821,  7.82704871,  7.9492692 ,\n",
       "         8.0714897 ,  8.1937102 ,  8.3159307 ,  8.43815119,  8.56037169,\n",
       "         8.68259219,  8.80481269,  8.92703319,  9.04925368,  9.17147418,\n",
       "         9.29369468,  9.41591518,  9.53813568,  9.66035617,  9.78257667,\n",
       "         9.90479717, 10.02701767, 10.14923817, 10.27145866, 10.39367916,\n",
       "        10.51589966, 10.63812016, 10.76034066, 10.88256115, 11.00478165,\n",
       "        11.12700215]),\n",
       " <a list of 50 Patch objects>)"
      ]
     },
     "execution_count": 55,
     "metadata": {},
     "output_type": "execute_result"
    },
    {
     "data": {
      "image/png": "[encoded data removed]",
      "text/plain": [
       "<Figure size 864x576 with 1 Axes>"
      ]
     },
     "metadata": {
      "needs_background": "light"
     },
     "output_type": "display_data"
    }
   ],
   "source": [
    "plt.figure(figsize=(12,8))\n",
    "plt.hist(y_mc, bins=50,density=True)"
   ]
  },
  {
   "cell_type": "markdown",
   "metadata": {},
   "source": [
    "(2) sort these discrete probabilites in decreasing order"
   ]
  },
  {
   "cell_type": "code",
   "execution_count": 60,
   "metadata": {},
   "outputs": [],
   "source": [
    "from scipy.stats import gaussian_kde\n",
    "\n",
    "kde = gaussian_kde(y_mc, bw_method='silverman') #constant로 바꿔줌\n",
    "y = np.arange(5,11,0.01)\n",
    "kde_prob = kde(y)"
   ]
  },
  {
   "cell_type": "code",
   "execution_count": 61,
   "metadata": {},
   "outputs": [
    {
     "data": {
      "text/plain": [
       "0.0003374591698880808"
      ]
     },
     "execution_count": 61,
     "metadata": {},
     "output_type": "execute_result"
    }
   ],
   "source": [
    "kde_prob[0]"
   ]
  },
  {
   "cell_type": "markdown",
   "metadata": {},
   "source": [
    "(3) Find the first probability value such that thee cumulative sum of y which have a discretized probability greater than this cut off\n",
    "\n",
    "->`모르겠음`\n",
    "\n",
    "\n",
    "## Modified Ehrenfest Model"
   ]
  },
  {
   "cell_type": "code",
   "execution_count": 64,
   "metadata": {},
   "outputs": [],
   "source": [
    "import numpy as np\n",
    "import pandas as pd\n",
    "from random import seed\n",
    "from random import random\n",
    "import matplotlib.pyplot as plt\n",
    "import matplotlib.animation as animation\n",
    "\n",
    "\n",
    "P = np.array([[0.5, 0.5, 0, 0, 0, 0],\n",
    "              [0.1, 0.5, 0.4, 0, 0, 0],\n",
    "              [0, 0.2, 0.5, 0.3, 0, 0],\n",
    "              [0, 0, 0.3, 0.5, 0.2, 0],\n",
    "              [0, 0, 0, 0.4, 0.5, 0.1],\n",
    "              [0, 0, 0, 0, 0.5, 0.5]])\n"
   ]
  },
  {
   "cell_type": "markdown",
   "metadata": {},
   "source": [
    "(b)P^10, P^50, P^100"
   ]
  },
  {
   "cell_type": "code",
   "execution_count": 72,
   "metadata": {},
   "outputs": [],
   "source": [
    "P_10 = P.copy()\n",
    "for i in range(10):\n",
    "    P_10 = P_10.dot(P)"
   ]
  },
  {
   "cell_type": "code",
   "execution_count": 75,
   "metadata": {},
   "outputs": [
    {
     "data": {
      "text/plain": [
       "array([[0.04581862, 0.19763594, 0.33704986, 0.28341519, 0.11713152,\n",
       "        0.01894886],\n",
       "       [0.03952719, 0.18063857, 0.32815787, 0.29593513, 0.13231494,\n",
       "        0.0234263 ],\n",
       "       [0.03370499, 0.16407894, 0.31832745, 0.30757955, 0.14796756,\n",
       "        0.02834152],\n",
       "       [0.02834152, 0.14796756, 0.30757955, 0.31832745, 0.16407894,\n",
       "        0.03370499],\n",
       "       [0.0234263 , 0.13231494, 0.29593513, 0.32815787, 0.18063857,\n",
       "        0.03952719],\n",
       "       [0.01894886, 0.11713152, 0.28341519, 0.33704986, 0.19763594,\n",
       "        0.04581862]])"
      ]
     },
     "execution_count": 75,
     "metadata": {},
     "output_type": "execute_result"
    }
   ],
   "source": [
    "P_10"
   ]
  },
  {
   "cell_type": "code",
   "execution_count": 78,
   "metadata": {},
   "outputs": [
    {
     "data": {
      "text/plain": [
       "array([[0.03125178, 0.15625535, 0.31250357, 0.31249643, 0.15624465,\n",
       "        0.03124822],\n",
       "       [0.03125107, 0.15625321, 0.31250214, 0.31249786, 0.15624679,\n",
       "        0.03124893],\n",
       "       [0.03125036, 0.15625107, 0.31250071, 0.31249929, 0.15624893,\n",
       "        0.03124964],\n",
       "       [0.03124964, 0.15624893, 0.31249929, 0.31250071, 0.15625107,\n",
       "        0.03125036],\n",
       "       [0.03124893, 0.15624679, 0.31249786, 0.31250214, 0.15625321,\n",
       "        0.03125107],\n",
       "       [0.03124822, 0.15624465, 0.31249643, 0.31250357, 0.15625535,\n",
       "        0.03125178]])"
      ]
     },
     "execution_count": 78,
     "metadata": {},
     "output_type": "execute_result"
    }
   ],
   "source": [
    "P_50 = P.copy()\n",
    "for i in range (50):\n",
    "    P_50=P_50.dot(P)\n",
    "\n",
    "P_50"
   ]
  },
  {
   "cell_type": "code",
   "execution_count": 79,
   "metadata": {},
   "outputs": [
    {
     "data": {
      "text/plain": [
       "array([[0.03125, 0.15625, 0.3125 , 0.3125 , 0.15625, 0.03125],\n",
       "       [0.03125, 0.15625, 0.3125 , 0.3125 , 0.15625, 0.03125],\n",
       "       [0.03125, 0.15625, 0.3125 , 0.3125 , 0.15625, 0.03125],\n",
       "       [0.03125, 0.15625, 0.3125 , 0.3125 , 0.15625, 0.03125],\n",
       "       [0.03125, 0.15625, 0.3125 , 0.3125 , 0.15625, 0.03125],\n",
       "       [0.03125, 0.15625, 0.3125 , 0.3125 , 0.15625, 0.03125]])"
      ]
     },
     "execution_count": 79,
     "metadata": {},
     "output_type": "execute_result"
    }
   ],
   "source": [
    "P_100 = P.copy()\n",
    "for i in range (100):\n",
    "    P_100=P_100.dot(P)\n",
    "\n",
    "P_100"
   ]
  },
  {
   "cell_type": "markdown",
   "metadata": {},
   "source": [
    "(c)take different initial states of i=0 and i=3 and i=5"
   ]
  },
  {
   "cell_type": "code",
   "execution_count": 80,
   "metadata": {},
   "outputs": [
    {
     "data": {
      "image/png": "[encoded data removed]",
      "text/plain": [
       "<Figure size 432x288 with 1 Axes>"
      ]
     },
     "metadata": {
      "needs_background": "light"
     },
     "output_type": "display_data"
    }
   ],
   "source": [
    "state1=np.array([[1,0,0,0,0,0]])\n",
    "state1_hist=state1\n",
    "\n",
    "#number of fleas on Mac at t = 100'=x\n",
    "\n",
    "for i in range(100):\n",
    "    #state1과 P 내적 처리 한것. \n",
    "    state1=np.dot(state1, P)\n",
    "    #print(state1, (x+1))\n",
    "    state1_hist=np.append(state1_hist, state1, axis=0)\n",
    "\n",
    "state1_hist=pd.DataFrame(state1_hist)\n",
    "state1_hist.plot()\n",
    "plt.show()"
   ]
  },
  {
   "cell_type": "code",
   "execution_count": 81,
   "metadata": {},
   "outputs": [],
   "source": [
    "#state=np.array([[1, 0, 0, 0, 0, 0]])\n",
    "#stateHist=state\n",
    "#dfStateHist=pd.DataFrame(state)\n",
    "#distr_hist = [[0,0,0,0,0,0]]\n",
    "#for x in range(100):\n",
    "#  state=np.dot(state,P);\n",
    "#  print(state,(x+1));\n",
    "#  stateHist=np.append(stateHist,state,axis=0);\n",
    "#  dfDistrHist = pd.DataFrame(stateHist);\n",
    "#dfDistrHist.plot()\n",
    "#plt.show()"
   ]
  },
  {
   "cell_type": "code",
   "execution_count": 85,
   "metadata": {},
   "outputs": [
    {
     "data": {
      "image/png": "[encoded data removed]",
      "text/plain": [
       "<Figure size 432x288 with 1 Axes>"
      ]
     },
     "metadata": {
      "needs_background": "light"
     },
     "output_type": "display_data"
    }
   ],
   "source": [
    "state2=np.array([[0,0,1,0,0,0]])\n",
    "state2_hist=state2\n",
    "\n",
    "#number of fleas on Mac at t = 100'=x\n",
    "\n",
    "for i in range(100):\n",
    "    #state2과 P 내적 처리 한것. \n",
    "    state2=np.dot(state2, P)\n",
    "    #print(state2, (x+1))\n",
    "    state2_hist=np.append(state2_hist, state2, axis=0)\n",
    "\n",
    "state2_hist=pd.DataFrame(state2_hist)\n",
    "state2_hist.plot()\n",
    "plt.show()"
   ]
  },
  {
   "cell_type": "code",
   "execution_count": 87,
   "metadata": {},
   "outputs": [
    {
     "data": {
      "image/png": "[encoded data removed]",
      "text/plain": [
       "<Figure size 432x288 with 1 Axes>"
      ]
     },
     "metadata": {
      "needs_background": "light"
     },
     "output_type": "display_data"
    }
   ],
   "source": [
    "state3=np.array([[0,0,0,0,0,1]])\n",
    "state3_hist=state3\n",
    "\n",
    "#number of fleas on Mac at t = 100'=x\n",
    "\n",
    "for i in range(100):\n",
    "    #state3과 P 내적 처리 한것. \n",
    "    state3=np.dot(state3, P)\n",
    "    #print(state2, (x+1))\n",
    "    state3_hist=np.append(state3_hist, state3, axis=0)\n",
    "\n",
    "state3_hist=pd.DataFrame(state3_hist)\n",
    "state3_hist.plot()\n",
    "plt.show()"
   ]
  },
  {
   "cell_type": "markdown",
   "metadata": {},
   "source": [
    "(d) Binomial 과 비교\n"
   ]
  },
  {
   "cell_type": "code",
   "execution_count": 89,
   "metadata": {},
   "outputs": [
    {
     "name": "stdout",
     "output_type": "stream",
     "text": [
      "{0: 1632, 1: 7964, 2: 15564, 3: 15426, 4: 7901, 5: 1514}\n"
     ]
    },
    {
     "data": {
      "text/plain": [
       "(array([0.03263935, 0.15927681, 0.31127377, 0.30851383, 0.15801684,\n",
       "        0.03027939]),\n",
       " array([-0.5,  0.5,  1.5,  2.5,  3.5,  4.5,  5.5]),\n",
       " <a list of 6 Patch objects>)"
      ]
     },
     "execution_count": 89,
     "metadata": {},
     "output_type": "execute_result"
    },
    {
     "data": {
      "image/png": "[encoded data removed]",
      "text/plain": [
       "<Figure size 432x288 with 1 Axes>"
      ]
     },
     "metadata": {
      "needs_background": "light"
     },
     "output_type": "display_data"
    }
   ],
   "source": [
    "np.random.seed(1)\n",
    "chain=0\n",
    "chainHist=chain\n",
    "for i in range(50000):\n",
    "    pb=P[chain]\n",
    "    pb=np.array(pb).flatten()\n",
    "    chain=np.random.choice(6,1,p=pb) #0,1,2,3,4,5 중 1개 \n",
    "    chainHist=np.append(chainHist,chain)\n",
    "\n",
    "count={}\n",
    "for i in chainHist:\n",
    "    try: count[i] += 1\n",
    "    except: count[i]=1\n",
    "print(count)\n",
    "\n",
    "\n",
    "plt.hist(chainHist, bins=np.linspace(-0.5,5.5,7),alpha=0.5, density=True, label = 'MCMC')"
   ]
  },
  {
   "cell_type": "code",
   "execution_count": 92,
   "metadata": {},
   "outputs": [
    {
     "data": {
      "image/png": "[encoded data removed]",
      "text/plain": [
       "<Figure size 432x288 with 1 Axes>"
      ]
     },
     "metadata": {
      "needs_background": "light"
     },
     "output_type": "display_data"
    }
   ],
   "source": [
    "bi=np.random.binomial(5, 0.5, 50000)\n",
    "plt.hist(bi,bins=np.linspace(-0.5,5.5,7), alpha=0.5, density=True)\n",
    "plt.show()"
   ]
  },
  {
   "cell_type": "code",
   "execution_count": null,
   "metadata": {},
   "outputs": [],
   "source": []
  }
 ],
 "metadata": {
  "kernelspec": {
   "display_name": "Python 3",
   "language": "python",
   "name": "python3"
  },
  "language_info": {
   "codemirror_mode": {
    "name": "ipython",
    "version": 3
   },
   "file_extension": ".py",
   "mimetype": "text/x-python",
   "name": "python",
   "nbconvert_exporter": "python",
   "pygments_lexer": "ipython3",
   "version": "3.8.3"
  }
 },
 "nbformat": 4,
 "nbformat_minor": 4
}
