{
 "cells": [
  {
   "cell_type": "markdown",
   "metadata": {},
   "source": [
    "# 1번"
   ]
  },
  {
   "cell_type": "code",
   "execution_count": 18,
   "metadata": {},
   "outputs": [],
   "source": [
    "import numpy as np\n",
    "import pandas as pd\n",
    "from random import random, seed\n",
    "import matplotlib.pyplot as plt\n",
    "import seaborn as sns\n",
    "from scipy.stats import norm, gamma, gaussian_kde\n",
    "import matplotlib.animation as animation"
   ]
  },
  {
   "cell_type": "markdown",
   "metadata": {},
   "source": [
    "## (a) Sample at least 5,000 y values from the posterior predictive distribution."
   ]
  },
  {
   "cell_type": "code",
   "execution_count": 19,
   "metadata": {},
   "outputs": [
    {
     "data": {
      "text/plain": [
       "array([3.41113219, 4.26947369, 6.19556875, ..., 4.07998045, 3.90093106,\n",
       "       6.61904702])"
      ]
     },
     "execution_count": 19,
     "metadata": {},
     "output_type": "execute_result"
    }
   ],
   "source": [
    "np.random.seed(2016131015)\n",
    "sigma = gamma.rvs(a=10, scale=1/2.5, size=5000)\n",
    "sigma"
   ]
  },
  {
   "cell_type": "code",
   "execution_count": 21,
   "metadata": {},
   "outputs": [
    {
     "data": {
      "text/plain": [
       "array([4.77083027, 3.81734888, 3.80603152, ..., 3.74951541, 4.57913106,\n",
       "       5.38978197])"
      ]
     },
     "execution_count": 21,
     "metadata": {},
     "output_type": "execute_result"
    }
   ],
   "source": [
    "np.random.seed(1)\n",
    "theta = []\n",
    "for i in range(len(sigma)):\n",
    "    theta=np.append(theta,norm.rvs(loc=4.1, scale = np.sqrt((sigma[i])/20), size=1))\n",
    "theta"
   ]
  },
  {
   "cell_type": "code",
   "execution_count": 23,
   "metadata": {},
   "outputs": [
    {
     "data": {
      "text/plain": [
       "array([11.00295685, 10.15837612,  4.35565706, ...,  6.51887794,\n",
       "        9.93552483, 10.46955089])"
      ]
     },
     "execution_count": 23,
     "metadata": {},
     "output_type": "execute_result"
    }
   ],
   "source": [
    "np.random.seed(2016131015)\n",
    "\n",
    "y = []\n",
    "for i in range(len(sigma)):\n",
    "    y=np.append(y,\n",
    "                   0.31 * norm.rvs(loc = theta[i], scale = np.sqrt(sigma[i]), size = 1) + \n",
    "                   0.46 * norm.rvs(loc = 2 * theta[i], scale = 2 * np.sqrt(sigma[i]), size = 1) +\n",
    "                   0.23 * norm.rvs(loc = 3 * theta[i], scale = 3 * np.sqrt(sigma[i]), size = 1))\n",
    "y"
   ]
  },
  {
   "cell_type": "markdown",
   "metadata": {},
   "source": [
    "## (b) Form a 75% quantile-based confidence interval for a new value of Y."
   ]
  },
  {
   "cell_type": "code",
   "execution_count": 24,
   "metadata": {},
   "outputs": [
    {
     "ename": "NameError",
     "evalue": "name 'y_mc' is not defined",
     "output_type": "error",
     "traceback": [
      "\u001b[1;31m---------------------------------------------------------------------------\u001b[0m",
      "\u001b[1;31mNameError\u001b[0m                                 Traceback (most recent call last)",
      "\u001b[1;32m<ipython-input-24-e9a8cfcc5f5b>\u001b[0m in \u001b[0;36m<module>\u001b[1;34m\u001b[0m\n\u001b[1;32m----> 1\u001b[1;33m \u001b[0mCI\u001b[0m \u001b[1;33m=\u001b[0m \u001b[1;33m(\u001b[0m\u001b[0mnp\u001b[0m\u001b[1;33m.\u001b[0m\u001b[0mquantile\u001b[0m\u001b[1;33m(\u001b[0m\u001b[0my_mc\u001b[0m\u001b[1;33m,\u001b[0m \u001b[1;36m0.125\u001b[0m\u001b[1;33m)\u001b[0m\u001b[1;33m,\u001b[0m \u001b[0mnp\u001b[0m\u001b[1;33m.\u001b[0m\u001b[0mquantile\u001b[0m\u001b[1;33m(\u001b[0m\u001b[0my_mc\u001b[0m\u001b[1;33m,\u001b[0m \u001b[1;36m0.875\u001b[0m\u001b[1;33m)\u001b[0m\u001b[1;33m)\u001b[0m\u001b[1;33m\u001b[0m\u001b[1;33m\u001b[0m\u001b[0m\n\u001b[0m\u001b[0;32m      2\u001b[0m \u001b[0mCI\u001b[0m\u001b[1;33m\u001b[0m\u001b[1;33m\u001b[0m\u001b[0m\n",
      "\u001b[1;31mNameError\u001b[0m: name 'y_mc' is not defined"
     ]
    }
   ],
   "source": [
    "CI = (np.quantile(y_mc, 0.125), np.quantile(y_mc, 0.875))\n",
    "CI"
   ]
  },
  {
   "cell_type": "markdown",
   "metadata": {},
   "source": [
    "## (c) Form a 75% HPD(Highest Posterior Density) region for a new Y as follows:"
   ]
  },
  {
   "cell_type": "code",
   "execution_count": 25,
   "metadata": {},
   "outputs": [
    {
     "data": {
      "image/png": "[encoded data removed]",
      "text/plain": [
       "<Figure size 864x576 with 1 Axes>"
      ]
     },
     "metadata": {
      "needs_background": "light"
     },
     "output_type": "display_data"
    }
   ],
   "source": [
    "plt.figure(figsize=(12, 8))\n",
    "plt.hist(y, bins = 70, color='blue', density = True)\n",
    "plt.xlabel(r'y | $\\theta$, $\\sigma^2$')\n",
    "plt.show()"
   ]
  },
  {
   "cell_type": "code",
   "execution_count": 27,
   "metadata": {},
   "outputs": [
    {
     "data": {
      "text/plain": [
       "array([1.55616031e-01, 1.55615502e-01, 1.55613144e-01, ...,\n",
       "       4.20004109e-12, 3.72875225e-12, 3.30900934e-12])"
      ]
     },
     "execution_count": 27,
     "metadata": {},
     "output_type": "execute_result"
    }
   ],
   "source": [
    "pdf_sort = pdf_kde.copy()\n",
    "pdf_sort.sort()\n",
    "pdf_sort = pdf_sort[::-1]\n",
    "pdf_sort"
   ]
  },
  {
   "cell_type": "code",
   "execution_count": 28,
   "metadata": {},
   "outputs": [],
   "source": [
    "i = 0\n",
    "while True:\n",
    "    i += 1\n",
    "    if 0.01 * pdf_sort[0:i].sum()>= 0.75:    \n",
    "        break\n",
    "        \n",
    "pdf_H1 = pdf_sort[i-1]\n",
    "pdf_H2 = pdf_sort[i]"
   ]
  },
  {
   "cell_type": "code",
   "execution_count": 29,
   "metadata": {},
   "outputs": [
    {
     "data": {
      "text/plain": [
       "[4.87, 7.9]"
      ]
     },
     "execution_count": 29,
     "metadata": {},
     "output_type": "execute_result"
    }
   ],
   "source": [
    "CI_H = [np.round(y[np.where(pdf_kde == pdf_H1)][0],2), np.round(y[np.where(pdf_kde == pdf_H2)][0],2)]\n",
    "CI_H.reverse()\n",
    "CI_H"
   ]
  },
  {
   "cell_type": "markdown",
   "metadata": {},
   "source": [
    "# 2번"
   ]
  },
  {
   "cell_type": "code",
   "execution_count": 30,
   "metadata": {},
   "outputs": [],
   "source": [
    "import numpy as np\n",
    "import pandas as pd\n",
    "from random import seed\n",
    "from random import random\n",
    "import matplotlib.pyplot as plt"
   ]
  },
  {
   "cell_type": "markdown",
   "metadata": {},
   "source": [
    "## (a)"
   ]
  },
  {
   "cell_type": "code",
   "execution_count": 31,
   "metadata": {},
   "outputs": [],
   "source": [
    "P = np.array([[0.5, 0.5, 0, 0, 0, 0],\n",
    "              [0.1, 0.5, 0.4, 0, 0, 0],\n",
    "              [0, 0.2, 0.5, 0.3, 0, 0],\n",
    "              [0, 0, 0.3, 0.5, 0.2, 0],\n",
    "              [0, 0, 0, 0.4, 0.5, 0.1],\n",
    "              [0, 0, 0, 0, 0.5, 0.5]])"
   ]
  },
  {
   "cell_type": "markdown",
   "metadata": {},
   "source": [
    "## (b)"
   ]
  },
  {
   "cell_type": "code",
   "execution_count": 3,
   "metadata": {},
   "outputs": [
    {
     "name": "stdout",
     "output_type": "stream",
     "text": [
      "[[0.04581862 0.19763594 0.33704986 0.28341519 0.11713152 0.01894886]\n",
      " [0.03952719 0.18063857 0.32815787 0.29593513 0.13231494 0.0234263 ]\n",
      " [0.03370499 0.16407894 0.31832745 0.30757955 0.14796756 0.02834152]\n",
      " [0.02834152 0.14796756 0.30757955 0.31832745 0.16407894 0.03370499]\n",
      " [0.0234263  0.13231494 0.29593513 0.32815787 0.18063857 0.03952719]\n",
      " [0.01894886 0.11713152 0.28341519 0.33704986 0.19763594 0.04581862]]\n"
     ]
    }
   ],
   "source": [
    "P10=P\n",
    "for i in range(10):\n",
    "    P10=P10.dot(P)\n",
    "print(P10)"
   ]
  },
  {
   "cell_type": "code",
   "execution_count": 4,
   "metadata": {},
   "outputs": [
    {
     "name": "stdout",
     "output_type": "stream",
     "text": [
      "[[0.03125178 0.15625535 0.31250357 0.31249643 0.15624465 0.03124822]\n",
      " [0.03125107 0.15625321 0.31250214 0.31249786 0.15624679 0.03124893]\n",
      " [0.03125036 0.15625107 0.31250071 0.31249929 0.15624893 0.03124964]\n",
      " [0.03124964 0.15624893 0.31249929 0.31250071 0.15625107 0.03125036]\n",
      " [0.03124893 0.15624679 0.31249786 0.31250214 0.15625321 0.03125107]\n",
      " [0.03124822 0.15624465 0.31249643 0.31250357 0.15625535 0.03125178]]\n"
     ]
    }
   ],
   "source": [
    "P50=P\n",
    "for i in range(50):\n",
    "    P50=P50.dot(P)\n",
    "print(P50)"
   ]
  },
  {
   "cell_type": "code",
   "execution_count": 6,
   "metadata": {},
   "outputs": [
    {
     "name": "stdout",
     "output_type": "stream",
     "text": [
      "[[0.03125 0.15625 0.3125  0.3125  0.15625 0.03125]\n",
      " [0.03125 0.15625 0.3125  0.3125  0.15625 0.03125]\n",
      " [0.03125 0.15625 0.3125  0.3125  0.15625 0.03125]\n",
      " [0.03125 0.15625 0.3125  0.3125  0.15625 0.03125]\n",
      " [0.03125 0.15625 0.3125  0.3125  0.15625 0.03125]\n",
      " [0.03125 0.15625 0.3125  0.3125  0.15625 0.03125]]\n"
     ]
    }
   ],
   "source": [
    "P100=P\n",
    "for i in range(100):\n",
    "    P100=P100.dot(P)\n",
    "print(P100)"
   ]
  },
  {
   "cell_type": "markdown",
   "metadata": {},
   "source": [
    "## (c)"
   ]
  },
  {
   "cell_type": "code",
   "execution_count": 7,
   "metadata": {},
   "outputs": [
    {
     "data": {
      "image/png": "[encoded data removed]",
      "text/plain": [
       "<Figure size 432x288 with 1 Axes>"
      ]
     },
     "metadata": {
      "needs_background": "light"
     },
     "output_type": "display_data"
    }
   ],
   "source": [
    "state1=np.array([[1,0,0,0,0,0]])\n",
    "state1_hist=state1\n",
    "\n",
    "for i in range(100):\n",
    "    state1=np.dot(state1, P)\n",
    "    state1_hist=np.append(state1_hist, state1, axis=0)\n",
    "\n",
    "state1_hist=pd.DataFrame(state1_hist)\n",
    "state1_hist.plot()\n",
    "plt.show()"
   ]
  },
  {
   "cell_type": "code",
   "execution_count": 8,
   "metadata": {},
   "outputs": [
    {
     "data": {
      "image/png": "[encoded data removed]",
      "text/plain": [
       "<Figure size 432x288 with 1 Axes>"
      ]
     },
     "metadata": {
      "needs_background": "light"
     },
     "output_type": "display_data"
    }
   ],
   "source": [
    "state2=np.array([[0,0,1,0,0,0]])\n",
    "state2_hist=state2\n",
    "\n",
    "for i in range(100):\n",
    "    state2=np.dot(state2, P)\n",
    "    state2_hist=np.append(state2_hist, state2, axis=0)\n",
    "\n",
    "state2_hist=pd.DataFrame(state2_hist)\n",
    "state2_hist.plot()\n",
    "plt.show()\n"
   ]
  },
  {
   "cell_type": "code",
   "execution_count": 10,
   "metadata": {},
   "outputs": [
    {
     "data": {
      "image/png": "[encoded data removed]",
      "text/plain": [
       "<Figure size 432x288 with 1 Axes>"
      ]
     },
     "metadata": {
      "needs_background": "light"
     },
     "output_type": "display_data"
    }
   ],
   "source": [
    "state3=np.array([[0,0,0,0,0,1]])\n",
    "state3_hist=state3\n",
    "\n",
    "for i in range(100):\n",
    "    state3=np.dot(state3, P)\n",
    "    state3_hist=np.append(state3_hist, state3, axis=0)\n",
    "\n",
    "state3_hist=pd.DataFrame(state3_hist)\n",
    "state3_hist.plot()\n",
    "plt.show()"
   ]
  },
  {
   "cell_type": "markdown",
   "metadata": {},
   "source": [
    "## (d)"
   ]
  },
  {
   "cell_type": "code",
   "execution_count": 11,
   "metadata": {},
   "outputs": [
    {
     "name": "stdout",
     "output_type": "stream",
     "text": [
      "{0: 1632, 1: 7964, 2: 15564, 3: 15426, 4: 7901, 5: 1514}\n"
     ]
    }
   ],
   "source": [
    "np.random.seed(1)\n",
    "chain=0\n",
    "chainHist=chain\n",
    "for i in range(50000):\n",
    "    pb=P[chain]\n",
    "    pb=np.array(pb).flatten()\n",
    "    chain=np.random.choice(6,1,p=pb)\n",
    "    chainHist=np.append(chainHist,chain)\n",
    "\n",
    "count={}\n",
    "for i in chainHist:\n",
    "    try: count[i] += 1\n",
    "    except: count[i]=1\n",
    "print(count)"
   ]
  },
  {
   "cell_type": "code",
   "execution_count": 13,
   "metadata": {},
   "outputs": [
    {
     "data": {
      "image/png": "[encoded data removed]",
      "text/plain": [
       "<Figure size 432x288 with 1 Axes>"
      ]
     },
     "metadata": {
      "needs_background": "light"
     },
     "output_type": "display_data"
    }
   ],
   "source": [
    "plt.figure()\n",
    "bi=np.random.binomial(5, 0.5, 50000)\n",
    "plt.hist(bi,bins=np.linspace(-0.5,5.5,7), alpha=0.5, density=True)\n",
    "plt.show()"
   ]
  },
  {
   "cell_type": "code",
   "execution_count": 14,
   "metadata": {},
   "outputs": [
    {
     "data": {
      "image/png": "[encoded data removed]",
      "text/plain": [
       "<Figure size 432x288 with 1 Axes>"
      ]
     },
     "metadata": {
      "needs_background": "light"
     },
     "output_type": "display_data"
    }
   ],
   "source": [
    "plt.figure()\n",
    "plt.hist(chainHist, bins=np.linspace(-0.5,5.5,7),alpha=0.5, density=True)\n",
    "plt.show()"
   ]
  },
  {
   "cell_type": "code",
   "execution_count": 15,
   "metadata": {},
   "outputs": [
    {
     "data": {
      "text/plain": [
       "array([0., 0., 0., 0., 0., 0.])"
      ]
     },
     "execution_count": 15,
     "metadata": {},
     "output_type": "execute_result"
    }
   ],
   "source": [
    "P_b=np.zeros(6)\n",
    "P_b"
   ]
  },
  {
   "cell_type": "code",
   "execution_count": 16,
   "metadata": {},
   "outputs": [
    {
     "data": {
      "text/plain": [
       "array([0.03264, 0.15928, 0.31128, 0.30852, 0.15802, 0.03028])"
      ]
     },
     "execution_count": 16,
     "metadata": {},
     "output_type": "execute_result"
    }
   ],
   "source": [
    "P_b=np.zeros(6)\n",
    "for i,j in enumerate(count.keys()):\n",
    "    P_b[j]=count[i]\n",
    "    \n",
    "P_b=P_b/50000\n",
    "P_b"
   ]
  },
  {
   "cell_type": "code",
   "execution_count": 17,
   "metadata": {},
   "outputs": [
    {
     "data": {
      "text/plain": [
       "array([0.03125, 0.15625, 0.3125 , 0.3125 , 0.15625, 0.03125])"
      ]
     },
     "execution_count": 17,
     "metadata": {},
     "output_type": "execute_result"
    }
   ],
   "source": [
    "np.array(state1_hist.iloc[99,])"
   ]
  },
  {
   "cell_type": "code",
   "execution_count": null,
   "metadata": {},
   "outputs": [],
   "source": []
  }
 ],
 "metadata": {
  "kernelspec": {
   "display_name": "Python 3",
   "language": "python",
   "name": "python3"
  },
  "language_info": {
   "codemirror_mode": {
    "name": "ipython",
    "version": 3
   },
   "file_extension": ".py",
   "mimetype": "text/x-python",
   "name": "python",
   "nbconvert_exporter": "python",
   "pygments_lexer": "ipython3",
   "version": "3.7.6"
  }
 },
 "nbformat": 4,
 "nbformat_minor": 4
}
